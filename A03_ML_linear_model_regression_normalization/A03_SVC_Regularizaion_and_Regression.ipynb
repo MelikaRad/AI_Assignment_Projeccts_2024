{
 "cells": [
  {
   "cell_type": "markdown",
   "id": "872bd3c2",
   "metadata": {},
   "source": [
    "### AI Assignments No. 3"
   ]
  },
  {
   "cell_type": "code",
   "execution_count": 1,
   "id": "3fbd0980",
   "metadata": {},
   "outputs": [],
   "source": [
    "import matplotlib.pyplot as plt\n",
    "import numpy as np\n",
    "import pandas as pd\n",
    "import cv2\n",
    "from scipy import io\n",
    "from load_hoda import load_hoda\n",
    "\n",
    "from sklearn.model_selection import train_test_split\n",
    "from sklearn.svm import LinearSVC\n",
    "from sklearn.linear_model import LogisticRegression\n",
    "from sklearn.linear_model import LinearRegression\n",
    "from sklearn.metrics import mean_squared_error, r2_score\n",
    "from sklearn.metrics import accuracy_score"
   ]
  },
  {
   "cell_type": "markdown",
   "id": "82b93c03",
   "metadata": {},
   "source": [
    "<div style=\"background-color: #c3e8fb; padding: 10px; color: #144d84;\">\n",
    "<b>Question 1) SVC Classifier</b><br>\n",
    "Train a LinearSVC on the Hoda dataset and print the accuracy on the test set.\n",
    "Does your model learn?\n",
    "Now divide the dataset by 255 and train again.\n",
    "Do you observe any difference in the model's learning? Why is that?\n",
    "Plot a few error samples. Can you analyze the reasons for the errors?\n",
    "</div>"
   ]
  },
  {
   "cell_type": "code",
   "execution_count": 3,
   "id": "3e8de63f",
   "metadata": {},
   "outputs": [],
   "source": [
    "X_train, y_train, X_test, y_test = load_hoda(size = 5)"
   ]
  },
  {
   "cell_type": "code",
   "execution_count": 4,
   "id": "5542fd2f",
   "metadata": {},
   "outputs": [
    {
     "name": "stdout",
     "output_type": "stream",
     "text": [
      "(1000, 25) (200, 25) (1000,) (200,)\n"
     ]
    }
   ],
   "source": [
    "print(X_train.shape , X_test.shape , y_train.shape , y_test.shape)"
   ]
  },
  {
   "cell_type": "code",
   "execution_count": 5,
   "id": "728ff1ed",
   "metadata": {},
   "outputs": [
    {
     "data": {
      "text/plain": [
       "array([153, 229,   0,   0, 255, 255,   0,  77, 255,   0,   0, 255, 255,\n",
       "         0,   0,   0, 255,  77,   0,   0,   0, 255,   0,   0,   0],\n",
       "      dtype=uint8)"
      ]
     },
     "execution_count": 5,
     "metadata": {},
     "output_type": "execute_result"
    }
   ],
   "source": [
    "X_train[0]"
   ]
  },
  {
   "cell_type": "code",
   "execution_count": 6,
   "id": "65ad0042",
   "metadata": {},
   "outputs": [
    {
     "name": "stdout",
     "output_type": "stream",
     "text": [
      "accuracy without normalization: 0.75\n"
     ]
    },
    {
     "name": "stderr",
     "output_type": "stream",
     "text": [
      "C:\\Users\\Lee\\AppData\\Local\\Programs\\Python\\Python310\\lib\\site-packages\\sklearn\\svm\\_base.py:1225: ConvergenceWarning: Liblinear failed to converge, increase the number of iterations.\n",
      "  warnings.warn(\n"
     ]
    }
   ],
   "source": [
    "model = LinearSVC()\n",
    "model.fit(X_train, y_train)\n",
    "y_pred = model.predict(X_test)\n",
    "\n",
    "accuracy = accuracy_score(y_test, y_pred)\n",
    "print(f\"accuracy without normalization: {accuracy:.2f}\")"
   ]
  },
  {
   "cell_type": "markdown",
   "id": "1c8017ed",
   "metadata": {},
   "source": [
    "It seems it can be trained"
   ]
  },
  {
   "cell_type": "code",
   "execution_count": 7,
   "id": "02503ae0",
   "metadata": {},
   "outputs": [],
   "source": [
    "X_train = X_train/ 255.0\n",
    "X_test = X_test/ 255.0"
   ]
  },
  {
   "cell_type": "code",
   "execution_count": 8,
   "id": "a33ea6f1",
   "metadata": {},
   "outputs": [
    {
     "data": {
      "text/plain": [
       "array([0.6       , 0.89803922, 0.        , 0.        , 1.        ,\n",
       "       1.        , 0.        , 0.30196078, 1.        , 0.        ,\n",
       "       0.        , 1.        , 1.        , 0.        , 0.        ,\n",
       "       0.        , 1.        , 0.30196078, 0.        , 0.        ,\n",
       "       0.        , 1.        , 0.        , 0.        , 0.        ])"
      ]
     },
     "execution_count": 8,
     "metadata": {},
     "output_type": "execute_result"
    }
   ],
   "source": [
    "X_train[0]"
   ]
  },
  {
   "cell_type": "code",
   "execution_count": 9,
   "id": "ff83e885",
   "metadata": {},
   "outputs": [
    {
     "name": "stdout",
     "output_type": "stream",
     "text": [
      "accuracy with normalization: 0.91\n"
     ]
    }
   ],
   "source": [
    "model = LinearSVC()\n",
    "model.fit(X_train, y_train)\n",
    "\n",
    "y_pred_normalized = model.predict(X_test)\n",
    "\n",
    "accuracy = accuracy_score(y_test, y_pred_normalized)\n",
    "print(f\"accuracy with normalization: {accuracy:.2f}\")"
   ]
  },
  {
   "cell_type": "markdown",
   "id": "c2fd88f1",
   "metadata": {},
   "source": [
    "we can observe that the accuracy increases"
   ]
  },
  {
   "cell_type": "markdown",
   "id": "ec8e667d",
   "metadata": {},
   "source": [
    "Showing some of the incorrect predictions"
   ]
  },
  {
   "cell_type": "code",
   "execution_count": 10,
   "id": "e7fac4f9",
   "metadata": {},
   "outputs": [],
   "source": [
    "incorrect_indices = np.where(y_pred_normalized != y_test)[0]\n",
    "incorrect_samples = X_test[incorrect_indices]\n",
    "incorrect_labels = y_test[incorrect_indices]\n",
    "predicted_labels = y_pred_normalized[incorrect_indices]"
   ]
  },
  {
   "cell_type": "code",
   "execution_count": 11,
   "id": "fc2ac60f",
   "metadata": {},
   "outputs": [
    {
     "data": {
      "image/png": "[encoded data removed]",
      "text/plain": [
       "<Figure size 1000x500 with 5 Axes>"
      ]
     },
     "metadata": {},
     "output_type": "display_data"
    }
   ],
   "source": [
    "import matplotlib.pyplot as plt\n",
    "\n",
    "num_samples_to_show = 5\n",
    "\n",
    "plt.figure(figsize=(10, 5))\n",
    "for i in range(num_samples_to_show):\n",
    "    plt.subplot(1, num_samples_to_show, i + 1)\n",
    "    plt.imshow(incorrect_samples[i].reshape(5, 5), cmap='gray') \n",
    "    plt.title(f\"true: {incorrect_labels[i]}\\npredicted: {predicted_labels[i]}\")\n",
    "    plt.axis('off')\n",
    "\n",
    "plt.tight_layout()"
   ]
  },
  {
   "cell_type": "markdown",
   "id": "a3ee465e",
   "metadata": {},
   "source": [
    "Possible Reasons for Errors\n",
    "\n",
    "Inappropriate Image Size: The image size might not be suitable, and a larger size might be needed.   \n",
    "Data Variability: Some digits in the dataset might be written similarly or contain noise, confusing the model.  \n",
    "Insufficient Data: If there are too few training samples for certain digits, the model cannot learn their patterns well.  \n",
    "Model Complexity: If the model is too simple, it might not be able to recognize more complex patterns.  \n",
    "Inadequate Normalization: If normalization is not done correctly or if the data has different scales, the model might have lower accuracy.  "
   ]
  },
  {
   "cell_type": "markdown",
   "id": "22f0afdd",
   "metadata": {},
   "source": [
    "___"
   ]
  },
  {
   "cell_type": "markdown",
   "id": "39d7fa41",
   "metadata": {},
   "source": [
    "<div style=\"background-color: #c3e8fb; padding: 10px; color: #144d84;\">\n",
    "<b>Question 2) Using Linear Models for Handwritten Digit Recognition</b><br>\n",
    "Assuming the images in the Hoda dataset are 5x5, classify them using a linear Logistic Regression model. Then, apply regularization using the L1 and L2 penalties, which we learned about in the Lasso and Ridge sections (for more information, see: regression-learn.org/stable/modules/linear_model.html). Does using this method improve the situation in this dataset? Why do you think that? Please explain in a document or at the end of your notebook file.\n",
    "</div>"
   ]
  },
  {
   "cell_type": "code",
   "execution_count": 12,
   "id": "060bb6c2",
   "metadata": {},
   "outputs": [],
   "source": [
    "X_train, y_train, X_test, y_test = load_hoda(size = 14)\n",
    "\n",
    "X_train = X_train/ 255.0\n",
    "X_test = X_test/ 255.0"
   ]
  },
  {
   "cell_type": "code",
   "execution_count": 13,
   "id": "d359f7af",
   "metadata": {},
   "outputs": [
    {
     "name": "stdout",
     "output_type": "stream",
     "text": [
      "acc without regularization: 0.95\n"
     ]
    }
   ],
   "source": [
    "model = LogisticRegression(max_iter=1000)\n",
    "model.fit(X_train, y_train)\n",
    "\n",
    "y_pred = model.predict(X_test)\n",
    "\n",
    "accuracy = accuracy_score(y_test, y_pred)\n",
    "print(f\"acc without regularization: {accuracy:.2f}\")"
   ]
  },
  {
   "cell_type": "code",
   "execution_count": 14,
   "id": "f96b0d96",
   "metadata": {},
   "outputs": [
    {
     "name": "stdout",
     "output_type": "stream",
     "text": [
      "acc with L1 regularization: 0.07\n",
      "acc with L1 regularization: 0.31\n",
      "acc with L1 regularization: 0.92\n",
      "acc with L1 regularization: 0.95\n",
      "acc with L1 regularization: 0.94\n",
      "acc with L1 regularization: 0.95\n",
      "acc with L1 regularization: 0.95\n",
      "acc with L1 regularization: 0.94\n"
     ]
    }
   ],
   "source": [
    "C=[0.001,0.01,0.1,1,10,100,1000, 10000]\n",
    "    \n",
    "for c in C:\n",
    "    model_l1 = LogisticRegression(penalty='l1', solver='liblinear', max_iter=1000, C=c)\n",
    "    model_l1.fit(X_train, y_train)\n",
    "\n",
    "    y_pred_l1 = model_l1.predict(X_test)\n",
    "\n",
    "    accuracy_l1 = accuracy_score(y_test, y_pred_l1)\n",
    "    print(f\"acc with L1 regularization: {accuracy_l1:.2f}\")"
   ]
  },
  {
   "cell_type": "code",
   "execution_count": 15,
   "id": "8a3ce6e4",
   "metadata": {},
   "outputs": [
    {
     "name": "stdout",
     "output_type": "stream",
     "text": [
      "acc with L2 regularization: 0.79\n",
      "acc with L2 regularization: 0.91\n",
      "acc with L2 regularization: 0.94\n",
      "acc with L2 regularization: 0.95\n",
      "acc with L2 regularization: 0.95\n",
      "acc with L2 regularization: 0.94\n",
      "acc with L2 regularization: 0.94\n",
      "acc with L2 regularization: 0.94\n"
     ]
    }
   ],
   "source": [
    "C=[0.001,0.01,0.1,1,10,100,1000, 10000]\n",
    "    \n",
    "for c in C:\n",
    "    model_l2 = LogisticRegression(penalty='l2', solver='liblinear', max_iter=1000, C=c)\n",
    "    model_l2.fit(X_train, y_train)\n",
    "\n",
    "    y_pred_l2 = model_l2.predict(X_test)\n",
    "\n",
    "    accuracy_l2 = accuracy_score(y_test, y_pred_l2)\n",
    "    print(f\"acc with L2 regularization: {accuracy_l2:.2f}\")"
   ]
  },
  {
   "cell_type": "markdown",
   "id": "0284a6ec",
   "metadata": {},
   "source": [
    "Does using regularization methods improve the situation?\n",
    "\n",
    "    L1 Regularization: This method, due to its ability to eliminate non-useful features, may increase accuracy. If some features have little impact on predictions, this method can set them to zero, resulting in a simpler and more interpretable model.\n",
    "    L2 Regularization: This method helps distribute weights and prevents any feature from having too much influence. If the data contains noise or correlated features, it can help improve the model's performance.\n",
    "\n",
    "In general, using L1 and L2 regularization methods usually helps reduce overfitting and improves the overall performance of the model."
   ]
  },
  {
   "cell_type": "markdown",
   "id": "b8e1211e",
   "metadata": {},
   "source": [
    "___"
   ]
  },
  {
   "cell_type": "markdown",
   "id": "c5afc5a4",
   "metadata": {},
   "source": [
    "<div style=\"background-color: #c3e8fb; padding: 10px; color: #144d84;\">\n",
    "<b>Question 3) House Price Regression</b><br>\n",
    "Please load the house price dataset using the following command and set aside a portion for testing. Then, train a linear regression model on it: (Note: The specific command for loading the dataset is not provided in the query, so you would need to specify that based on your dataset and environment.)\n",
    "</div>"
   ]
  },
  {
   "cell_type": "code",
   "execution_count": 16,
   "id": "c3110a0c",
   "metadata": {},
   "outputs": [],
   "source": [
    "file_url = \"https://raw.githubusercontent.com/emanhamed/Houses-dataset/master/Houses%20Dataset/HousesInfo.txt\"\n",
    "columns = [\"bedroom\", \"bathroom\", \"area\", \"zipcodes\", \"price\"]"
   ]
  },
  {
   "cell_type": "code",
   "execution_count": 17,
   "id": "d0bd0275",
   "metadata": {},
   "outputs": [
    {
     "data": {
      "text/html": [
       "<div>\n",
       "<style scoped>\n",
       "    .dataframe tbody tr th:only-of-type {\n",
       "        vertical-align: middle;\n",
       "    }\n",
       "\n",
       "    .dataframe tbody tr th {\n",
       "        vertical-align: top;\n",
       "    }\n",
       "\n",
       "    .dataframe thead th {\n",
       "        text-align: right;\n",
       "    }\n",
       "</style>\n",
       "<table border=\"1\" class=\"dataframe\">\n",
       "  <thead>\n",
       "    <tr style=\"text-align: right;\">\n",
       "      <th></th>\n",
       "      <th>bedroom</th>\n",
       "      <th>bathroom</th>\n",
       "      <th>area</th>\n",
       "      <th>zipcodes</th>\n",
       "      <th>price</th>\n",
       "    </tr>\n",
       "  </thead>\n",
       "  <tbody>\n",
       "    <tr>\n",
       "      <th>0</th>\n",
       "      <td>4</td>\n",
       "      <td>4.0</td>\n",
       "      <td>4053</td>\n",
       "      <td>85255</td>\n",
       "      <td>869500</td>\n",
       "    </tr>\n",
       "    <tr>\n",
       "      <th>1</th>\n",
       "      <td>4</td>\n",
       "      <td>3.0</td>\n",
       "      <td>3343</td>\n",
       "      <td>36372</td>\n",
       "      <td>865200</td>\n",
       "    </tr>\n",
       "    <tr>\n",
       "      <th>2</th>\n",
       "      <td>3</td>\n",
       "      <td>4.0</td>\n",
       "      <td>3923</td>\n",
       "      <td>85266</td>\n",
       "      <td>889000</td>\n",
       "    </tr>\n",
       "    <tr>\n",
       "      <th>3</th>\n",
       "      <td>5</td>\n",
       "      <td>5.0</td>\n",
       "      <td>4022</td>\n",
       "      <td>85262</td>\n",
       "      <td>910000</td>\n",
       "    </tr>\n",
       "    <tr>\n",
       "      <th>4</th>\n",
       "      <td>3</td>\n",
       "      <td>4.0</td>\n",
       "      <td>4116</td>\n",
       "      <td>85266</td>\n",
       "      <td>971226</td>\n",
       "    </tr>\n",
       "    <tr>\n",
       "      <th>...</th>\n",
       "      <td>...</td>\n",
       "      <td>...</td>\n",
       "      <td>...</td>\n",
       "      <td>...</td>\n",
       "      <td>...</td>\n",
       "    </tr>\n",
       "    <tr>\n",
       "      <th>530</th>\n",
       "      <td>5</td>\n",
       "      <td>2.0</td>\n",
       "      <td>2066</td>\n",
       "      <td>94531</td>\n",
       "      <td>399900</td>\n",
       "    </tr>\n",
       "    <tr>\n",
       "      <th>531</th>\n",
       "      <td>4</td>\n",
       "      <td>3.5</td>\n",
       "      <td>9536</td>\n",
       "      <td>94531</td>\n",
       "      <td>460000</td>\n",
       "    </tr>\n",
       "    <tr>\n",
       "      <th>532</th>\n",
       "      <td>3</td>\n",
       "      <td>2.0</td>\n",
       "      <td>2014</td>\n",
       "      <td>94531</td>\n",
       "      <td>407000</td>\n",
       "    </tr>\n",
       "    <tr>\n",
       "      <th>533</th>\n",
       "      <td>4</td>\n",
       "      <td>3.0</td>\n",
       "      <td>2312</td>\n",
       "      <td>94531</td>\n",
       "      <td>419000</td>\n",
       "    </tr>\n",
       "    <tr>\n",
       "      <th>534</th>\n",
       "      <td>5</td>\n",
       "      <td>3.0</td>\n",
       "      <td>3796</td>\n",
       "      <td>94531</td>\n",
       "      <td>615000</td>\n",
       "    </tr>\n",
       "  </tbody>\n",
       "</table>\n",
       "<p>535 rows × 5 columns</p>\n",
       "</div>"
      ],
      "text/plain": [
       "     bedroom  bathroom  area  zipcodes   price\n",
       "0          4       4.0  4053     85255  869500\n",
       "1          4       3.0  3343     36372  865200\n",
       "2          3       4.0  3923     85266  889000\n",
       "3          5       5.0  4022     85262  910000\n",
       "4          3       4.0  4116     85266  971226\n",
       "..       ...       ...   ...       ...     ...\n",
       "530        5       2.0  2066     94531  399900\n",
       "531        4       3.5  9536     94531  460000\n",
       "532        3       2.0  2014     94531  407000\n",
       "533        4       3.0  2312     94531  419000\n",
       "534        5       3.0  3796     94531  615000\n",
       "\n",
       "[535 rows x 5 columns]"
      ]
     },
     "execution_count": 17,
     "metadata": {},
     "output_type": "execute_result"
    }
   ],
   "source": [
    "df = pd.read_csv(file_url, sep=\" \", names= columns)\n",
    "df"
   ]
  },
  {
   "cell_type": "markdown",
   "id": "0265ae63",
   "metadata": {},
   "source": [
    "let's look at correlation between each feature and the price"
   ]
  },
  {
   "cell_type": "code",
   "execution_count": 18,
   "id": "6d6456bf",
   "metadata": {},
   "outputs": [
    {
     "data": {
      "image/png": "[encoded data removed]",
      "text/plain": [
       "<Figure size 1000x500 with 4 Axes>"
      ]
     },
     "metadata": {},
     "output_type": "display_data"
    }
   ],
   "source": [
    "plt.figure(figsize=(10, 5))\n",
    "for i,c in enumerate(columns[0:4]):\n",
    "    plt.subplot(1, len(columns)-1 , i + 1)\n",
    "    plt.scatter(df[c], df[\"price\"]) \n",
    "    plt.title(columns[i])\n",
    "    plt.axis('off')\n",
    "\n",
    "# plt.tight_layout()"
   ]
  },
  {
   "cell_type": "code",
   "execution_count": 19,
   "id": "81ab6318",
   "metadata": {},
   "outputs": [],
   "source": [
    "X = df[[\"bedroom\", \"bathroom\", \"area\", \"zipcodes\"]]\n",
    "y = df[\"price\"]\n",
    "\n",
    "X_train, X_test, y_train, y_test = train_test_split(X, y, test_size=0.2, random_state=42)"
   ]
  },
  {
   "cell_type": "code",
   "execution_count": 20,
   "id": "c2ea3479",
   "metadata": {},
   "outputs": [],
   "source": [
    "model = LinearRegression()\n",
    "model.fit(X_train, y_train)\n",
    "\n",
    "y_pred = model.predict(X_test)"
   ]
  },
  {
   "cell_type": "code",
   "execution_count": 21,
   "id": "81708de0",
   "metadata": {},
   "outputs": [
    {
     "name": "stdout",
     "output_type": "stream",
     "text": [
      "889000 197814.98505109083\n"
     ]
    }
   ],
   "source": [
    "print(y[2], y_pred[2])"
   ]
  },
  {
   "cell_type": "code",
   "execution_count": 22,
   "id": "1997dbcb",
   "metadata": {},
   "outputs": [
    {
     "name": "stdout",
     "output_type": "stream",
     "text": [
      "549000 560138.1940983618\n"
     ]
    }
   ],
   "source": [
    "print(y[100], y_pred[100])"
   ]
  },
  {
   "cell_type": "code",
   "execution_count": 23,
   "id": "9a5f1fa1",
   "metadata": {},
   "outputs": [
    {
     "name": "stdout",
     "output_type": "stream",
     "text": [
      "214900 641618.6033418542\n"
     ]
    }
   ],
   "source": [
    "print(y[50], y_pred[50])"
   ]
  },
  {
   "cell_type": "markdown",
   "id": "61a6b3d6",
   "metadata": {},
   "source": [
    "Too much difference !!!"
   ]
  },
  {
   "cell_type": "code",
   "execution_count": 24,
   "id": "c9a6cabf",
   "metadata": {},
   "outputs": [
    {
     "data": {
      "text/plain": [
       "0.34711494557300926"
      ]
     },
     "execution_count": 24,
     "metadata": {},
     "output_type": "execute_result"
    }
   ],
   "source": [
    "model.score(X_test, y_test)"
   ]
  },
  {
   "cell_type": "markdown",
   "id": "9580aa32",
   "metadata": {},
   "source": [
    "not good"
   ]
  },
  {
   "cell_type": "code",
   "execution_count": 25,
   "id": "c9400e31",
   "metadata": {},
   "outputs": [
    {
     "name": "stdout",
     "output_type": "stream",
     "text": [
      "MSE: 90399212212.85\n",
      "r2 score: 0.35\n"
     ]
    }
   ],
   "source": [
    "mse = mean_squared_error(y_test, y_pred)\n",
    "r2 = r2_score(y_test, y_pred)\n",
    "\n",
    "print(f\"MSE: {mse:.2f}\")\n",
    "print(f\"r2 score: {r2:.2f}\")"
   ]
  },
  {
   "cell_type": "markdown",
   "id": "96cce586",
   "metadata": {},
   "source": [
    "very bad"
   ]
  },
  {
   "cell_type": "markdown",
   "id": "059241b4",
   "metadata": {},
   "source": [
    "### Solving the problem"
   ]
  },
  {
   "cell_type": "markdown",
   "id": "462d90a6",
   "metadata": {},
   "source": [
    "Zip code number does not mean anythin in amount"
   ]
  },
  {
   "cell_type": "code",
   "execution_count": 26,
   "id": "f361dddb",
   "metadata": {},
   "outputs": [],
   "source": [
    "file_url = \"https://raw.githubusercontent.com/emanhamed/Houses-dataset/master/Houses%20Dataset/HousesInfo.txt\"\n",
    "columns = [\"bedroom\", \"bathroom\", \"area\", \"zipcodes\", \"price\"]\n",
    "df = pd.read_csv(file_url, sep=\" \", names= columns)"
   ]
  },
  {
   "cell_type": "markdown",
   "id": "d423216d",
   "metadata": {},
   "source": [
    "Removing Zip Codes with Low Frequency:"
   ]
  },
  {
   "cell_type": "code",
   "execution_count": 27,
   "id": "b10b9aad",
   "metadata": {
    "scrolled": true
   },
   "outputs": [
    {
     "data": {
      "text/plain": [
       "92276    100\n",
       "93510     60\n",
       "93446     54\n",
       "92880     49\n",
       "94501     41\n",
       "91901     32\n",
       "92677     26\n",
       "94531     22\n",
       "96019     12\n",
       "85255     12\n",
       "92021     11\n",
       "85266     11\n",
       "93111     11\n",
       "81524     11\n",
       "95220     10\n",
       "92802      9\n",
       "85262      9\n",
       "62234      7\n",
       "62214      4\n",
       "98021      4\n",
       "85377      3\n",
       "91752      3\n",
       "60002      3\n",
       "81418      2\n",
       "62025      2\n",
       "92253      2\n",
       "60016      2\n",
       "92692      2\n",
       "90265      1\n",
       "62034      1\n",
       "62088      1\n",
       "91915      1\n",
       "94565      1\n",
       "95008      1\n",
       "90803      1\n",
       "90038      1\n",
       "93314      1\n",
       "93720      1\n",
       "93924      1\n",
       "92040      1\n",
       "90211      1\n",
       "94568      1\n",
       "92543      1\n",
       "62249      1\n",
       "85331      1\n",
       "93105      1\n",
       "60046      1\n",
       "36372      1\n",
       "81521      1\n",
       "Name: zipcodes, dtype: int64"
      ]
     },
     "execution_count": 27,
     "metadata": {},
     "output_type": "execute_result"
    }
   ],
   "source": [
    "zip_counts = df.zipcodes.value_counts()\n",
    "zip_counts"
   ]
  },
  {
   "cell_type": "code",
   "execution_count": 28,
   "id": "bbc92b4f",
   "metadata": {},
   "outputs": [
    {
     "data": {
      "text/plain": [
       "array([100,  60,  54,  49,  41,  32,  26,  22,  12,  12,  11,  11,  11,\n",
       "        11,  10,   9,   9,   7,   4,   4,   3,   3,   3,   2,   2,   2,\n",
       "         2,   2,   1,   1,   1,   1,   1,   1,   1,   1,   1,   1,   1,\n",
       "         1,   1,   1,   1,   1,   1,   1,   1,   1,   1], dtype=int64)"
      ]
     },
     "execution_count": 28,
     "metadata": {},
     "output_type": "execute_result"
    }
   ],
   "source": [
    "zip_counts.values"
   ]
  },
  {
   "cell_type": "code",
   "execution_count": 29,
   "id": "581b8671",
   "metadata": {},
   "outputs": [
    {
     "data": {
      "text/plain": [
       "Int64Index([92276, 93510, 93446, 92880, 94501, 91901, 92677, 94531, 96019,\n",
       "            85255, 92021, 85266, 93111, 81524, 95220, 92802, 85262, 62234,\n",
       "            62214, 98021, 85377, 91752, 60002, 81418, 62025, 92253, 60016,\n",
       "            92692, 90265, 62034, 62088, 91915, 94565, 95008, 90803, 90038,\n",
       "            93314, 93720, 93924, 92040, 90211, 94568, 92543, 62249, 85331,\n",
       "            93105, 60046, 36372, 81521],\n",
       "           dtype='int64')"
      ]
     },
     "execution_count": 29,
     "metadata": {},
     "output_type": "execute_result"
    }
   ],
   "source": [
    "zip_counts.index"
   ]
  },
  {
   "cell_type": "code",
   "execution_count": 30,
   "id": "39ad5140",
   "metadata": {},
   "outputs": [
    {
     "data": {
      "text/plain": [
       "Int64Index([92276, 93510, 93446, 92880, 94501, 91901, 92677], dtype='int64')"
      ]
     },
     "execution_count": 30,
     "metadata": {},
     "output_type": "execute_result"
    }
   ],
   "source": [
    "good_zipcodes = zip_counts.index[zip_counts.values>=25]\n",
    "good_zipcodes"
   ]
  },
  {
   "cell_type": "code",
   "execution_count": 31,
   "id": "17b8b67d",
   "metadata": {},
   "outputs": [],
   "source": [
    "idx = np.isin(df.zipcodes.values, good_zipcodes)"
   ]
  },
  {
   "cell_type": "code",
   "execution_count": 32,
   "id": "19122b99",
   "metadata": {
    "scrolled": false
   },
   "outputs": [
    {
     "data": {
      "text/html": [
       "<div>\n",
       "<style scoped>\n",
       "    .dataframe tbody tr th:only-of-type {\n",
       "        vertical-align: middle;\n",
       "    }\n",
       "\n",
       "    .dataframe tbody tr th {\n",
       "        vertical-align: top;\n",
       "    }\n",
       "\n",
       "    .dataframe thead th {\n",
       "        text-align: right;\n",
       "    }\n",
       "</style>\n",
       "<table border=\"1\" class=\"dataframe\">\n",
       "  <thead>\n",
       "    <tr style=\"text-align: right;\">\n",
       "      <th></th>\n",
       "      <th>bedroom</th>\n",
       "      <th>bathroom</th>\n",
       "      <th>area</th>\n",
       "      <th>zipcodes</th>\n",
       "      <th>price</th>\n",
       "    </tr>\n",
       "  </thead>\n",
       "  <tbody>\n",
       "    <tr>\n",
       "      <th>30</th>\n",
       "      <td>5</td>\n",
       "      <td>3.0</td>\n",
       "      <td>2520</td>\n",
       "      <td>93446</td>\n",
       "      <td>789000</td>\n",
       "    </tr>\n",
       "    <tr>\n",
       "      <th>32</th>\n",
       "      <td>3</td>\n",
       "      <td>2.0</td>\n",
       "      <td>1802</td>\n",
       "      <td>93446</td>\n",
       "      <td>365000</td>\n",
       "    </tr>\n",
       "    <tr>\n",
       "      <th>39</th>\n",
       "      <td>3</td>\n",
       "      <td>3.0</td>\n",
       "      <td>2146</td>\n",
       "      <td>93446</td>\n",
       "      <td>455000</td>\n",
       "    </tr>\n",
       "    <tr>\n",
       "      <th>80</th>\n",
       "      <td>4</td>\n",
       "      <td>2.5</td>\n",
       "      <td>2464</td>\n",
       "      <td>91901</td>\n",
       "      <td>599000</td>\n",
       "    </tr>\n",
       "    <tr>\n",
       "      <th>81</th>\n",
       "      <td>2</td>\n",
       "      <td>2.0</td>\n",
       "      <td>1845</td>\n",
       "      <td>91901</td>\n",
       "      <td>529800</td>\n",
       "    </tr>\n",
       "    <tr>\n",
       "      <th>...</th>\n",
       "      <td>...</td>\n",
       "      <td>...</td>\n",
       "      <td>...</td>\n",
       "      <td>...</td>\n",
       "      <td>...</td>\n",
       "    </tr>\n",
       "    <tr>\n",
       "      <th>499</th>\n",
       "      <td>4</td>\n",
       "      <td>4.0</td>\n",
       "      <td>3000</td>\n",
       "      <td>93446</td>\n",
       "      <td>1495000</td>\n",
       "    </tr>\n",
       "    <tr>\n",
       "      <th>500</th>\n",
       "      <td>3</td>\n",
       "      <td>2.0</td>\n",
       "      <td>2330</td>\n",
       "      <td>93446</td>\n",
       "      <td>599900</td>\n",
       "    </tr>\n",
       "    <tr>\n",
       "      <th>501</th>\n",
       "      <td>3</td>\n",
       "      <td>2.5</td>\n",
       "      <td>1339</td>\n",
       "      <td>93446</td>\n",
       "      <td>344900</td>\n",
       "    </tr>\n",
       "    <tr>\n",
       "      <th>502</th>\n",
       "      <td>3</td>\n",
       "      <td>2.0</td>\n",
       "      <td>1472</td>\n",
       "      <td>93446</td>\n",
       "      <td>309995</td>\n",
       "    </tr>\n",
       "    <tr>\n",
       "      <th>503</th>\n",
       "      <td>4</td>\n",
       "      <td>4.0</td>\n",
       "      <td>2681</td>\n",
       "      <td>93446</td>\n",
       "      <td>572000</td>\n",
       "    </tr>\n",
       "  </tbody>\n",
       "</table>\n",
       "<p>362 rows × 5 columns</p>\n",
       "</div>"
      ],
      "text/plain": [
       "     bedroom  bathroom  area  zipcodes    price\n",
       "30         5       3.0  2520     93446   789000\n",
       "32         3       2.0  1802     93446   365000\n",
       "39         3       3.0  2146     93446   455000\n",
       "80         4       2.5  2464     91901   599000\n",
       "81         2       2.0  1845     91901   529800\n",
       "..       ...       ...   ...       ...      ...\n",
       "499        4       4.0  3000     93446  1495000\n",
       "500        3       2.0  2330     93446   599900\n",
       "501        3       2.5  1339     93446   344900\n",
       "502        3       2.0  1472     93446   309995\n",
       "503        4       4.0  2681     93446   572000\n",
       "\n",
       "[362 rows x 5 columns]"
      ]
     },
     "execution_count": 32,
     "metadata": {},
     "output_type": "execute_result"
    }
   ],
   "source": [
    "df = df[idx]\n",
    "df"
   ]
  },
  {
   "cell_type": "code",
   "execution_count": 33,
   "id": "90e0a587",
   "metadata": {},
   "outputs": [
    {
     "data": {
      "text/plain": [
       "362"
      ]
     },
     "execution_count": 33,
     "metadata": {},
     "output_type": "execute_result"
    }
   ],
   "source": [
    "len(df)"
   ]
  },
  {
   "cell_type": "code",
   "execution_count": 34,
   "id": "d3c0a3fc",
   "metadata": {},
   "outputs": [
    {
     "data": {
      "text/html": [
       "<div>\n",
       "<style scoped>\n",
       "    .dataframe tbody tr th:only-of-type {\n",
       "        vertical-align: middle;\n",
       "    }\n",
       "\n",
       "    .dataframe tbody tr th {\n",
       "        vertical-align: top;\n",
       "    }\n",
       "\n",
       "    .dataframe thead th {\n",
       "        text-align: right;\n",
       "    }\n",
       "</style>\n",
       "<table border=\"1\" class=\"dataframe\">\n",
       "  <thead>\n",
       "    <tr style=\"text-align: right;\">\n",
       "      <th></th>\n",
       "      <th>bedroom</th>\n",
       "      <th>bathroom</th>\n",
       "      <th>area</th>\n",
       "      <th>zipcodes</th>\n",
       "      <th>price</th>\n",
       "    </tr>\n",
       "  </thead>\n",
       "  <tbody>\n",
       "    <tr>\n",
       "      <th>0</th>\n",
       "      <td>5</td>\n",
       "      <td>3.0</td>\n",
       "      <td>2520</td>\n",
       "      <td>93446</td>\n",
       "      <td>789000</td>\n",
       "    </tr>\n",
       "    <tr>\n",
       "      <th>1</th>\n",
       "      <td>3</td>\n",
       "      <td>2.0</td>\n",
       "      <td>1802</td>\n",
       "      <td>93446</td>\n",
       "      <td>365000</td>\n",
       "    </tr>\n",
       "    <tr>\n",
       "      <th>2</th>\n",
       "      <td>3</td>\n",
       "      <td>3.0</td>\n",
       "      <td>2146</td>\n",
       "      <td>93446</td>\n",
       "      <td>455000</td>\n",
       "    </tr>\n",
       "    <tr>\n",
       "      <th>3</th>\n",
       "      <td>4</td>\n",
       "      <td>2.5</td>\n",
       "      <td>2464</td>\n",
       "      <td>91901</td>\n",
       "      <td>599000</td>\n",
       "    </tr>\n",
       "    <tr>\n",
       "      <th>4</th>\n",
       "      <td>2</td>\n",
       "      <td>2.0</td>\n",
       "      <td>1845</td>\n",
       "      <td>91901</td>\n",
       "      <td>529800</td>\n",
       "    </tr>\n",
       "    <tr>\n",
       "      <th>...</th>\n",
       "      <td>...</td>\n",
       "      <td>...</td>\n",
       "      <td>...</td>\n",
       "      <td>...</td>\n",
       "      <td>...</td>\n",
       "    </tr>\n",
       "    <tr>\n",
       "      <th>357</th>\n",
       "      <td>4</td>\n",
       "      <td>4.0</td>\n",
       "      <td>3000</td>\n",
       "      <td>93446</td>\n",
       "      <td>1495000</td>\n",
       "    </tr>\n",
       "    <tr>\n",
       "      <th>358</th>\n",
       "      <td>3</td>\n",
       "      <td>2.0</td>\n",
       "      <td>2330</td>\n",
       "      <td>93446</td>\n",
       "      <td>599900</td>\n",
       "    </tr>\n",
       "    <tr>\n",
       "      <th>359</th>\n",
       "      <td>3</td>\n",
       "      <td>2.5</td>\n",
       "      <td>1339</td>\n",
       "      <td>93446</td>\n",
       "      <td>344900</td>\n",
       "    </tr>\n",
       "    <tr>\n",
       "      <th>360</th>\n",
       "      <td>3</td>\n",
       "      <td>2.0</td>\n",
       "      <td>1472</td>\n",
       "      <td>93446</td>\n",
       "      <td>309995</td>\n",
       "    </tr>\n",
       "    <tr>\n",
       "      <th>361</th>\n",
       "      <td>4</td>\n",
       "      <td>4.0</td>\n",
       "      <td>2681</td>\n",
       "      <td>93446</td>\n",
       "      <td>572000</td>\n",
       "    </tr>\n",
       "  </tbody>\n",
       "</table>\n",
       "<p>362 rows × 5 columns</p>\n",
       "</div>"
      ],
      "text/plain": [
       "     bedroom  bathroom  area  zipcodes    price\n",
       "0          5       3.0  2520     93446   789000\n",
       "1          3       2.0  1802     93446   365000\n",
       "2          3       3.0  2146     93446   455000\n",
       "3          4       2.5  2464     91901   599000\n",
       "4          2       2.0  1845     91901   529800\n",
       "..       ...       ...   ...       ...      ...\n",
       "357        4       4.0  3000     93446  1495000\n",
       "358        3       2.0  2330     93446   599900\n",
       "359        3       2.5  1339     93446   344900\n",
       "360        3       2.0  1472     93446   309995\n",
       "361        4       4.0  2681     93446   572000\n",
       "\n",
       "[362 rows x 5 columns]"
      ]
     },
     "execution_count": 34,
     "metadata": {},
     "output_type": "execute_result"
    }
   ],
   "source": [
    "df.index = np.arange(0,362)\n",
    "df"
   ]
  },
  {
   "cell_type": "markdown",
   "id": "8f4a4b01",
   "metadata": {},
   "source": [
    "making zipcodes one hot"
   ]
  },
  {
   "cell_type": "code",
   "execution_count": 35,
   "id": "eed7a9bd",
   "metadata": {
    "scrolled": false
   },
   "outputs": [
    {
     "data": {
      "text/html": [
       "<div>\n",
       "<style scoped>\n",
       "    .dataframe tbody tr th:only-of-type {\n",
       "        vertical-align: middle;\n",
       "    }\n",
       "\n",
       "    .dataframe tbody tr th {\n",
       "        vertical-align: top;\n",
       "    }\n",
       "\n",
       "    .dataframe thead th {\n",
       "        text-align: right;\n",
       "    }\n",
       "</style>\n",
       "<table border=\"1\" class=\"dataframe\">\n",
       "  <thead>\n",
       "    <tr style=\"text-align: right;\">\n",
       "      <th></th>\n",
       "      <th>bedroom</th>\n",
       "      <th>bathroom</th>\n",
       "      <th>area</th>\n",
       "      <th>price</th>\n",
       "      <th>zipcodes_91901</th>\n",
       "      <th>zipcodes_92276</th>\n",
       "      <th>zipcodes_92677</th>\n",
       "      <th>zipcodes_92880</th>\n",
       "      <th>zipcodes_93446</th>\n",
       "      <th>zipcodes_93510</th>\n",
       "      <th>zipcodes_94501</th>\n",
       "    </tr>\n",
       "  </thead>\n",
       "  <tbody>\n",
       "    <tr>\n",
       "      <th>0</th>\n",
       "      <td>5</td>\n",
       "      <td>3.0</td>\n",
       "      <td>2520</td>\n",
       "      <td>789000</td>\n",
       "      <td>0</td>\n",
       "      <td>0</td>\n",
       "      <td>0</td>\n",
       "      <td>0</td>\n",
       "      <td>1</td>\n",
       "      <td>0</td>\n",
       "      <td>0</td>\n",
       "    </tr>\n",
       "    <tr>\n",
       "      <th>1</th>\n",
       "      <td>3</td>\n",
       "      <td>2.0</td>\n",
       "      <td>1802</td>\n",
       "      <td>365000</td>\n",
       "      <td>0</td>\n",
       "      <td>0</td>\n",
       "      <td>0</td>\n",
       "      <td>0</td>\n",
       "      <td>1</td>\n",
       "      <td>0</td>\n",
       "      <td>0</td>\n",
       "    </tr>\n",
       "    <tr>\n",
       "      <th>2</th>\n",
       "      <td>3</td>\n",
       "      <td>3.0</td>\n",
       "      <td>2146</td>\n",
       "      <td>455000</td>\n",
       "      <td>0</td>\n",
       "      <td>0</td>\n",
       "      <td>0</td>\n",
       "      <td>0</td>\n",
       "      <td>1</td>\n",
       "      <td>0</td>\n",
       "      <td>0</td>\n",
       "    </tr>\n",
       "    <tr>\n",
       "      <th>3</th>\n",
       "      <td>4</td>\n",
       "      <td>2.5</td>\n",
       "      <td>2464</td>\n",
       "      <td>599000</td>\n",
       "      <td>1</td>\n",
       "      <td>0</td>\n",
       "      <td>0</td>\n",
       "      <td>0</td>\n",
       "      <td>0</td>\n",
       "      <td>0</td>\n",
       "      <td>0</td>\n",
       "    </tr>\n",
       "    <tr>\n",
       "      <th>4</th>\n",
       "      <td>2</td>\n",
       "      <td>2.0</td>\n",
       "      <td>1845</td>\n",
       "      <td>529800</td>\n",
       "      <td>1</td>\n",
       "      <td>0</td>\n",
       "      <td>0</td>\n",
       "      <td>0</td>\n",
       "      <td>0</td>\n",
       "      <td>0</td>\n",
       "      <td>0</td>\n",
       "    </tr>\n",
       "    <tr>\n",
       "      <th>...</th>\n",
       "      <td>...</td>\n",
       "      <td>...</td>\n",
       "      <td>...</td>\n",
       "      <td>...</td>\n",
       "      <td>...</td>\n",
       "      <td>...</td>\n",
       "      <td>...</td>\n",
       "      <td>...</td>\n",
       "      <td>...</td>\n",
       "      <td>...</td>\n",
       "      <td>...</td>\n",
       "    </tr>\n",
       "    <tr>\n",
       "      <th>357</th>\n",
       "      <td>4</td>\n",
       "      <td>4.0</td>\n",
       "      <td>3000</td>\n",
       "      <td>1495000</td>\n",
       "      <td>0</td>\n",
       "      <td>0</td>\n",
       "      <td>0</td>\n",
       "      <td>0</td>\n",
       "      <td>1</td>\n",
       "      <td>0</td>\n",
       "      <td>0</td>\n",
       "    </tr>\n",
       "    <tr>\n",
       "      <th>358</th>\n",
       "      <td>3</td>\n",
       "      <td>2.0</td>\n",
       "      <td>2330</td>\n",
       "      <td>599900</td>\n",
       "      <td>0</td>\n",
       "      <td>0</td>\n",
       "      <td>0</td>\n",
       "      <td>0</td>\n",
       "      <td>1</td>\n",
       "      <td>0</td>\n",
       "      <td>0</td>\n",
       "    </tr>\n",
       "    <tr>\n",
       "      <th>359</th>\n",
       "      <td>3</td>\n",
       "      <td>2.5</td>\n",
       "      <td>1339</td>\n",
       "      <td>344900</td>\n",
       "      <td>0</td>\n",
       "      <td>0</td>\n",
       "      <td>0</td>\n",
       "      <td>0</td>\n",
       "      <td>1</td>\n",
       "      <td>0</td>\n",
       "      <td>0</td>\n",
       "    </tr>\n",
       "    <tr>\n",
       "      <th>360</th>\n",
       "      <td>3</td>\n",
       "      <td>2.0</td>\n",
       "      <td>1472</td>\n",
       "      <td>309995</td>\n",
       "      <td>0</td>\n",
       "      <td>0</td>\n",
       "      <td>0</td>\n",
       "      <td>0</td>\n",
       "      <td>1</td>\n",
       "      <td>0</td>\n",
       "      <td>0</td>\n",
       "    </tr>\n",
       "    <tr>\n",
       "      <th>361</th>\n",
       "      <td>4</td>\n",
       "      <td>4.0</td>\n",
       "      <td>2681</td>\n",
       "      <td>572000</td>\n",
       "      <td>0</td>\n",
       "      <td>0</td>\n",
       "      <td>0</td>\n",
       "      <td>0</td>\n",
       "      <td>1</td>\n",
       "      <td>0</td>\n",
       "      <td>0</td>\n",
       "    </tr>\n",
       "  </tbody>\n",
       "</table>\n",
       "<p>362 rows × 11 columns</p>\n",
       "</div>"
      ],
      "text/plain": [
       "     bedroom  bathroom  area    price  zipcodes_91901  zipcodes_92276  \\\n",
       "0          5       3.0  2520   789000               0               0   \n",
       "1          3       2.0  1802   365000               0               0   \n",
       "2          3       3.0  2146   455000               0               0   \n",
       "3          4       2.5  2464   599000               1               0   \n",
       "4          2       2.0  1845   529800               1               0   \n",
       "..       ...       ...   ...      ...             ...             ...   \n",
       "357        4       4.0  3000  1495000               0               0   \n",
       "358        3       2.0  2330   599900               0               0   \n",
       "359        3       2.5  1339   344900               0               0   \n",
       "360        3       2.0  1472   309995               0               0   \n",
       "361        4       4.0  2681   572000               0               0   \n",
       "\n",
       "     zipcodes_92677  zipcodes_92880  zipcodes_93446  zipcodes_93510  \\\n",
       "0                 0               0               1               0   \n",
       "1                 0               0               1               0   \n",
       "2                 0               0               1               0   \n",
       "3                 0               0               0               0   \n",
       "4                 0               0               0               0   \n",
       "..              ...             ...             ...             ...   \n",
       "357               0               0               1               0   \n",
       "358               0               0               1               0   \n",
       "359               0               0               1               0   \n",
       "360               0               0               1               0   \n",
       "361               0               0               1               0   \n",
       "\n",
       "     zipcodes_94501  \n",
       "0                 0  \n",
       "1                 0  \n",
       "2                 0  \n",
       "3                 0  \n",
       "4                 0  \n",
       "..              ...  \n",
       "357               0  \n",
       "358               0  \n",
       "359               0  \n",
       "360               0  \n",
       "361               0  \n",
       "\n",
       "[362 rows x 11 columns]"
      ]
     },
     "execution_count": 35,
     "metadata": {},
     "output_type": "execute_result"
    }
   ],
   "source": [
    "df = pd.get_dummies(df, columns=['zipcodes'])\n",
    "df"
   ]
  },
  {
   "cell_type": "markdown",
   "id": "a8b1a720",
   "metadata": {},
   "source": [
    "normalizing other fields"
   ]
  },
  {
   "cell_type": "code",
   "execution_count": 36,
   "id": "abf2b298",
   "metadata": {},
   "outputs": [],
   "source": [
    "max_price = max(df.price)\n",
    "df.price = df.price/max_price"
   ]
  },
  {
   "cell_type": "code",
   "execution_count": 37,
   "id": "db8b7b8c",
   "metadata": {
    "scrolled": false
   },
   "outputs": [
    {
     "data": {
      "text/html": [
       "<div>\n",
       "<style scoped>\n",
       "    .dataframe tbody tr th:only-of-type {\n",
       "        vertical-align: middle;\n",
       "    }\n",
       "\n",
       "    .dataframe tbody tr th {\n",
       "        vertical-align: top;\n",
       "    }\n",
       "\n",
       "    .dataframe thead th {\n",
       "        text-align: right;\n",
       "    }\n",
       "</style>\n",
       "<table border=\"1\" class=\"dataframe\">\n",
       "  <thead>\n",
       "    <tr style=\"text-align: right;\">\n",
       "      <th></th>\n",
       "      <th>bedroom</th>\n",
       "      <th>bathroom</th>\n",
       "      <th>area</th>\n",
       "      <th>price</th>\n",
       "      <th>zipcodes_91901</th>\n",
       "      <th>zipcodes_92276</th>\n",
       "      <th>zipcodes_92677</th>\n",
       "      <th>zipcodes_92880</th>\n",
       "      <th>zipcodes_93446</th>\n",
       "      <th>zipcodes_93510</th>\n",
       "      <th>zipcodes_94501</th>\n",
       "    </tr>\n",
       "  </thead>\n",
       "  <tbody>\n",
       "    <tr>\n",
       "      <th>0</th>\n",
       "      <td>0.444444</td>\n",
       "      <td>0.333333</td>\n",
       "      <td>0.288776</td>\n",
       "      <td>0.134688</td>\n",
       "      <td>0</td>\n",
       "      <td>0</td>\n",
       "      <td>0</td>\n",
       "      <td>0</td>\n",
       "      <td>1</td>\n",
       "      <td>0</td>\n",
       "      <td>0</td>\n",
       "    </tr>\n",
       "    <tr>\n",
       "      <th>1</th>\n",
       "      <td>0.222222</td>\n",
       "      <td>0.166667</td>\n",
       "      <td>0.174790</td>\n",
       "      <td>0.062308</td>\n",
       "      <td>0</td>\n",
       "      <td>0</td>\n",
       "      <td>0</td>\n",
       "      <td>0</td>\n",
       "      <td>1</td>\n",
       "      <td>0</td>\n",
       "      <td>0</td>\n",
       "    </tr>\n",
       "    <tr>\n",
       "      <th>2</th>\n",
       "      <td>0.222222</td>\n",
       "      <td>0.333333</td>\n",
       "      <td>0.229401</td>\n",
       "      <td>0.077672</td>\n",
       "      <td>0</td>\n",
       "      <td>0</td>\n",
       "      <td>0</td>\n",
       "      <td>0</td>\n",
       "      <td>1</td>\n",
       "      <td>0</td>\n",
       "      <td>0</td>\n",
       "    </tr>\n",
       "    <tr>\n",
       "      <th>3</th>\n",
       "      <td>0.333333</td>\n",
       "      <td>0.250000</td>\n",
       "      <td>0.279886</td>\n",
       "      <td>0.102253</td>\n",
       "      <td>1</td>\n",
       "      <td>0</td>\n",
       "      <td>0</td>\n",
       "      <td>0</td>\n",
       "      <td>0</td>\n",
       "      <td>0</td>\n",
       "      <td>0</td>\n",
       "    </tr>\n",
       "    <tr>\n",
       "      <th>4</th>\n",
       "      <td>0.111111</td>\n",
       "      <td>0.166667</td>\n",
       "      <td>0.181616</td>\n",
       "      <td>0.090440</td>\n",
       "      <td>1</td>\n",
       "      <td>0</td>\n",
       "      <td>0</td>\n",
       "      <td>0</td>\n",
       "      <td>0</td>\n",
       "      <td>0</td>\n",
       "      <td>0</td>\n",
       "    </tr>\n",
       "    <tr>\n",
       "      <th>...</th>\n",
       "      <td>...</td>\n",
       "      <td>...</td>\n",
       "      <td>...</td>\n",
       "      <td>...</td>\n",
       "      <td>...</td>\n",
       "      <td>...</td>\n",
       "      <td>...</td>\n",
       "      <td>...</td>\n",
       "      <td>...</td>\n",
       "      <td>...</td>\n",
       "      <td>...</td>\n",
       "    </tr>\n",
       "    <tr>\n",
       "      <th>357</th>\n",
       "      <td>0.333333</td>\n",
       "      <td>0.500000</td>\n",
       "      <td>0.364979</td>\n",
       "      <td>0.255207</td>\n",
       "      <td>0</td>\n",
       "      <td>0</td>\n",
       "      <td>0</td>\n",
       "      <td>0</td>\n",
       "      <td>1</td>\n",
       "      <td>0</td>\n",
       "      <td>0</td>\n",
       "    </tr>\n",
       "    <tr>\n",
       "      <th>358</th>\n",
       "      <td>0.222222</td>\n",
       "      <td>0.166667</td>\n",
       "      <td>0.258612</td>\n",
       "      <td>0.102407</td>\n",
       "      <td>0</td>\n",
       "      <td>0</td>\n",
       "      <td>0</td>\n",
       "      <td>0</td>\n",
       "      <td>1</td>\n",
       "      <td>0</td>\n",
       "      <td>0</td>\n",
       "    </tr>\n",
       "    <tr>\n",
       "      <th>359</th>\n",
       "      <td>0.222222</td>\n",
       "      <td>0.250000</td>\n",
       "      <td>0.101286</td>\n",
       "      <td>0.058877</td>\n",
       "      <td>0</td>\n",
       "      <td>0</td>\n",
       "      <td>0</td>\n",
       "      <td>0</td>\n",
       "      <td>1</td>\n",
       "      <td>0</td>\n",
       "      <td>0</td>\n",
       "    </tr>\n",
       "    <tr>\n",
       "      <th>360</th>\n",
       "      <td>0.222222</td>\n",
       "      <td>0.166667</td>\n",
       "      <td>0.122400</td>\n",
       "      <td>0.052918</td>\n",
       "      <td>0</td>\n",
       "      <td>0</td>\n",
       "      <td>0</td>\n",
       "      <td>0</td>\n",
       "      <td>1</td>\n",
       "      <td>0</td>\n",
       "      <td>0</td>\n",
       "    </tr>\n",
       "    <tr>\n",
       "      <th>361</th>\n",
       "      <td>0.333333</td>\n",
       "      <td>0.500000</td>\n",
       "      <td>0.314336</td>\n",
       "      <td>0.097644</td>\n",
       "      <td>0</td>\n",
       "      <td>0</td>\n",
       "      <td>0</td>\n",
       "      <td>0</td>\n",
       "      <td>1</td>\n",
       "      <td>0</td>\n",
       "      <td>0</td>\n",
       "    </tr>\n",
       "  </tbody>\n",
       "</table>\n",
       "<p>362 rows × 11 columns</p>\n",
       "</div>"
      ],
      "text/plain": [
       "      bedroom  bathroom      area     price  zipcodes_91901  zipcodes_92276  \\\n",
       "0    0.444444  0.333333  0.288776  0.134688               0               0   \n",
       "1    0.222222  0.166667  0.174790  0.062308               0               0   \n",
       "2    0.222222  0.333333  0.229401  0.077672               0               0   \n",
       "3    0.333333  0.250000  0.279886  0.102253               1               0   \n",
       "4    0.111111  0.166667  0.181616  0.090440               1               0   \n",
       "..        ...       ...       ...       ...             ...             ...   \n",
       "357  0.333333  0.500000  0.364979  0.255207               0               0   \n",
       "358  0.222222  0.166667  0.258612  0.102407               0               0   \n",
       "359  0.222222  0.250000  0.101286  0.058877               0               0   \n",
       "360  0.222222  0.166667  0.122400  0.052918               0               0   \n",
       "361  0.333333  0.500000  0.314336  0.097644               0               0   \n",
       "\n",
       "     zipcodes_92677  zipcodes_92880  zipcodes_93446  zipcodes_93510  \\\n",
       "0                 0               0               1               0   \n",
       "1                 0               0               1               0   \n",
       "2                 0               0               1               0   \n",
       "3                 0               0               0               0   \n",
       "4                 0               0               0               0   \n",
       "..              ...             ...             ...             ...   \n",
       "357               0               0               1               0   \n",
       "358               0               0               1               0   \n",
       "359               0               0               1               0   \n",
       "360               0               0               1               0   \n",
       "361               0               0               1               0   \n",
       "\n",
       "     zipcodes_94501  \n",
       "0                 0  \n",
       "1                 0  \n",
       "2                 0  \n",
       "3                 0  \n",
       "4                 0  \n",
       "..              ...  \n",
       "357               0  \n",
       "358               0  \n",
       "359               0  \n",
       "360               0  \n",
       "361               0  \n",
       "\n",
       "[362 rows x 11 columns]"
      ]
     },
     "execution_count": 37,
     "metadata": {},
     "output_type": "execute_result"
    }
   ],
   "source": [
    "from sklearn.preprocessing import MinMaxScaler\n",
    "scaler = MinMaxScaler()\n",
    "\n",
    "numeric_columns = [\"bedroom\", \"bathroom\", \"area\"]\n",
    "df[[\"bedroom\", \"bathroom\", \"area\"]]= pd.DataFrame(scaler.fit_transform(df[numeric_columns]))\n",
    "df"
   ]
  },
  {
   "cell_type": "markdown",
   "id": "5db37dae",
   "metadata": {},
   "source": [
    "Regression task"
   ]
  },
  {
   "cell_type": "code",
   "execution_count": 38,
   "id": "0751c2c0",
   "metadata": {
    "scrolled": true
   },
   "outputs": [
    {
     "name": "stdout",
     "output_type": "stream",
     "text": [
      "MSE: 0.00\n",
      "r2 score: 0.79\n"
     ]
    }
   ],
   "source": [
    "from sklearn.model_selection import train_test_split\n",
    "from sklearn.linear_model import LinearRegression\n",
    "from sklearn.metrics import mean_squared_error, r2_score\n",
    "\n",
    "\n",
    "X = df.drop('price', axis=1)\n",
    "y = df[\"price\"]\n",
    "\n",
    "X_train, X_test, y_train, y_test = train_test_split(X, y, test_size=0.2, random_state=42)\n",
    "\n",
    "model = LinearRegression()\n",
    "model.fit(X_train, y_train)\n",
    "\n",
    "y_pred = model.predict(X_test)\n",
    "\n",
    "mse = mean_squared_error(y_test, y_pred)\n",
    "r2 = r2_score(y_test, y_pred)\n",
    "\n",
    "print(f\"MSE: {mse:.2f}\")\n",
    "print(f\"r2 score: {r2:.2f}\")"
   ]
  },
  {
   "cell_type": "code",
   "execution_count": 39,
   "id": "25e2d9a3",
   "metadata": {},
   "outputs": [
    {
     "name": "stdout",
     "output_type": "stream",
     "text": [
      "true:  789000.0 predicted:  328940.4296875\n",
      "true:  397500.0 predicted:  617835.9375\n",
      "true:  824999.9999999999 predicted:  60067.3828125\n",
      "true:  979000.0 predicted:  125855.46875\n",
      "true:  469999.99999999994 predicted:  1330063.4765625\n",
      "true:  245900.0 predicted:  183062.5\n",
      "true:  875000.0 predicted:  314638.671875\n",
      "true:  949000.0 predicted:  554908.203125\n",
      "true:  1349000.0 predicted:  128715.8203125\n",
      "true:  1200000.0 predicted:  443354.4921875\n",
      "true:  389900.0 predicted:  -85810.546875\n",
      "true:  1045000.0 predicted:  489120.1171875\n"
     ]
    }
   ],
   "source": [
    "for i in range(0,56,5):\n",
    "    print('true: ',y[i]*max_price, 'predicted: ', y_pred[i]*max_price)"
   ]
  },
  {
   "cell_type": "markdown",
   "id": "0300a6d8",
   "metadata": {},
   "source": [
    "___"
   ]
  },
  {
   "cell_type": "markdown",
   "id": "32db8121",
   "metadata": {},
   "source": [
    "<div style=\"background-color: #c3e8fb; padding: 10px; color: #144d84;\">\n",
    "<b>Question 4) Regression of Vehicle Fuel Consumption</b><br>\n",
    "Load the fuel consumption dataset. Then, split the data into training and testing sets with an 80:20 ratio and train a regression model to estimate MPG (which represents vehicle fuel consumption). The origin feature represents the country of manufacture and is coded as follows:\n",
    "{1: 'USA', 2: 'Europe', 3: 'Japan'}\n",
    "\n",
    "✓ Dataset path:\n",
    "http://archive.ics.uci.edu/ml/machine-learning-databases/auto-mpg/auto-mpg.data\n",
    "</div>"
   ]
  },
  {
   "cell_type": "code",
   "execution_count": 40,
   "id": "853ef966",
   "metadata": {},
   "outputs": [
    {
     "data": {
      "text/html": [
       "<div>\n",
       "<style scoped>\n",
       "    .dataframe tbody tr th:only-of-type {\n",
       "        vertical-align: middle;\n",
       "    }\n",
       "\n",
       "    .dataframe tbody tr th {\n",
       "        vertical-align: top;\n",
       "    }\n",
       "\n",
       "    .dataframe thead th {\n",
       "        text-align: right;\n",
       "    }\n",
       "</style>\n",
       "<table border=\"1\" class=\"dataframe\">\n",
       "  <thead>\n",
       "    <tr style=\"text-align: right;\">\n",
       "      <th></th>\n",
       "      <th>MPG</th>\n",
       "      <th>Cylinders</th>\n",
       "      <th>Displacement</th>\n",
       "      <th>Horsepower</th>\n",
       "      <th>Weight</th>\n",
       "      <th>Acceleration</th>\n",
       "      <th>Model Year</th>\n",
       "      <th>Origin</th>\n",
       "    </tr>\n",
       "  </thead>\n",
       "  <tbody>\n",
       "    <tr>\n",
       "      <th>0</th>\n",
       "      <td>18.0</td>\n",
       "      <td>8</td>\n",
       "      <td>307.0</td>\n",
       "      <td>130.0</td>\n",
       "      <td>3504.0</td>\n",
       "      <td>12.0</td>\n",
       "      <td>70</td>\n",
       "      <td>1</td>\n",
       "    </tr>\n",
       "    <tr>\n",
       "      <th>1</th>\n",
       "      <td>15.0</td>\n",
       "      <td>8</td>\n",
       "      <td>350.0</td>\n",
       "      <td>165.0</td>\n",
       "      <td>3693.0</td>\n",
       "      <td>11.5</td>\n",
       "      <td>70</td>\n",
       "      <td>1</td>\n",
       "    </tr>\n",
       "    <tr>\n",
       "      <th>2</th>\n",
       "      <td>18.0</td>\n",
       "      <td>8</td>\n",
       "      <td>318.0</td>\n",
       "      <td>150.0</td>\n",
       "      <td>3436.0</td>\n",
       "      <td>11.0</td>\n",
       "      <td>70</td>\n",
       "      <td>1</td>\n",
       "    </tr>\n",
       "    <tr>\n",
       "      <th>3</th>\n",
       "      <td>16.0</td>\n",
       "      <td>8</td>\n",
       "      <td>304.0</td>\n",
       "      <td>150.0</td>\n",
       "      <td>3433.0</td>\n",
       "      <td>12.0</td>\n",
       "      <td>70</td>\n",
       "      <td>1</td>\n",
       "    </tr>\n",
       "    <tr>\n",
       "      <th>4</th>\n",
       "      <td>17.0</td>\n",
       "      <td>8</td>\n",
       "      <td>302.0</td>\n",
       "      <td>140.0</td>\n",
       "      <td>3449.0</td>\n",
       "      <td>10.5</td>\n",
       "      <td>70</td>\n",
       "      <td>1</td>\n",
       "    </tr>\n",
       "    <tr>\n",
       "      <th>...</th>\n",
       "      <td>...</td>\n",
       "      <td>...</td>\n",
       "      <td>...</td>\n",
       "      <td>...</td>\n",
       "      <td>...</td>\n",
       "      <td>...</td>\n",
       "      <td>...</td>\n",
       "      <td>...</td>\n",
       "    </tr>\n",
       "    <tr>\n",
       "      <th>393</th>\n",
       "      <td>27.0</td>\n",
       "      <td>4</td>\n",
       "      <td>140.0</td>\n",
       "      <td>86.0</td>\n",
       "      <td>2790.0</td>\n",
       "      <td>15.6</td>\n",
       "      <td>82</td>\n",
       "      <td>1</td>\n",
       "    </tr>\n",
       "    <tr>\n",
       "      <th>394</th>\n",
       "      <td>44.0</td>\n",
       "      <td>4</td>\n",
       "      <td>97.0</td>\n",
       "      <td>52.0</td>\n",
       "      <td>2130.0</td>\n",
       "      <td>24.6</td>\n",
       "      <td>82</td>\n",
       "      <td>2</td>\n",
       "    </tr>\n",
       "    <tr>\n",
       "      <th>395</th>\n",
       "      <td>32.0</td>\n",
       "      <td>4</td>\n",
       "      <td>135.0</td>\n",
       "      <td>84.0</td>\n",
       "      <td>2295.0</td>\n",
       "      <td>11.6</td>\n",
       "      <td>82</td>\n",
       "      <td>1</td>\n",
       "    </tr>\n",
       "    <tr>\n",
       "      <th>396</th>\n",
       "      <td>28.0</td>\n",
       "      <td>4</td>\n",
       "      <td>120.0</td>\n",
       "      <td>79.0</td>\n",
       "      <td>2625.0</td>\n",
       "      <td>18.6</td>\n",
       "      <td>82</td>\n",
       "      <td>1</td>\n",
       "    </tr>\n",
       "    <tr>\n",
       "      <th>397</th>\n",
       "      <td>31.0</td>\n",
       "      <td>4</td>\n",
       "      <td>119.0</td>\n",
       "      <td>82.0</td>\n",
       "      <td>2720.0</td>\n",
       "      <td>19.4</td>\n",
       "      <td>82</td>\n",
       "      <td>1</td>\n",
       "    </tr>\n",
       "  </tbody>\n",
       "</table>\n",
       "<p>398 rows × 8 columns</p>\n",
       "</div>"
      ],
      "text/plain": [
       "      MPG  Cylinders  Displacement  Horsepower  Weight  Acceleration  \\\n",
       "0    18.0          8         307.0       130.0  3504.0          12.0   \n",
       "1    15.0          8         350.0       165.0  3693.0          11.5   \n",
       "2    18.0          8         318.0       150.0  3436.0          11.0   \n",
       "3    16.0          8         304.0       150.0  3433.0          12.0   \n",
       "4    17.0          8         302.0       140.0  3449.0          10.5   \n",
       "..    ...        ...           ...         ...     ...           ...   \n",
       "393  27.0          4         140.0        86.0  2790.0          15.6   \n",
       "394  44.0          4          97.0        52.0  2130.0          24.6   \n",
       "395  32.0          4         135.0        84.0  2295.0          11.6   \n",
       "396  28.0          4         120.0        79.0  2625.0          18.6   \n",
       "397  31.0          4         119.0        82.0  2720.0          19.4   \n",
       "\n",
       "     Model Year  Origin  \n",
       "0            70       1  \n",
       "1            70       1  \n",
       "2            70       1  \n",
       "3            70       1  \n",
       "4            70       1  \n",
       "..          ...     ...  \n",
       "393          82       1  \n",
       "394          82       2  \n",
       "395          82       1  \n",
       "396          82       1  \n",
       "397          82       1  \n",
       "\n",
       "[398 rows x 8 columns]"
      ]
     },
     "execution_count": 40,
     "metadata": {},
     "output_type": "execute_result"
    }
   ],
   "source": [
    "url = \"http://archive.ics.uci.edu/ml/machine-learning-databases/auto-mpg/auto-mpg.data\"\n",
    "column_names = [\"MPG\",\"Cylinders\",\"Displacement\",\"Horsepower\",\"Weight\",\"Acceleration\",\"Model Year\",\"Origin\"]\n",
    "\n",
    "raw_dataset = pd.read_csv(url, names=column_names, na_values='?', comment='\\t', sep=' ', skipinitialspace='true')\n",
    "raw_dataset"
   ]
  },
  {
   "cell_type": "code",
   "execution_count": 41,
   "id": "d8decf5b",
   "metadata": {},
   "outputs": [
    {
     "data": {
      "text/plain": [
       "MPG             0\n",
       "Cylinders       0\n",
       "Displacement    0\n",
       "Horsepower      6\n",
       "Weight          0\n",
       "Acceleration    0\n",
       "Model Year      0\n",
       "Origin          0\n",
       "dtype: int64"
      ]
     },
     "execution_count": 41,
     "metadata": {},
     "output_type": "execute_result"
    }
   ],
   "source": [
    "raw_dataset.isnull().sum()"
   ]
  },
  {
   "cell_type": "code",
   "execution_count": 42,
   "id": "730ada8d",
   "metadata": {
    "scrolled": false
   },
   "outputs": [
    {
     "data": {
      "text/html": [
       "<div>\n",
       "<style scoped>\n",
       "    .dataframe tbody tr th:only-of-type {\n",
       "        vertical-align: middle;\n",
       "    }\n",
       "\n",
       "    .dataframe tbody tr th {\n",
       "        vertical-align: top;\n",
       "    }\n",
       "\n",
       "    .dataframe thead th {\n",
       "        text-align: right;\n",
       "    }\n",
       "</style>\n",
       "<table border=\"1\" class=\"dataframe\">\n",
       "  <thead>\n",
       "    <tr style=\"text-align: right;\">\n",
       "      <th></th>\n",
       "      <th>MPG</th>\n",
       "      <th>Cylinders</th>\n",
       "      <th>Displacement</th>\n",
       "      <th>Horsepower</th>\n",
       "      <th>Weight</th>\n",
       "      <th>Acceleration</th>\n",
       "      <th>Model Year</th>\n",
       "      <th>Origin</th>\n",
       "    </tr>\n",
       "  </thead>\n",
       "  <tbody>\n",
       "    <tr>\n",
       "      <th>32</th>\n",
       "      <td>25.0</td>\n",
       "      <td>4</td>\n",
       "      <td>98.0</td>\n",
       "      <td>NaN</td>\n",
       "      <td>2046.0</td>\n",
       "      <td>19.0</td>\n",
       "      <td>71</td>\n",
       "      <td>1</td>\n",
       "    </tr>\n",
       "    <tr>\n",
       "      <th>126</th>\n",
       "      <td>21.0</td>\n",
       "      <td>6</td>\n",
       "      <td>200.0</td>\n",
       "      <td>NaN</td>\n",
       "      <td>2875.0</td>\n",
       "      <td>17.0</td>\n",
       "      <td>74</td>\n",
       "      <td>1</td>\n",
       "    </tr>\n",
       "    <tr>\n",
       "      <th>330</th>\n",
       "      <td>40.9</td>\n",
       "      <td>4</td>\n",
       "      <td>85.0</td>\n",
       "      <td>NaN</td>\n",
       "      <td>1835.0</td>\n",
       "      <td>17.3</td>\n",
       "      <td>80</td>\n",
       "      <td>2</td>\n",
       "    </tr>\n",
       "    <tr>\n",
       "      <th>336</th>\n",
       "      <td>23.6</td>\n",
       "      <td>4</td>\n",
       "      <td>140.0</td>\n",
       "      <td>NaN</td>\n",
       "      <td>2905.0</td>\n",
       "      <td>14.3</td>\n",
       "      <td>80</td>\n",
       "      <td>1</td>\n",
       "    </tr>\n",
       "    <tr>\n",
       "      <th>354</th>\n",
       "      <td>34.5</td>\n",
       "      <td>4</td>\n",
       "      <td>100.0</td>\n",
       "      <td>NaN</td>\n",
       "      <td>2320.0</td>\n",
       "      <td>15.8</td>\n",
       "      <td>81</td>\n",
       "      <td>2</td>\n",
       "    </tr>\n",
       "    <tr>\n",
       "      <th>374</th>\n",
       "      <td>23.0</td>\n",
       "      <td>4</td>\n",
       "      <td>151.0</td>\n",
       "      <td>NaN</td>\n",
       "      <td>3035.0</td>\n",
       "      <td>20.5</td>\n",
       "      <td>82</td>\n",
       "      <td>1</td>\n",
       "    </tr>\n",
       "  </tbody>\n",
       "</table>\n",
       "</div>"
      ],
      "text/plain": [
       "      MPG  Cylinders  Displacement  Horsepower  Weight  Acceleration  \\\n",
       "32   25.0          4          98.0         NaN  2046.0          19.0   \n",
       "126  21.0          6         200.0         NaN  2875.0          17.0   \n",
       "330  40.9          4          85.0         NaN  1835.0          17.3   \n",
       "336  23.6          4         140.0         NaN  2905.0          14.3   \n",
       "354  34.5          4         100.0         NaN  2320.0          15.8   \n",
       "374  23.0          4         151.0         NaN  3035.0          20.5   \n",
       "\n",
       "     Model Year  Origin  \n",
       "32           71       1  \n",
       "126          74       1  \n",
       "330          80       2  \n",
       "336          80       1  \n",
       "354          81       2  \n",
       "374          82       1  "
      ]
     },
     "execution_count": 42,
     "metadata": {},
     "output_type": "execute_result"
    }
   ],
   "source": [
    "raw_dataset[raw_dataset.isnull().any(axis=1)]"
   ]
  },
  {
   "cell_type": "code",
   "execution_count": 43,
   "id": "64f8e352",
   "metadata": {},
   "outputs": [],
   "source": [
    "raw_dataset.dropna(inplace=True)"
   ]
  },
  {
   "cell_type": "code",
   "execution_count": 44,
   "id": "ef959e88",
   "metadata": {},
   "outputs": [
    {
     "data": {
      "text/plain": [
       "392"
      ]
     },
     "execution_count": 44,
     "metadata": {},
     "output_type": "execute_result"
    }
   ],
   "source": [
    "len(raw_dataset)"
   ]
  },
  {
   "cell_type": "code",
   "execution_count": 45,
   "id": "2c1a0074",
   "metadata": {},
   "outputs": [],
   "source": [
    "raw_dataset.index = np.arange(0,392)"
   ]
  },
  {
   "cell_type": "code",
   "execution_count": 46,
   "id": "76e3509b",
   "metadata": {
    "scrolled": false
   },
   "outputs": [
    {
     "data": {
      "text/html": [
       "<div>\n",
       "<style scoped>\n",
       "    .dataframe tbody tr th:only-of-type {\n",
       "        vertical-align: middle;\n",
       "    }\n",
       "\n",
       "    .dataframe tbody tr th {\n",
       "        vertical-align: top;\n",
       "    }\n",
       "\n",
       "    .dataframe thead th {\n",
       "        text-align: right;\n",
       "    }\n",
       "</style>\n",
       "<table border=\"1\" class=\"dataframe\">\n",
       "  <thead>\n",
       "    <tr style=\"text-align: right;\">\n",
       "      <th></th>\n",
       "      <th>MPG</th>\n",
       "      <th>Cylinders</th>\n",
       "      <th>Displacement</th>\n",
       "      <th>Horsepower</th>\n",
       "      <th>Weight</th>\n",
       "      <th>Acceleration</th>\n",
       "      <th>Model Year</th>\n",
       "      <th>Origin</th>\n",
       "    </tr>\n",
       "  </thead>\n",
       "  <tbody>\n",
       "    <tr>\n",
       "      <th>0</th>\n",
       "      <td>18.0</td>\n",
       "      <td>1.0</td>\n",
       "      <td>0.617571</td>\n",
       "      <td>0.456522</td>\n",
       "      <td>0.536150</td>\n",
       "      <td>0.238095</td>\n",
       "      <td>0.0</td>\n",
       "      <td>1</td>\n",
       "    </tr>\n",
       "    <tr>\n",
       "      <th>1</th>\n",
       "      <td>15.0</td>\n",
       "      <td>1.0</td>\n",
       "      <td>0.728682</td>\n",
       "      <td>0.646739</td>\n",
       "      <td>0.589736</td>\n",
       "      <td>0.208333</td>\n",
       "      <td>0.0</td>\n",
       "      <td>1</td>\n",
       "    </tr>\n",
       "    <tr>\n",
       "      <th>2</th>\n",
       "      <td>18.0</td>\n",
       "      <td>1.0</td>\n",
       "      <td>0.645995</td>\n",
       "      <td>0.565217</td>\n",
       "      <td>0.516870</td>\n",
       "      <td>0.178571</td>\n",
       "      <td>0.0</td>\n",
       "      <td>1</td>\n",
       "    </tr>\n",
       "    <tr>\n",
       "      <th>3</th>\n",
       "      <td>16.0</td>\n",
       "      <td>1.0</td>\n",
       "      <td>0.609819</td>\n",
       "      <td>0.565217</td>\n",
       "      <td>0.516019</td>\n",
       "      <td>0.238095</td>\n",
       "      <td>0.0</td>\n",
       "      <td>1</td>\n",
       "    </tr>\n",
       "    <tr>\n",
       "      <th>4</th>\n",
       "      <td>17.0</td>\n",
       "      <td>1.0</td>\n",
       "      <td>0.604651</td>\n",
       "      <td>0.510870</td>\n",
       "      <td>0.520556</td>\n",
       "      <td>0.148810</td>\n",
       "      <td>0.0</td>\n",
       "      <td>1</td>\n",
       "    </tr>\n",
       "    <tr>\n",
       "      <th>...</th>\n",
       "      <td>...</td>\n",
       "      <td>...</td>\n",
       "      <td>...</td>\n",
       "      <td>...</td>\n",
       "      <td>...</td>\n",
       "      <td>...</td>\n",
       "      <td>...</td>\n",
       "      <td>...</td>\n",
       "    </tr>\n",
       "    <tr>\n",
       "      <th>387</th>\n",
       "      <td>27.0</td>\n",
       "      <td>0.2</td>\n",
       "      <td>0.186047</td>\n",
       "      <td>0.217391</td>\n",
       "      <td>0.333711</td>\n",
       "      <td>0.452381</td>\n",
       "      <td>1.0</td>\n",
       "      <td>1</td>\n",
       "    </tr>\n",
       "    <tr>\n",
       "      <th>388</th>\n",
       "      <td>44.0</td>\n",
       "      <td>0.2</td>\n",
       "      <td>0.074935</td>\n",
       "      <td>0.032609</td>\n",
       "      <td>0.146583</td>\n",
       "      <td>0.988095</td>\n",
       "      <td>1.0</td>\n",
       "      <td>2</td>\n",
       "    </tr>\n",
       "    <tr>\n",
       "      <th>389</th>\n",
       "      <td>32.0</td>\n",
       "      <td>0.2</td>\n",
       "      <td>0.173127</td>\n",
       "      <td>0.206522</td>\n",
       "      <td>0.193365</td>\n",
       "      <td>0.214286</td>\n",
       "      <td>1.0</td>\n",
       "      <td>1</td>\n",
       "    </tr>\n",
       "    <tr>\n",
       "      <th>390</th>\n",
       "      <td>28.0</td>\n",
       "      <td>0.2</td>\n",
       "      <td>0.134367</td>\n",
       "      <td>0.179348</td>\n",
       "      <td>0.286929</td>\n",
       "      <td>0.630952</td>\n",
       "      <td>1.0</td>\n",
       "      <td>1</td>\n",
       "    </tr>\n",
       "    <tr>\n",
       "      <th>391</th>\n",
       "      <td>31.0</td>\n",
       "      <td>0.2</td>\n",
       "      <td>0.131783</td>\n",
       "      <td>0.195652</td>\n",
       "      <td>0.313864</td>\n",
       "      <td>0.678571</td>\n",
       "      <td>1.0</td>\n",
       "      <td>1</td>\n",
       "    </tr>\n",
       "  </tbody>\n",
       "</table>\n",
       "<p>392 rows × 8 columns</p>\n",
       "</div>"
      ],
      "text/plain": [
       "      MPG  Cylinders  Displacement  Horsepower    Weight  Acceleration  \\\n",
       "0    18.0        1.0      0.617571    0.456522  0.536150      0.238095   \n",
       "1    15.0        1.0      0.728682    0.646739  0.589736      0.208333   \n",
       "2    18.0        1.0      0.645995    0.565217  0.516870      0.178571   \n",
       "3    16.0        1.0      0.609819    0.565217  0.516019      0.238095   \n",
       "4    17.0        1.0      0.604651    0.510870  0.520556      0.148810   \n",
       "..    ...        ...           ...         ...       ...           ...   \n",
       "387  27.0        0.2      0.186047    0.217391  0.333711      0.452381   \n",
       "388  44.0        0.2      0.074935    0.032609  0.146583      0.988095   \n",
       "389  32.0        0.2      0.173127    0.206522  0.193365      0.214286   \n",
       "390  28.0        0.2      0.134367    0.179348  0.286929      0.630952   \n",
       "391  31.0        0.2      0.131783    0.195652  0.313864      0.678571   \n",
       "\n",
       "     Model Year  Origin  \n",
       "0           0.0       1  \n",
       "1           0.0       1  \n",
       "2           0.0       1  \n",
       "3           0.0       1  \n",
       "4           0.0       1  \n",
       "..          ...     ...  \n",
       "387         1.0       1  \n",
       "388         1.0       2  \n",
       "389         1.0       1  \n",
       "390         1.0       1  \n",
       "391         1.0       1  \n",
       "\n",
       "[392 rows x 8 columns]"
      ]
     },
     "execution_count": 46,
     "metadata": {},
     "output_type": "execute_result"
    }
   ],
   "source": [
    "from sklearn.preprocessing import MinMaxScaler\n",
    "scaler = MinMaxScaler()\n",
    "\n",
    "numeric_columns = [\"Cylinders\", \"Displacement\", \"Horsepower\", \"Weight\", \"Acceleration\", \"Model Year\"]\n",
    "raw_dataset.iloc[:,1:7]= pd.DataFrame(scaler.fit_transform(raw_dataset[numeric_columns]))\n",
    "raw_dataset"
   ]
  },
  {
   "cell_type": "code",
   "execution_count": 47,
   "id": "c4f695d0",
   "metadata": {},
   "outputs": [
    {
     "data": {
      "text/html": [
       "<div>\n",
       "<style scoped>\n",
       "    .dataframe tbody tr th:only-of-type {\n",
       "        vertical-align: middle;\n",
       "    }\n",
       "\n",
       "    .dataframe tbody tr th {\n",
       "        vertical-align: top;\n",
       "    }\n",
       "\n",
       "    .dataframe thead th {\n",
       "        text-align: right;\n",
       "    }\n",
       "</style>\n",
       "<table border=\"1\" class=\"dataframe\">\n",
       "  <thead>\n",
       "    <tr style=\"text-align: right;\">\n",
       "      <th></th>\n",
       "      <th>MPG</th>\n",
       "      <th>Cylinders</th>\n",
       "      <th>Displacement</th>\n",
       "      <th>Horsepower</th>\n",
       "      <th>Weight</th>\n",
       "      <th>Acceleration</th>\n",
       "      <th>Model Year</th>\n",
       "      <th>Origin_1</th>\n",
       "      <th>Origin_2</th>\n",
       "      <th>Origin_3</th>\n",
       "    </tr>\n",
       "  </thead>\n",
       "  <tbody>\n",
       "    <tr>\n",
       "      <th>0</th>\n",
       "      <td>18.0</td>\n",
       "      <td>1.0</td>\n",
       "      <td>0.617571</td>\n",
       "      <td>0.456522</td>\n",
       "      <td>0.536150</td>\n",
       "      <td>0.238095</td>\n",
       "      <td>0.0</td>\n",
       "      <td>1</td>\n",
       "      <td>0</td>\n",
       "      <td>0</td>\n",
       "    </tr>\n",
       "    <tr>\n",
       "      <th>1</th>\n",
       "      <td>15.0</td>\n",
       "      <td>1.0</td>\n",
       "      <td>0.728682</td>\n",
       "      <td>0.646739</td>\n",
       "      <td>0.589736</td>\n",
       "      <td>0.208333</td>\n",
       "      <td>0.0</td>\n",
       "      <td>1</td>\n",
       "      <td>0</td>\n",
       "      <td>0</td>\n",
       "    </tr>\n",
       "    <tr>\n",
       "      <th>2</th>\n",
       "      <td>18.0</td>\n",
       "      <td>1.0</td>\n",
       "      <td>0.645995</td>\n",
       "      <td>0.565217</td>\n",
       "      <td>0.516870</td>\n",
       "      <td>0.178571</td>\n",
       "      <td>0.0</td>\n",
       "      <td>1</td>\n",
       "      <td>0</td>\n",
       "      <td>0</td>\n",
       "    </tr>\n",
       "    <tr>\n",
       "      <th>3</th>\n",
       "      <td>16.0</td>\n",
       "      <td>1.0</td>\n",
       "      <td>0.609819</td>\n",
       "      <td>0.565217</td>\n",
       "      <td>0.516019</td>\n",
       "      <td>0.238095</td>\n",
       "      <td>0.0</td>\n",
       "      <td>1</td>\n",
       "      <td>0</td>\n",
       "      <td>0</td>\n",
       "    </tr>\n",
       "    <tr>\n",
       "      <th>4</th>\n",
       "      <td>17.0</td>\n",
       "      <td>1.0</td>\n",
       "      <td>0.604651</td>\n",
       "      <td>0.510870</td>\n",
       "      <td>0.520556</td>\n",
       "      <td>0.148810</td>\n",
       "      <td>0.0</td>\n",
       "      <td>1</td>\n",
       "      <td>0</td>\n",
       "      <td>0</td>\n",
       "    </tr>\n",
       "    <tr>\n",
       "      <th>...</th>\n",
       "      <td>...</td>\n",
       "      <td>...</td>\n",
       "      <td>...</td>\n",
       "      <td>...</td>\n",
       "      <td>...</td>\n",
       "      <td>...</td>\n",
       "      <td>...</td>\n",
       "      <td>...</td>\n",
       "      <td>...</td>\n",
       "      <td>...</td>\n",
       "    </tr>\n",
       "    <tr>\n",
       "      <th>387</th>\n",
       "      <td>27.0</td>\n",
       "      <td>0.2</td>\n",
       "      <td>0.186047</td>\n",
       "      <td>0.217391</td>\n",
       "      <td>0.333711</td>\n",
       "      <td>0.452381</td>\n",
       "      <td>1.0</td>\n",
       "      <td>1</td>\n",
       "      <td>0</td>\n",
       "      <td>0</td>\n",
       "    </tr>\n",
       "    <tr>\n",
       "      <th>388</th>\n",
       "      <td>44.0</td>\n",
       "      <td>0.2</td>\n",
       "      <td>0.074935</td>\n",
       "      <td>0.032609</td>\n",
       "      <td>0.146583</td>\n",
       "      <td>0.988095</td>\n",
       "      <td>1.0</td>\n",
       "      <td>0</td>\n",
       "      <td>1</td>\n",
       "      <td>0</td>\n",
       "    </tr>\n",
       "    <tr>\n",
       "      <th>389</th>\n",
       "      <td>32.0</td>\n",
       "      <td>0.2</td>\n",
       "      <td>0.173127</td>\n",
       "      <td>0.206522</td>\n",
       "      <td>0.193365</td>\n",
       "      <td>0.214286</td>\n",
       "      <td>1.0</td>\n",
       "      <td>1</td>\n",
       "      <td>0</td>\n",
       "      <td>0</td>\n",
       "    </tr>\n",
       "    <tr>\n",
       "      <th>390</th>\n",
       "      <td>28.0</td>\n",
       "      <td>0.2</td>\n",
       "      <td>0.134367</td>\n",
       "      <td>0.179348</td>\n",
       "      <td>0.286929</td>\n",
       "      <td>0.630952</td>\n",
       "      <td>1.0</td>\n",
       "      <td>1</td>\n",
       "      <td>0</td>\n",
       "      <td>0</td>\n",
       "    </tr>\n",
       "    <tr>\n",
       "      <th>391</th>\n",
       "      <td>31.0</td>\n",
       "      <td>0.2</td>\n",
       "      <td>0.131783</td>\n",
       "      <td>0.195652</td>\n",
       "      <td>0.313864</td>\n",
       "      <td>0.678571</td>\n",
       "      <td>1.0</td>\n",
       "      <td>1</td>\n",
       "      <td>0</td>\n",
       "      <td>0</td>\n",
       "    </tr>\n",
       "  </tbody>\n",
       "</table>\n",
       "<p>392 rows × 10 columns</p>\n",
       "</div>"
      ],
      "text/plain": [
       "      MPG  Cylinders  Displacement  Horsepower    Weight  Acceleration  \\\n",
       "0    18.0        1.0      0.617571    0.456522  0.536150      0.238095   \n",
       "1    15.0        1.0      0.728682    0.646739  0.589736      0.208333   \n",
       "2    18.0        1.0      0.645995    0.565217  0.516870      0.178571   \n",
       "3    16.0        1.0      0.609819    0.565217  0.516019      0.238095   \n",
       "4    17.0        1.0      0.604651    0.510870  0.520556      0.148810   \n",
       "..    ...        ...           ...         ...       ...           ...   \n",
       "387  27.0        0.2      0.186047    0.217391  0.333711      0.452381   \n",
       "388  44.0        0.2      0.074935    0.032609  0.146583      0.988095   \n",
       "389  32.0        0.2      0.173127    0.206522  0.193365      0.214286   \n",
       "390  28.0        0.2      0.134367    0.179348  0.286929      0.630952   \n",
       "391  31.0        0.2      0.131783    0.195652  0.313864      0.678571   \n",
       "\n",
       "     Model Year  Origin_1  Origin_2  Origin_3  \n",
       "0           0.0         1         0         0  \n",
       "1           0.0         1         0         0  \n",
       "2           0.0         1         0         0  \n",
       "3           0.0         1         0         0  \n",
       "4           0.0         1         0         0  \n",
       "..          ...       ...       ...       ...  \n",
       "387         1.0         1         0         0  \n",
       "388         1.0         0         1         0  \n",
       "389         1.0         1         0         0  \n",
       "390         1.0         1         0         0  \n",
       "391         1.0         1         0         0  \n",
       "\n",
       "[392 rows x 10 columns]"
      ]
     },
     "execution_count": 47,
     "metadata": {},
     "output_type": "execute_result"
    }
   ],
   "source": [
    "raw_dataset = pd.get_dummies(raw_dataset, columns=['Origin'])\n",
    "raw_dataset"
   ]
  },
  {
   "cell_type": "code",
   "execution_count": 48,
   "id": "456dead4",
   "metadata": {},
   "outputs": [
    {
     "name": "stdout",
     "output_type": "stream",
     "text": [
      "MSE: 10.602279011688358\n",
      "r2 score: 0.7922774714022582\n"
     ]
    }
   ],
   "source": [
    "from sklearn.model_selection import train_test_split\n",
    "from sklearn.linear_model import LinearRegression\n",
    "from sklearn.metrics import mean_squared_error, r2_score\n",
    "\n",
    "\n",
    "X = raw_dataset.iloc[:,1:]\n",
    "y = raw_dataset[\"MPG\"]\n",
    "\n",
    "X_train, X_test, y_train, y_test = train_test_split(X, y, test_size=0.2, random_state=42)\n",
    "\n",
    "model = LinearRegression()\n",
    "model.fit(X_train, y_train)\n",
    "\n",
    "y_pred = model.predict(X_test)\n",
    "\n",
    "mse = mean_squared_error(y_test, y_pred)\n",
    "r2 = r2_score(y_test, y_pred)\n",
    "\n",
    "print(f\"MSE: {mse}\")\n",
    "print(f\"r2 score: {r2}\")"
   ]
  }
 ],
 "metadata": {
  "kernelspec": {
   "display_name": "Python 3 (ipykernel)",
   "language": "python",
   "name": "python3"
  },
  "language_info": {
   "codemirror_mode": {
    "name": "ipython",
    "version": 3
   },
   "file_extension": ".py",
   "mimetype": "text/x-python",
   "name": "python",
   "nbconvert_exporter": "python",
   "pygments_lexer": "ipython3",
   "version": "3.10.8"
  }
 },
 "nbformat": 4,
 "nbformat_minor": 5
}
