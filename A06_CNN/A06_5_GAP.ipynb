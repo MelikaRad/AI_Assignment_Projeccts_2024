{
 "cells": [
  {
   "cell_type": "markdown",
   "id": "8a5e907a",
   "metadata": {},
   "source": [
    "<div style=\"background-color: #c3e8fb; padding: 10px; color: #144d84;\">\n",
    "<b>Question 5) Global Average Pooling 2D</b><br>\n",
    "On the MNIST dataset (English handwritten digits) that we used in Notebook 2, implement a CNN model using GlobalAveragePooling2D layers. Then, save your model and in a separate code or notebook, load the saved model and input the data once with its original size and once with a slightly different size (e.g., 25x25 or 30x30).\n",
    "</div>"
   ]
  },
  {
   "cell_type": "code",
   "execution_count": 1,
   "id": "93a02611",
   "metadata": {},
   "outputs": [],
   "source": [
    "import tensorflow as tf\n",
    "from keras.layers import Input, Conv2D, MaxPooling2D, GlobalAveragePooling2D, Dense\n",
    "from keras.models import Sequential\n",
    "import numpy as np\n",
    "import cv2"
   ]
  },
  {
   "cell_type": "code",
   "execution_count": 2,
   "id": "77e5e09c",
   "metadata": {},
   "outputs": [],
   "source": [
    "mnist = tf.keras.datasets.mnist\n",
    "(x_train, y_train), (x_test, y_test) = mnist.load_data()"
   ]
  },
  {
   "cell_type": "code",
   "execution_count": 3,
   "id": "e2b1b7fb",
   "metadata": {},
   "outputs": [],
   "source": [
    "x_train = x_train.reshape((60000, 28, 28, 1)).astype('float32') / 255.0\n",
    "x_test = x_test.reshape((10000, 28, 28, 1)).astype('float32') / 255.0"
   ]
  },
  {
   "cell_type": "code",
   "execution_count": 4,
   "id": "532bb6f0",
   "metadata": {},
   "outputs": [],
   "source": [
    "# model = Sequential([\n",
    "#     Conv2D(32, (3, 3), activation='relu', input_shape=(28, 28, 1)),\n",
    "#     MaxPooling2D((2, 2)),\n",
    "#     Conv2D(64, (3, 3), activation='relu'),\n",
    "#     MaxPooling2D((2, 2)),\n",
    "#     Conv2D(64, (3, 3), activation='relu'),\n",
    "#     GlobalAveragePooling2D(),\n",
    "#     Dense(64, activation='relu'),\n",
    "#     Dense(10, activation='softmax')\n",
    "# ])\n",
    "\n",
    "# model.compile(optimizer='adam',\n",
    "#               loss='sparse_categorical_crossentropy',\n",
    "#               metrics=['accuracy'])"
   ]
  },
  {
   "cell_type": "markdown",
   "id": "9fb74fa9",
   "metadata": {},
   "source": [
    "we set input shape to None so that we can give it data with any size for inference"
   ]
  },
  {
   "cell_type": "code",
   "execution_count": 5,
   "id": "13878921",
   "metadata": {},
   "outputs": [],
   "source": [
    "model = Sequential([\n",
    "    Input(shape=(None, None, 1)),\n",
    "    Conv2D(32, (3, 3), activation='relu'),\n",
    "    MaxPooling2D((2, 2)),\n",
    "    Conv2D(64, (3, 3), activation='relu'),\n",
    "    MaxPooling2D((2, 2)),\n",
    "    Conv2D(64, (3, 3), activation='relu'),\n",
    "    GlobalAveragePooling2D(),\n",
    "    Dense(64, activation='relu'),\n",
    "    Dense(10, activation='softmax')\n",
    "])\n",
    "\n",
    "model.compile(optimizer='adam',\n",
    "              loss='sparse_categorical_crossentropy',\n",
    "              metrics=['accuracy'])"
   ]
  },
  {
   "cell_type": "code",
   "execution_count": 6,
   "id": "8ec3434c",
   "metadata": {},
   "outputs": [
    {
     "name": "stdout",
     "output_type": "stream",
     "text": [
      "Model: \"sequential\"\n",
      "_________________________________________________________________\n",
      " Layer (type)                Output Shape              Param #   \n",
      "=================================================================\n",
      " conv2d (Conv2D)             (None, None, None, 32)    320       \n",
      "                                                                 \n",
      " max_pooling2d (MaxPooling2D  (None, None, None, 32)   0         \n",
      " )                                                               \n",
      "                                                                 \n",
      " conv2d_1 (Conv2D)           (None, None, None, 64)    18496     \n",
      "                                                                 \n",
      " max_pooling2d_1 (MaxPooling  (None, None, None, 64)   0         \n",
      " 2D)                                                             \n",
      "                                                                 \n",
      " conv2d_2 (Conv2D)           (None, None, None, 64)    36928     \n",
      "                                                                 \n",
      " global_average_pooling2d (G  (None, 64)               0         \n",
      " lobalAveragePooling2D)                                          \n",
      "                                                                 \n",
      " dense (Dense)               (None, 64)                4160      \n",
      "                                                                 \n",
      " dense_1 (Dense)             (None, 10)                650       \n",
      "                                                                 \n",
      "=================================================================\n",
      "Total params: 60,554\n",
      "Trainable params: 60,554\n",
      "Non-trainable params: 0\n",
      "_________________________________________________________________\n"
     ]
    }
   ],
   "source": [
    "model.summary()"
   ]
  },
  {
   "cell_type": "code",
   "execution_count": 7,
   "id": "ef120afb",
   "metadata": {},
   "outputs": [
    {
     "name": "stdout",
     "output_type": "stream",
     "text": [
      "Epoch 1/4\n",
      "1875/1875 [==============================] - 17s 9ms/step - loss: 0.2844 - accuracy: 0.9093 - val_loss: 0.0817 - val_accuracy: 0.9742\n",
      "Epoch 2/4\n",
      "1875/1875 [==============================] - 17s 9ms/step - loss: 0.0832 - accuracy: 0.9741 - val_loss: 0.0573 - val_accuracy: 0.9816\n",
      "Epoch 3/4\n",
      "1875/1875 [==============================] - 17s 9ms/step - loss: 0.0577 - accuracy: 0.9822 - val_loss: 0.0377 - val_accuracy: 0.9881\n",
      "Epoch 4/4\n",
      "1875/1875 [==============================] - 17s 9ms/step - loss: 0.0463 - accuracy: 0.9853 - val_loss: 0.0382 - val_accuracy: 0.9883\n"
     ]
    },
    {
     "data": {
      "text/plain": [
       "<keras.callbacks.History at 0x1bf98f8e740>"
      ]
     },
     "execution_count": 7,
     "metadata": {},
     "output_type": "execute_result"
    }
   ],
   "source": [
    "model.fit(x_train, y_train, epochs=4, batch_size=32, validation_data=(x_test, y_test))"
   ]
  },
  {
   "cell_type": "markdown",
   "id": "2432f794",
   "metadata": {},
   "source": [
    "### Loading and using the model"
   ]
  },
  {
   "cell_type": "code",
   "execution_count": 8,
   "id": "b76dc1c7",
   "metadata": {},
   "outputs": [],
   "source": [
    "model.save('Melika_Rad_mnist_cnn_model.h5')"
   ]
  },
  {
   "cell_type": "code",
   "execution_count": 9,
   "id": "f409e997",
   "metadata": {},
   "outputs": [],
   "source": [
    "from tensorflow.keras.models import load_model\n",
    "\n",
    "loaded_model = load_model('Melika_Rad_mnist_cnn_model.h5')"
   ]
  },
  {
   "cell_type": "code",
   "execution_count": 10,
   "id": "a66f199f",
   "metadata": {},
   "outputs": [
    {
     "data": {
      "text/plain": [
       "(28, 28, 1)"
      ]
     },
     "execution_count": 10,
     "metadata": {},
     "output_type": "execute_result"
    }
   ],
   "source": [
    "x_test[100].shape"
   ]
  },
  {
   "cell_type": "code",
   "execution_count": 11,
   "id": "c0dce158",
   "metadata": {},
   "outputs": [
    {
     "data": {
      "text/plain": [
       "6"
      ]
     },
     "execution_count": 11,
     "metadata": {},
     "output_type": "execute_result"
    }
   ],
   "source": [
    "y_test[100]"
   ]
  },
  {
   "cell_type": "code",
   "execution_count": 12,
   "id": "8d98cdc2",
   "metadata": {},
   "outputs": [
    {
     "name": "stdout",
     "output_type": "stream",
     "text": [
      "(1, 28, 28, 1)\n",
      "(1, 25, 25, 1)\n",
      "(1, 30, 30, 1)\n"
     ]
    }
   ],
   "source": [
    "img = x_test[100].copy()\n",
    "img = np.expand_dims(img, axis=0)\n",
    "img.shape\n",
    "\n",
    "img_25 = cv2.resize(x_test[100].copy(), (25, 25))\n",
    "img_25 = np.expand_dims(img_25, axis=0)\n",
    "img_25 = np.expand_dims(img_25, axis=-1)\n",
    "\n",
    "img_30 = cv2.resize(x_test[100].copy(), (30, 30))\n",
    "img_30 = np.expand_dims(img_30, axis=0)\n",
    "img_30 = np.expand_dims(img_30, axis=-1)\n",
    "\n",
    "print(img.shape)\n",
    "print(img_25.shape)\n",
    "print(img_30.shape)"
   ]
  },
  {
   "cell_type": "code",
   "execution_count": 13,
   "id": "6d016648",
   "metadata": {},
   "outputs": [
    {
     "name": "stdout",
     "output_type": "stream",
     "text": [
      "1/1 [==============================] - 0s 61ms/step\n",
      "Predicted class for original size image: 6  true label:  6\n",
      "1/1 [==============================] - 0s 43ms/step\n",
      "Predicted class for original size image: 6  true label:  6\n",
      "1/1 [==============================] - 0s 14ms/step\n",
      "Predicted class for original size image: 6  true label:  6\n"
     ]
    }
   ],
   "source": [
    "predictions = loaded_model.predict(img)\n",
    "print(\"Predicted class for original size image:\", np.argmax(predictions), \" true label: \", y_test[100])\n",
    "\n",
    "predictions = loaded_model.predict(img_25)\n",
    "print(\"Predicted class for original size image:\", np.argmax(predictions), \" true label: \", y_test[100])\n",
    "\n",
    "predictions = loaded_model.predict(img_30)\n",
    "print(\"Predicted class for original size image:\", np.argmax(predictions), \" true label: \", y_test[100])"
   ]
  }
 ],
 "metadata": {
  "kernelspec": {
   "display_name": "Python 3 (ipykernel)",
   "language": "python",
   "name": "python3"
  },
  "language_info": {
   "codemirror_mode": {
    "name": "ipython",
    "version": 3
   },
   "file_extension": ".py",
   "mimetype": "text/x-python",
   "name": "python",
   "nbconvert_exporter": "python",
   "pygments_lexer": "ipython3",
   "version": "3.10.8"
  }
 },
 "nbformat": 4,
 "nbformat_minor": 5
}
