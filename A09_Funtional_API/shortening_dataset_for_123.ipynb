{
 "cells": [
  {
   "cell_type": "code",
   "execution_count": 6,
   "id": "8c08b36a",
   "metadata": {},
   "outputs": [
    {
     "name": "stdout",
     "output_type": "stream",
     "text": [
      "Copied 2000 images and their corresponding text files to Hand_gesture_light_2000/train.\n"
     ]
    }
   ],
   "source": [
    "import os\n",
    "import shutil\n",
    "import random\n",
    "\n",
    "dataset_dir = 'Diverse_hand_gesture_dataset/train'\n",
    "destination_dir = 'Hand_gesture_light_2000/train'\n",
    "\n",
    "os.makedirs(destination_dir, exist_ok=True)\n",
    "image_files = [f for f in os.listdir(dataset_dir) if f.endswith('.png')]\n",
    "\n",
    "random.shuffle(image_files)\n",
    "# selected_images = random.sample(image_files, 2000)\n",
    "\n",
    "c = 0 \n",
    "for image_file in image_files:\n",
    "    txt_file = image_file.replace('.png', '.txt')\n",
    "    \n",
    "    src_image_path = os.path.join(dataset_dir, image_file)\n",
    "    src_txt_path = os.path.join(dataset_dir, txt_file)\n",
    "    \n",
    "    dest_image_path = os.path.join(destination_dir, image_file)\n",
    "    dest_txt_path = os.path.join(destination_dir, txt_file)\n",
    "    \n",
    "    # copying\n",
    "    shutil.copy(src_image_path, dest_image_path)\n",
    "\n",
    "        shutil.copy(src_txt_path, dest_txt_path)\n",
    " -\n",
    "    c+=1\n",
    "    if c == 2000:\n",
    "        break\n",
    "\n",
    "print(f\"Copied {len(selected_images)} images and their corresponding text files to {destination_dir}.\")"
   ]
  }
 ],
 "metadata": {
  "kernelspec": {
   "display_name": "Python 3 (ipykernel)",
   "language": "python",
   "name": "python3"
  },
  "language_info": {
   "codemirror_mode": {
    "name": "ipython",
    "version": 3
   },
   "file_extension": ".py",
   "mimetype": "text/x-python",
   "name": "python",
   "nbconvert_exporter": "python",
   "pygments_lexer": "ipython3",
   "version": "3.10.8"
  }
 },
 "nbformat": 4,
 "nbformat_minor": 5
}
