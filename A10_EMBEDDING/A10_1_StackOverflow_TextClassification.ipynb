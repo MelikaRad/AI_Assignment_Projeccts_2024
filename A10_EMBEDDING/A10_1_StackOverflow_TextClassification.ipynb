{
 "cells": [
  {
   "cell_type": "markdown",
   "metadata": {},
   "source": [
    "<div style=\"background-color: #c3e8fb; padding: 10px; color: #144d84;\">\n",
    "<b>Exercise 1) Stack Overflow Text dataset Classification</b><br>\n",
    "</div>"
   ]
  },
  {
   "cell_type": "code",
   "execution_count": 1,
   "metadata": {
    "colab": {
     "base_uri": "https://localhost:8080/"
    },
    "id": "nsmspe6yX2z0",
    "outputId": "4c3e88c7-8a29-4ab3-d026-b965a6690b42",
    "scrolled": true
   },
   "outputs": [
    {
     "name": "stdout",
     "output_type": "stream",
     "text": [
      "--2024-12-11 11:50:38--  https://storage.googleapis.com/download.tensorflow.org/data/stack_overflow_16k.tar.gz\n",
      "Resolving storage.googleapis.com (storage.googleapis.com)... 142.251.16.207, 142.251.179.207, 64.233.180.207, ...\n",
      "Connecting to storage.googleapis.com (storage.googleapis.com)|142.251.16.207|:443... connected.\n",
      "HTTP request sent, awaiting response... 200 OK\n",
      "Length: 6053168 (5.8M) [application/x-gzip]\n",
      "Saving to: ‘stack_overflow_16k.tar.gz’\n",
      "\n",
      "stack_overflow_16k. 100%[===================>]   5.77M  --.-KB/s    in 0.06s   \n",
      "\n",
      "2024-12-11 11:50:38 (94.7 MB/s) - ‘stack_overflow_16k.tar.gz’ saved [6053168/6053168]\n",
      "\n"
     ]
    }
   ],
   "source": [
    "!wget https://storage.googleapis.com/download.tensorflow.org/data/stack_overflow_16k.tar.gz"
   ]
  },
  {
   "cell_type": "code",
   "execution_count": 2,
   "metadata": {
    "id": "eLuqMpd9X22-"
   },
   "outputs": [],
   "source": [
    "!tar -xzf stack_overflow_16k.tar.gz"
   ]
  },
  {
   "cell_type": "code",
   "execution_count": 63,
   "metadata": {
    "id": "Kp7MYsOsU3Wl"
   },
   "outputs": [],
   "source": [
    "import matplotlib.pyplot as plt\n",
    "import os\n",
    "import re\n",
    "import shutil\n",
    "import string\n",
    "import tensorflow as tf\n",
    "import numpy as np\n",
    "import matplotlib.pyplot as plt\n",
    "\n",
    "from tensorflow.keras import layers\n",
    "from tensorflow.keras import losses\n",
    "\n",
    "from tensorflow.keras.callbacks import EarlyStopping, ReduceLROnPlateau"
   ]
  },
  {
   "cell_type": "code",
   "execution_count": 4,
   "metadata": {
    "colab": {
     "base_uri": "https://localhost:8080/"
    },
    "id": "6jM6vtPLUAjr",
    "outputId": "f9d80944-a6d3-4ed7-a89b-5a253016495e"
   },
   "outputs": [
    {
     "name": "stdout",
     "output_type": "stream",
     "text": [
      "2000\n",
      "2000\n",
      "2000\n",
      "2000\n"
     ]
    }
   ],
   "source": [
    "print(len(os.listdir('train/csharp')))\n",
    "print(len(os.listdir('train/java')))\n",
    "print(len(os.listdir('train/javascript')))\n",
    "print(len(os.listdir('train/python')))"
   ]
  },
  {
   "cell_type": "markdown",
   "metadata": {
    "id": "avIoJwxKfwTp"
   },
   "source": [
    "### Loading the data"
   ]
  },
  {
   "cell_type": "code",
   "execution_count": 5,
   "metadata": {
    "colab": {
     "base_uri": "https://localhost:8080/"
    },
    "id": "Sc3IhPKqUJ5Z",
    "outputId": "f31fb3e9-288a-47da-fc0f-2b540f1ea785"
   },
   "outputs": [
    {
     "name": "stdout",
     "output_type": "stream",
     "text": [
      "Found 8000 files belonging to 4 classes.\n",
      "Using 6400 files for training.\n",
      "Found 8000 files belonging to 4 classes.\n",
      "Using 1600 files for validation.\n",
      "Found 8000 files belonging to 4 classes.\n"
     ]
    }
   ],
   "source": [
    "batch_size = 32\n",
    "seed = 42\n",
    "\n",
    "raw_train_ds = tf.keras.utils.text_dataset_from_directory(\n",
    "    'train',\n",
    "    batch_size=batch_size,\n",
    "    validation_split=0.2,\n",
    "    subset='training',\n",
    "    seed=seed)\n",
    "\n",
    "raw_val_ds = tf.keras.utils.text_dataset_from_directory(\n",
    "    'train',\n",
    "    batch_size=batch_size,\n",
    "    validation_split=0.2,\n",
    "    subset='validation',\n",
    "    seed=seed)\n",
    "\n",
    "raw_test_ds = tf.keras.utils.text_dataset_from_directory(\n",
    "    'test',\n",
    "    batch_size=batch_size)"
   ]
  },
  {
   "cell_type": "markdown",
   "metadata": {
    "id": "mrEuYEgXf30I"
   },
   "source": [
    "### Standardizing and Tokenizing"
   ]
  },
  {
   "cell_type": "code",
   "execution_count": 6,
   "metadata": {
    "id": "m5XNptmCUkeP"
   },
   "outputs": [],
   "source": [
    "def custom_standardization(input_data):\n",
    "  lowercase = tf.strings.lower(input_data)\n",
    "  stripped_html = tf.strings.regex_replace(lowercase, '<br />', ' ')\n",
    "  return stripped_html"
   ]
  },
  {
   "cell_type": "code",
   "execution_count": 7,
   "metadata": {
    "id": "MjDiWs2fWTZs"
   },
   "outputs": [],
   "source": [
    "max_features = 10000\n",
    "sequence_length = 300\n",
    "\n",
    "vectorize_layer = layers.TextVectorization(\n",
    "    standardize=custom_standardization,\n",
    "    max_tokens=max_features,\n",
    "    output_mode='int',\n",
    "    output_sequence_length=sequence_length,\n",
    "    ngrams=(1,2))"
   ]
  },
  {
   "cell_type": "code",
   "execution_count": 8,
   "metadata": {
    "id": "qV92tDwgWUmj"
   },
   "outputs": [],
   "source": [
    "# adapt to get the tokens (vocabulary)\n",
    "train_text = raw_train_ds.map(lambda x, y: x)\n",
    "vectorize_layer.adapt(train_text)"
   ]
  },
  {
   "cell_type": "code",
   "execution_count": 9,
   "metadata": {
    "colab": {
     "base_uri": "https://localhost:8080/"
    },
    "id": "FhdNMiTWZ8E4",
    "outputId": "3bacd685-2ff3-47b9-ffdd-5cef09d17698"
   },
   "outputs": [
    {
     "name": "stdout",
     "output_type": "stream",
     "text": [
      "data:  (32,)\n",
      "label:  (32,)\n",
      "data:  (32,)\n",
      "label:  (32,)\n",
      "data:  (32,)\n",
      "label:  (32,)\n"
     ]
    }
   ],
   "source": [
    "for data, label in raw_train_ds.take(3):\n",
    "    print(\"data: \", data.shape)\n",
    "    print('label: ', label.shape)"
   ]
  },
  {
   "cell_type": "code",
   "execution_count": 10,
   "metadata": {
    "colab": {
     "base_uri": "https://localhost:8080/"
    },
    "id": "-IUk5eCyaAGu",
    "outputId": "adf9f99b-6334-482b-9aaa-05b87494e914"
   },
   "outputs": [
    {
     "name": "stdout",
     "output_type": "stream",
     "text": [
      "data:  (32,)\n",
      "data:  (32,)\n",
      "data:  (32,)\n"
     ]
    }
   ],
   "source": [
    "for data in train_text.take(3):\n",
    "    print(\"data: \", data.shape)"
   ]
  },
  {
   "cell_type": "code",
   "execution_count": 11,
   "metadata": {
    "colab": {
     "base_uri": "https://localhost:8080/"
    },
    "id": "UzyOwe4taAJl",
    "outputId": "e039812f-f63d-4dab-d1cb-4ffcc3593ead"
   },
   "outputs": [
    {
     "data": {
      "text/plain": [
       "['',\n",
       " '[UNK]',\n",
       " 'the',\n",
       " '=',\n",
       " 'to',\n",
       " 'i',\n",
       " 'a',\n",
       " 'in',\n",
       " 'is',\n",
       " '{.',\n",
       " 'and',\n",
       " 'of',\n",
       " 'if',\n",
       " 'for',\n",
       " 'it',\n",
       " 'that',\n",
       " 'this',\n",
       " '+',\n",
       " 'new',\n",
       " 'have',\n",
       " '}.',\n",
       " 'with',\n",
       " '= new',\n",
       " 'string',\n",
       " 'not',\n",
       " 'my',\n",
       " '.',\n",
       " 'but',\n",
       " 'return',\n",
       " 'public',\n",
       " 'blank',\n",
       " 'an',\n",
       " 'from',\n",
       " 'be',\n",
       " 'am',\n",
       " 'class',\n",
       " 'can',\n",
       " 'as',\n",
       " 'i have',\n",
       " 'code',\n",
       " 'on',\n",
       " '==',\n",
       " 'int',\n",
       " 'how',\n",
       " 'void',\n",
       " 'do',\n",
       " '}..',\n",
       " 'i am',\n",
       " 'want',\n",
       " 'or',\n",
       " 'when',\n",
       " 'get',\n",
       " 'file',\n",
       " 'using',\n",
       " 'like',\n",
       " 'of the',\n",
       " '//',\n",
       " 'function',\n",
       " 'var',\n",
       " 'static',\n",
       " 'in the',\n",
       " '*',\n",
       " '\"\"',\n",
       " '-',\n",
       " 'so',\n",
       " \"i'm\",\n",
       " 'are',\n",
       " 'want to',\n",
       " 'at',\n",
       " 'what',\n",
       " 'would',\n",
       " 'you',\n",
       " 'which',\n",
       " '{',\n",
       " 'there',\n",
       " 'will',\n",
       " 'use',\n",
       " 'i want',\n",
       " 'list',\n",
       " 'value',\n",
       " 'all',\n",
       " 'one',\n",
       " 'method',\n",
       " 'by',\n",
       " 'any',\n",
       " 'need',\n",
       " 'object',\n",
       " '&lt;',\n",
       " 'else',\n",
       " 'trying',\n",
       " 'me',\n",
       " 'some',\n",
       " ':',\n",
       " 'trying to',\n",
       " 'is the',\n",
       " 'number',\n",
       " 'to the',\n",
       " 'then',\n",
       " 'print',\n",
       " 'have a',\n",
       " 'way',\n",
       " '\"how',\n",
       " 'line',\n",
       " 'should',\n",
       " 'how to',\n",
       " 'private',\n",
       " '}',\n",
       " 'error',\n",
       " 'only',\n",
       " 'has',\n",
       " '\"\" +',\n",
       " 'array',\n",
       " 'data',\n",
       " 'into',\n",
       " 'know',\n",
       " 'just',\n",
       " 'out',\n",
       " 'in a',\n",
       " 'program',\n",
       " 'first',\n",
       " '{..',\n",
       " '1',\n",
       " 'while',\n",
       " 'name',\n",
       " 'make',\n",
       " 'user',\n",
       " 'in blank',\n",
       " 'was',\n",
       " 'static void',\n",
       " 'when i',\n",
       " 'need to',\n",
       " 'can i',\n",
       " 'does',\n",
       " 'input',\n",
       " 'each',\n",
       " 'same',\n",
       " 'two',\n",
       " 'public static',\n",
       " 'double',\n",
       " 'help',\n",
       " 'following',\n",
       " '\"how to',\n",
       " 'is not',\n",
       " 'i need',\n",
       " 'where',\n",
       " 'to do',\n",
       " '2',\n",
       " 'create',\n",
       " 'but i',\n",
       " 'text',\n",
       " '0;',\n",
       " 'to be',\n",
       " 'variable',\n",
       " 'time',\n",
       " '= 0;',\n",
       " 'problem',\n",
       " 'add',\n",
       " 'it is',\n",
       " \"don't\",\n",
       " '&amp;&amp;',\n",
       " 'to get',\n",
       " 'tried',\n",
       " 'case',\n",
       " 'this is',\n",
       " 'i =',\n",
       " 'and i',\n",
       " 'way to',\n",
       " 'is a',\n",
       " '#',\n",
       " '!=',\n",
       " 'x',\n",
       " 'other',\n",
       " 'output',\n",
       " 'public void',\n",
       " '}.. public',\n",
       " 'find',\n",
       " 'no',\n",
       " '}. }.',\n",
       " 'i can',\n",
       " 'values',\n",
       " 'call',\n",
       " '0',\n",
       " 'loop',\n",
       " '\"blank',\n",
       " '{. return',\n",
       " 'run',\n",
       " '0,',\n",
       " 'the same',\n",
       " 'try',\n",
       " 'the following',\n",
       " '+=',\n",
       " 'why',\n",
       " 'something',\n",
       " 'for the',\n",
       " 'getting',\n",
       " 'another',\n",
       " 'type',\n",
       " 'after',\n",
       " 'set',\n",
       " 'result',\n",
       " 'import',\n",
       " 'that i',\n",
       " 'the code',\n",
       " 'get the',\n",
       " 'on the',\n",
       " 'from the',\n",
       " '&gt;',\n",
       " 'with the',\n",
       " 'if i',\n",
       " '{. if',\n",
       " 'else if',\n",
       " 'i get',\n",
       " 'your',\n",
       " 'to a',\n",
       " 'here',\n",
       " 'working',\n",
       " 'to use',\n",
       " 'could',\n",
       " 'of a',\n",
       " 'i &lt;',\n",
       " '(int',\n",
       " 'different',\n",
       " 'def',\n",
       " 'write',\n",
       " 'we',\n",
       " 'up',\n",
       " 'to make',\n",
       " 'read',\n",
       " '/',\n",
       " 'am trying',\n",
       " '0;.',\n",
       " '..',\n",
       " 'change',\n",
       " 'also',\n",
       " 'its',\n",
       " 'more',\n",
       " \"it's\",\n",
       " 'the first',\n",
       " 'is my',\n",
       " 'work',\n",
       " 'do i',\n",
       " '||',\n",
       " 'through',\n",
       " 'please',\n",
       " \"doesn't\",\n",
       " 'the user',\n",
       " 'what i',\n",
       " \"can't\",\n",
       " 'question',\n",
       " 'enter',\n",
       " 'because',\n",
       " 'than',\n",
       " 'like to',\n",
       " 'main(string[]',\n",
       " 'void main(string[]',\n",
       " '0; i',\n",
       " 'check',\n",
       " 'a list',\n",
       " 'they',\n",
       " 'see',\n",
       " 'for (int',\n",
       " 'about',\n",
       " 'how can',\n",
       " '= 0;.',\n",
       " 'files',\n",
       " 'between',\n",
       " '3',\n",
       " 'without',\n",
       " 'been',\n",
       " 'and the',\n",
       " '+ \"\"',\n",
       " \"i've\",\n",
       " 'if the',\n",
       " \"i don't\",\n",
       " 'answer',\n",
       " 'is there',\n",
       " 'doing',\n",
       " 'used',\n",
       " '|',\n",
       " 'would be',\n",
       " 'now',\n",
       " 'list of',\n",
       " 'example',\n",
       " 'wrong',\n",
       " 'works',\n",
       " '{. var',\n",
       " 'to create',\n",
       " 'them',\n",
       " 'in my',\n",
       " 'second',\n",
       " 'numbers',\n",
       " 'main',\n",
       " 'break;.',\n",
       " 'it to',\n",
       " 'sure',\n",
       " 'inside',\n",
       " 'current',\n",
       " 'convert',\n",
       " 'i would',\n",
       " 'does not',\n",
       " 'cannot',\n",
       " 'below',\n",
       " 'have to',\n",
       " 'number of',\n",
       " 'i do',\n",
       " 'correct',\n",
       " 'blank i',\n",
       " 'these',\n",
       " '\"\");.',\n",
       " 'from a',\n",
       " ',',\n",
       " 'able',\n",
       " 'would like',\n",
       " 'b',\n",
       " 'all the',\n",
       " 'possible',\n",
       " 'so i',\n",
       " 'catch',\n",
       " 'able to',\n",
       " 'with a',\n",
       " 'index',\n",
       " 'create a',\n",
       " '}. else',\n",
       " 'for a',\n",
       " 'word',\n",
       " '1.',\n",
       " 'date',\n",
       " 'false;.',\n",
       " '1,',\n",
       " 'my code',\n",
       " '} else',\n",
       " 'a string',\n",
       " '=&gt;',\n",
       " 'button',\n",
       " 'will be',\n",
       " 'script',\n",
       " 'but it',\n",
       " 'there is',\n",
       " 'many',\n",
       " 'access',\n",
       " 'every',\n",
       " 'returns',\n",
       " 'true;.',\n",
       " 'there a',\n",
       " 'that the',\n",
       " 'having',\n",
       " 'and then',\n",
       " 'objects',\n",
       " 'a function',\n",
       " 'boolean',\n",
       " 'property',\n",
       " 'understand',\n",
       " '&lt;=',\n",
       " 'the value',\n",
       " '}. }..',\n",
       " 'form',\n",
       " '{ .',\n",
       " \"i'm trying\",\n",
       " 'simple',\n",
       " 'found',\n",
       " 'scanner',\n",
       " 'display',\n",
       " 'start',\n",
       " 'right',\n",
       " 'i++)',\n",
       " 'should be',\n",
       " 'last',\n",
       " 'as a',\n",
       " 'to add',\n",
       " 'page',\n",
       " 'got',\n",
       " 'count',\n",
       " 'very',\n",
       " 'a blank',\n",
       " 'have the',\n",
       " 'at the',\n",
       " 'multiple',\n",
       " 'key',\n",
       " 'even',\n",
       " 'item',\n",
       " '{. public',\n",
       " 'is that',\n",
       " 'a way',\n",
       " 'test',\n",
       " 'image',\n",
       " 'final',\n",
       " 'c',\n",
       " '},.',\n",
       " 'public string',\n",
       " 'elif',\n",
       " '0, 0,',\n",
       " 'end',\n",
       " '}. public',\n",
       " 'event',\n",
       " 'anyone',\n",
       " 'on a',\n",
       " 'else.',\n",
       " 'still',\n",
       " 'a new',\n",
       " 'id',\n",
       " 'element',\n",
       " 'both',\n",
       " 'blank?',\n",
       " 'args)',\n",
       " 'click',\n",
       " 'called',\n",
       " 'above',\n",
       " '(int i',\n",
       " 'being',\n",
       " '4',\n",
       " 'someone',\n",
       " '&lt;option',\n",
       " 'show',\n",
       " 'instance',\n",
       " 'what is',\n",
       " 'statement',\n",
       " 'that is',\n",
       " 'pass',\n",
       " 'given',\n",
       " 'created',\n",
       " 'application',\n",
       " 'row',\n",
       " 'which is',\n",
       " 'random',\n",
       " '{. //',\n",
       " 'exception',\n",
       " 'before',\n",
       " 'variables',\n",
       " 'the program',\n",
       " 'else {.',\n",
       " '&gt;=',\n",
       " 'contains',\n",
       " 'using the',\n",
       " 'think',\n",
       " 'next',\n",
       " 'n',\n",
       " 'value of',\n",
       " '?',\n",
       " 'part',\n",
       " 'to find',\n",
       " 'seems',\n",
       " 'must',\n",
       " 'put',\n",
       " 'i use',\n",
       " 'specific',\n",
       " 'go',\n",
       " 'main(string[] args)',\n",
       " \"i can't\",\n",
       " 'methods',\n",
       " 'i++) {.',\n",
       " 'to write',\n",
       " 'the number',\n",
       " '5',\n",
       " 'in this',\n",
       " 'new to',\n",
       " 'instead',\n",
       " \"'\",\n",
       " 'y',\n",
       " 'remove',\n",
       " 'it.',\n",
       " 'else:.',\n",
       " 'integer',\n",
       " 'here is',\n",
       " 'path',\n",
       " '}.}\"',\n",
       " '%',\n",
       " 'j',\n",
       " 'i was',\n",
       " 'i in',\n",
       " 'an array',\n",
       " 'sender,',\n",
       " 'get;',\n",
       " '1;.',\n",
       " 'such',\n",
       " '= true;.',\n",
       " 'really',\n",
       " 'null',\n",
       " '{. string',\n",
       " '&lt;input',\n",
       " 'within',\n",
       " 'running',\n",
       " '{ get;',\n",
       " '0)',\n",
       " 'this code',\n",
       " 'html',\n",
       " 'help me',\n",
       " 'game',\n",
       " 'a class',\n",
       " 'know how',\n",
       " 'in blank?',\n",
       " 'e).',\n",
       " '}. return',\n",
       " 'the file',\n",
       " 'it will',\n",
       " 'already',\n",
       " '(var',\n",
       " 'total',\n",
       " 'order',\n",
       " 'open',\n",
       " 'lines',\n",
       " 'always',\n",
       " 'try to',\n",
       " 'their',\n",
       " 'take',\n",
       " 'let',\n",
       " 'over',\n",
       " 'throws',\n",
       " 'server',\n",
       " 'into a',\n",
       " '= false;.',\n",
       " 'project',\n",
       " 'say',\n",
       " 's',\n",
       " 'message',\n",
       " 'looks',\n",
       " 'keep',\n",
       " '10',\n",
       " 'set;',\n",
       " 'is:',\n",
       " '...',\n",
       " 'problem is',\n",
       " 'give',\n",
       " 'make a',\n",
       " 'blank.',\n",
       " '&lt;div',\n",
       " 'based',\n",
       " 'words',\n",
       " 'search',\n",
       " 'how do',\n",
       " 'back',\n",
       " 'is to',\n",
       " 'get; set;',\n",
       " 'break;. case',\n",
       " ')',\n",
       " 'the list',\n",
       " 'foreach',\n",
       " 'elements',\n",
       " '(',\n",
       " 'public int',\n",
       " 'instead of',\n",
       " 'command',\n",
       " 'solution',\n",
       " 'to convert',\n",
       " 'to check',\n",
       " 'there any',\n",
       " 'the problem',\n",
       " 'long',\n",
       " 'when the',\n",
       " 'so that',\n",
       " 'function()',\n",
       " 'code is',\n",
       " 'format',\n",
       " \"don't know\",\n",
       " 'and it',\n",
       " '..i',\n",
       " 'length',\n",
       " '{. int',\n",
       " 'private void',\n",
       " 'can be',\n",
       " '===',\n",
       " 'the function',\n",
       " 'i know',\n",
       " 'the second',\n",
       " 'functions',\n",
       " 'fix',\n",
       " 'a =',\n",
       " 'true',\n",
       " 'of my',\n",
       " 'not sure',\n",
       " 'i try',\n",
       " 'be able',\n",
       " 'am using',\n",
       " 'a file',\n",
       " 'x =',\n",
       " 'url',\n",
       " 'is it',\n",
       " 'i tried',\n",
       " '2,',\n",
       " 'store',\n",
       " 'gives',\n",
       " 'example,',\n",
       " 'blank and',\n",
       " 'sum',\n",
       " 'something like',\n",
       " 'point',\n",
       " 'figure',\n",
       " 'but the',\n",
       " 'to read',\n",
       " 'single',\n",
       " 'e)',\n",
       " '}\"',\n",
       " '- -',\n",
       " 'select',\n",
       " 'i run',\n",
       " 'going',\n",
       " 'creating',\n",
       " 'the last',\n",
       " '()',\n",
       " 'the output',\n",
       " 'console',\n",
       " 'char',\n",
       " 'table',\n",
       " 'reference',\n",
       " 'code to',\n",
       " 'use the',\n",
       " 'to change',\n",
       " 'tell',\n",
       " 'result =',\n",
       " 'looking',\n",
       " 'file.',\n",
       " 'eventargs',\n",
       " 'if it',\n",
       " 'i++).',\n",
       " 'for(int',\n",
       " '} .',\n",
       " 'sender, eventargs',\n",
       " 'did',\n",
       " 'those',\n",
       " 'string[]',\n",
       " 'empty',\n",
       " 'else. {.',\n",
       " 'an error',\n",
       " 'it in',\n",
       " 'issue',\n",
       " 'code,',\n",
       " 'best',\n",
       " '\"why',\n",
       " '0.',\n",
       " '}. else.',\n",
       " 'writing',\n",
       " 'the string',\n",
       " 'replace',\n",
       " 'extends',\n",
       " 'am i',\n",
       " 'a method',\n",
       " 'look',\n",
       " 'js',\n",
       " 'the data',\n",
       " 'windows',\n",
       " 'to print',\n",
       " 'idea',\n",
       " 'dictionary',\n",
       " '(i',\n",
       " 'e). {.',\n",
       " 'currently',\n",
       " 'based on',\n",
       " 'to have',\n",
       " 'process',\n",
       " 'made',\n",
       " 'better',\n",
       " 'am getting',\n",
       " 'the current',\n",
       " 'characters',\n",
       " 'possible to',\n",
       " 'one of',\n",
       " 'tried to',\n",
       " 'times',\n",
       " 'much',\n",
       " 'is an',\n",
       " 'implement',\n",
       " 'directory',\n",
       " 'adding',\n",
       " 'where i',\n",
       " 'try {.',\n",
       " 'you can',\n",
       " 'window',\n",
       " 'text file',\n",
       " 'items',\n",
       " 'is what',\n",
       " '* *',\n",
       " 'seem',\n",
       " 'parameter',\n",
       " 'database',\n",
       " 'a text',\n",
       " '+ 1.',\n",
       " 'size',\n",
       " 'since',\n",
       " 'find the',\n",
       " 'blank,',\n",
       " 'out of',\n",
       " 'into the',\n",
       " 'solve',\n",
       " 'may',\n",
       " 'there are',\n",
       " 'field',\n",
       " 'added',\n",
       " 'type=\"\"text\"\"',\n",
       " 'the error',\n",
       " 't',\n",
       " \"i'm not\",\n",
       " 'i just',\n",
       " 'an object',\n",
       " '} catch',\n",
       " 'code.',\n",
       " 'classes',\n",
       " 'until',\n",
       " 'thread',\n",
       " 'sort',\n",
       " 'module',\n",
       " 'is in',\n",
       " 'fine',\n",
       " 'do this',\n",
       " '6',\n",
       " 'write a',\n",
       " 'that it',\n",
       " 'strings',\n",
       " 'properties',\n",
       " 'of this',\n",
       " 'letter',\n",
       " 'difference',\n",
       " 'constructor',\n",
       " 'a simple',\n",
       " '&lt;td',\n",
       " 'to call',\n",
       " 'takes',\n",
       " 'for loop',\n",
       " '}...',\n",
       " 'to know',\n",
       " 'time.sleep(1).',\n",
       " 'shows',\n",
       " 'seem to',\n",
       " 'making',\n",
       " 'false',\n",
       " 'character',\n",
       " 'amount',\n",
       " 'function() {.',\n",
       " 'as the',\n",
       " 'using blank',\n",
       " 'position',\n",
       " 'null;.',\n",
       " 'make it',\n",
       " 'however,',\n",
       " 'bool',\n",
       " 'too',\n",
       " 'to run',\n",
       " 'static int',\n",
       " 'public class',\n",
       " 'once',\n",
       " 'folder',\n",
       " 'am not',\n",
       " 'node',\n",
       " 'in an',\n",
       " 'throw',\n",
       " 'have an',\n",
       " '1;',\n",
       " '}. if',\n",
       " '}.. private',\n",
       " 'parent',\n",
       " 'file and',\n",
       " 'default',\n",
       " 'by the',\n",
       " '*/.',\n",
       " 'the values',\n",
       " 'private static',\n",
       " 'e) {.',\n",
       " 'column',\n",
       " 'send',\n",
       " 'part of',\n",
       " 'gets',\n",
       " 'args) {.',\n",
       " 'a variable',\n",
       " '0).',\n",
       " 'web',\n",
       " 'load',\n",
       " 'data from',\n",
       " 'attribute',\n",
       " 'and a',\n",
       " 'a program',\n",
       " '. {.',\n",
       " '&amp;',\n",
       " '});.',\n",
       " 'using a',\n",
       " 'similar',\n",
       " 'reading',\n",
       " 'line in',\n",
       " 'code i',\n",
       " 'the class',\n",
       " 'save',\n",
       " 'it should',\n",
       " 'have this',\n",
       " 'change the',\n",
       " 'original',\n",
       " 'move',\n",
       " \"didn't\",\n",
       " 'defined',\n",
       " 'me to',\n",
       " 'interface',\n",
       " 'however',\n",
       " 'content',\n",
       " 'check if',\n",
       " 'valid',\n",
       " 'set; }.',\n",
       " 'im',\n",
       " 'had',\n",
       " 'good',\n",
       " 'for each',\n",
       " 'decimal',\n",
       " 'code that',\n",
       " '1)',\n",
       " 'looks like',\n",
       " 'invalid',\n",
       " 'figure out',\n",
       " 'written',\n",
       " 'the text',\n",
       " 'player',\n",
       " 'but when',\n",
       " 'as i',\n",
       " '{. for',\n",
       " 'link',\n",
       " 'it,',\n",
       " 'out the',\n",
       " 'how i',\n",
       " 'do not',\n",
       " 'counter',\n",
       " 'around',\n",
       " '3,',\n",
       " 'the method',\n",
       " 'the answer',\n",
       " 'source',\n",
       " 'not a',\n",
       " 'lists',\n",
       " \"it doesn't\",\n",
       " 'i could',\n",
       " 'have been',\n",
       " '@override.',\n",
       " 'system',\n",
       " 'range',\n",
       " 'calling',\n",
       " '. }.',\n",
       " 'to blank',\n",
       " 'three',\n",
       " 'the next',\n",
       " 'the name',\n",
       " 'should i',\n",
       " 'results',\n",
       " 'get a',\n",
       " 'reason',\n",
       " 'name:',\n",
       " 'byte',\n",
       " 'array of',\n",
       " 'working on',\n",
       " 'the best',\n",
       " 'prints',\n",
       " 'guess',\n",
       " 'global',\n",
       " 'app',\n",
       " '\"\"\"\";.',\n",
       " 'which i',\n",
       " 'thanks',\n",
       " 'run the',\n",
       " 'of an',\n",
       " 'like this',\n",
       " 'is,',\n",
       " 'everything',\n",
       " 'day',\n",
       " 'a number',\n",
       " ');.',\n",
       " 'thing',\n",
       " 'the correct',\n",
       " 'system.out.println(\"\"enter',\n",
       " 'compare',\n",
       " 'box',\n",
       " 'version',\n",
       " 'the above',\n",
       " 'most',\n",
       " 'library',\n",
       " 'explain',\n",
       " 'error:',\n",
       " 'div',\n",
       " '@override. public',\n",
       " 'to set',\n",
       " 's =',\n",
       " 'd',\n",
       " 'contain',\n",
       " 'const',\n",
       " 'anything',\n",
       " '\"\",',\n",
       " 'has a',\n",
       " 'getting the',\n",
       " 'eventargs e).',\n",
       " 'done',\n",
       " 'class.',\n",
       " 'be the',\n",
       " 'to access',\n",
       " 'names',\n",
       " 'it possible',\n",
       " 'implements',\n",
       " 'file in',\n",
       " 'execute',\n",
       " 'client',\n",
       " '\"how do',\n",
       " 'the result',\n",
       " 'the other',\n",
       " 'the main',\n",
       " 'that will',\n",
       " 'score',\n",
       " 'if you',\n",
       " 'i++). {.',\n",
       " 'have tried',\n",
       " 'for i',\n",
       " 'code for',\n",
       " 'abstract',\n",
       " '[]',\n",
       " '= \"\"\"\";.',\n",
       " 'name of',\n",
       " 'file,',\n",
       " 'down',\n",
       " 'bit',\n",
       " '= null;.',\n",
       " 'this,',\n",
       " 'the array',\n",
       " 'not in',\n",
       " 'must be',\n",
       " 'level',\n",
       " '[.',\n",
       " 'wondering',\n",
       " 'use a',\n",
       " 'the object',\n",
       " 'password',\n",
       " 'month',\n",
       " 'might',\n",
       " 'if there',\n",
       " 'i think',\n",
       " 'args).',\n",
       " 'the blank',\n",
       " 'either',\n",
       " 'copy',\n",
       " 'be a',\n",
       " 'after the',\n",
       " 'this?',\n",
       " 'tell me',\n",
       " 'through the',\n",
       " 'option',\n",
       " 'list.',\n",
       " 'information',\n",
       " 'expected',\n",
       " 'csv',\n",
       " 'control',\n",
       " 'again',\n",
       " '8',\n",
       " 'with this',\n",
       " 'were',\n",
       " \"i'd\",\n",
       " 'color',\n",
       " 'switch',\n",
       " 'b =',\n",
       " '0;..',\n",
       " '(exception',\n",
       " '\"how can',\n",
       " 'null)',\n",
       " 'little',\n",
       " 'certain',\n",
       " 'seems to',\n",
       " 'scanner(system.in);.',\n",
       " 'private string',\n",
       " 'package',\n",
       " 'k',\n",
       " '= 0;..',\n",
       " '0) {.',\n",
       " 'whether',\n",
       " 'to see',\n",
       " 'return false;.',\n",
       " 'question is',\n",
       " 'not working',\n",
       " 'missing',\n",
       " \"isn't\",\n",
       " 'instance of',\n",
       " 'few',\n",
       " 'far',\n",
       " 'assign',\n",
       " '= 1;.',\n",
       " 'work.',\n",
       " 'this?\"',\n",
       " 'selected',\n",
       " 'place',\n",
       " 'object.',\n",
       " 'i got',\n",
       " 'he',\n",
       " 'f',\n",
       " 'except',\n",
       " 'type=\"\"button\"\"',\n",
       " 'stop',\n",
       " 'num',\n",
       " 'nested',\n",
       " 'is this',\n",
       " 'function that',\n",
       " 'code in',\n",
       " 'actual',\n",
       " '{.. public',\n",
       " 'update',\n",
       " 'to pass',\n",
       " 'to my',\n",
       " 'to display',\n",
       " 'less',\n",
       " 'int[]',\n",
       " '};.',\n",
       " 'want the',\n",
       " 'to remove',\n",
       " 'to fix',\n",
       " 'thank',\n",
       " ...]"
      ]
     },
     "execution_count": 11,
     "metadata": {},
     "output_type": "execute_result"
    }
   ],
   "source": [
    "vectorize_layer.get_vocabulary()"
   ]
  },
  {
   "cell_type": "code",
   "execution_count": 12,
   "metadata": {
    "colab": {
     "base_uri": "https://localhost:8080/"
    },
    "id": "iGFoZSPxWUpG",
    "outputId": "67d2e8c7-a012-424f-a024-5da90697369d"
   },
   "outputs": [
    {
     "data": {
      "text/plain": [
       "<tf.Tensor: shape=(300,), dtype=int64, numpy=\n",
       "array([  16,   39,    8,  473,    6,    1,    1,  483,  550,    1, 2456,\n",
       "          1,    1,    0,    0,    0,    0,    0,    0,    0,    0,    0,\n",
       "          0,    0,    0,    0,    0,    0,    0,    0,    0,    0,    0,\n",
       "          0,    0,    0,    0,    0,    0,    0,    0,    0,    0,    0,\n",
       "          0,    0,    0,    0,    0,    0,    0,    0,    0,    0,    0,\n",
       "          0,    0,    0,    0,    0,    0,    0,    0,    0,    0,    0,\n",
       "          0,    0,    0,    0,    0,    0,    0,    0,    0,    0,    0,\n",
       "          0,    0,    0,    0,    0,    0,    0,    0,    0,    0,    0,\n",
       "          0,    0,    0,    0,    0,    0,    0,    0,    0,    0,    0,\n",
       "          0,    0,    0,    0,    0,    0,    0,    0,    0,    0,    0,\n",
       "          0,    0,    0,    0,    0,    0,    0,    0,    0,    0,    0,\n",
       "          0,    0,    0,    0,    0,    0,    0,    0,    0,    0,    0,\n",
       "          0,    0,    0,    0,    0,    0,    0,    0,    0,    0,    0,\n",
       "          0,    0,    0,    0,    0,    0,    0,    0,    0,    0,    0,\n",
       "          0,    0,    0,    0,    0,    0,    0,    0,    0,    0,    0,\n",
       "          0,    0,    0,    0,    0,    0,    0,    0,    0,    0,    0,\n",
       "          0,    0,    0,    0,    0,    0,    0,    0,    0,    0,    0,\n",
       "          0,    0,    0,    0,    0,    0,    0,    0,    0,    0,    0,\n",
       "          0,    0,    0,    0,    0,    0,    0,    0,    0,    0,    0,\n",
       "          0,    0,    0,    0,    0,    0,    0,    0,    0,    0,    0,\n",
       "          0,    0,    0,    0,    0,    0,    0,    0,    0,    0,    0,\n",
       "          0,    0,    0,    0,    0,    0,    0,    0,    0,    0,    0,\n",
       "          0,    0,    0,    0,    0,    0,    0,    0,    0,    0,    0,\n",
       "          0,    0,    0,    0,    0,    0,    0,    0,    0,    0,    0,\n",
       "          0,    0,    0,    0,    0,    0,    0,    0,    0,    0,    0,\n",
       "          0,    0,    0,    0,    0,    0,    0,    0,    0,    0,    0,\n",
       "          0,    0,    0,    0,    0,    0,    0,    0,    0,    0,    0,\n",
       "          0,    0,    0])>"
      ]
     },
     "execution_count": 12,
     "metadata": {},
     "output_type": "execute_result"
    }
   ],
   "source": [
    "vectorize_layer(\"this code is such a mess ARRR!!\")"
   ]
  },
  {
   "cell_type": "markdown",
   "metadata": {
    "id": "KCoMln4shgF9"
   },
   "source": [
    "### Vectorizing the whole data"
   ]
  },
  {
   "cell_type": "code",
   "execution_count": 50,
   "metadata": {
    "id": "I9lo_oMmWUt2"
   },
   "outputs": [],
   "source": [
    "def vectorize_text(text, label):\n",
    "  text = tf.expand_dims(text, -1) # was it realy needed ???\n",
    "  return vectorize_layer(text), label"
   ]
  },
  {
   "cell_type": "code",
   "execution_count": 51,
   "metadata": {
    "id": "GLnASj3hWUxL"
   },
   "outputs": [],
   "source": [
    "train_ds = raw_train_ds.map(vectorize_text)\n",
    "val_ds = raw_val_ds.map(vectorize_text)\n",
    "test_ds = raw_test_ds.map(vectorize_text)"
   ]
  },
  {
   "cell_type": "code",
   "execution_count": 52,
   "metadata": {
    "colab": {
     "base_uri": "https://localhost:8080/"
    },
    "id": "GM2kNx7mlt8Z",
    "outputId": "a252f7eb-dded-4fce-fcaa-fcca8906a063"
   },
   "outputs": [
    {
     "name": "stdout",
     "output_type": "stream",
     "text": [
      "tf.Tensor(\n",
      "[[1217    8   31 ...    1   77 1358]\n",
      " [   1    1    1 ...    0    0    0]\n",
      " [1990  384   30 ...    0    0    0]\n",
      " ...\n",
      " [1468   70   54 ...    0    0    0]\n",
      " [   1  706 1008 ...    0    0    0]\n",
      " [ 626   34    5 ...   23    1    3]], shape=(32, 300), dtype=int64) tf.Tensor([1 0 2 3 1 0 1 1 2 2 3 3 2 0 1 1 3 2 3 2 0 3 1 2 2 0 0 2 0 3 0 1], shape=(32,), dtype=int32)\n"
     ]
    }
   ],
   "source": [
    "for t,l in train_ds.take(1):\n",
    "  print(t, l)"
   ]
  },
  {
   "cell_type": "code",
   "execution_count": 53,
   "metadata": {
    "id": "PctZqT1ugN1H"
   },
   "outputs": [],
   "source": [
    "train_ds = train_ds.cache().prefetch(buffer_size=tf.data.AUTOTUNE)\n",
    "val_ds = val_ds.cache().prefetch(buffer_size=tf.data.AUTOTUNE)\n",
    "test_ds = test_ds.cache().prefetch(buffer_size=tf.data.AUTOTUNE)"
   ]
  },
  {
   "cell_type": "markdown",
   "metadata": {
    "id": "qp7fY0dphyNN"
   },
   "source": [
    "### Create the model and train it"
   ]
  },
  {
   "cell_type": "code",
   "execution_count": 166,
   "metadata": {
    "id": "X4IkSdGNgsw-"
   },
   "outputs": [],
   "source": [
    "embedding_dim = 16\n",
    "# max_features = 10000"
   ]
  },
  {
   "cell_type": "code",
   "execution_count": null,
   "metadata": {
    "id": "3OrR1Ya4g2Eu"
   },
   "outputs": [],
   "source": [
    "model = tf.keras.Sequential([\n",
    "  layers.Embedding(max_features, embedding_dim), # (10000, 16)\n",
    "  layers.Dropout(0.2),\n",
    "  layers.GlobalAveragePooling1D(),\n",
    "  layers.Dropout(0.2),\n",
    "  layers.Dense(16, activation='relu'),\n",
    "  layers.Dense(4)\n",
    "  ])"
   ]
  },
  {
   "cell_type": "code",
   "execution_count": 190,
   "metadata": {
    "colab": {
     "base_uri": "https://localhost:8080/",
     "height": 353
    },
    "id": "-SkE4MDuuXNm",
    "outputId": "396f35e1-0327-4fdf-f0e9-aadb9515435f"
   },
   "outputs": [
    {
     "data": {
      "text/html": [
       "<pre style=\"white-space:pre;overflow-x:auto;line-height:normal;font-family:Menlo,'DejaVu Sans Mono',consolas,'Courier New',monospace\"><span style=\"font-weight: bold\">Model: \"sequential_19\"</span>\n",
       "</pre>\n"
      ],
      "text/plain": [
       "\u001b[1mModel: \"sequential_19\"\u001b[0m\n"
      ]
     },
     "metadata": {},
     "output_type": "display_data"
    },
    {
     "data": {
      "text/html": [
       "<pre style=\"white-space:pre;overflow-x:auto;line-height:normal;font-family:Menlo,'DejaVu Sans Mono',consolas,'Courier New',monospace\">┏━━━━━━━━━━━━━━━━━━━━━━━━━━━━━━━━━━━━━━┳━━━━━━━━━━━━━━━━━━━━━━━━━━━━━┳━━━━━━━━━━━━━━━━━┓\n",
       "┃<span style=\"font-weight: bold\"> Layer (type)                         </span>┃<span style=\"font-weight: bold\"> Output Shape                </span>┃<span style=\"font-weight: bold\">         Param # </span>┃\n",
       "┡━━━━━━━━━━━━━━━━━━━━━━━━━━━━━━━━━━━━━━╇━━━━━━━━━━━━━━━━━━━━━━━━━━━━━╇━━━━━━━━━━━━━━━━━┩\n",
       "│ embedding_15 (<span style=\"color: #0087ff; text-decoration-color: #0087ff\">Embedding</span>)             │ (<span style=\"color: #00d7ff; text-decoration-color: #00d7ff\">None</span>, <span style=\"color: #00d7ff; text-decoration-color: #00d7ff\">None</span>, <span style=\"color: #00af00; text-decoration-color: #00af00\">16</span>)            │         <span style=\"color: #00af00; text-decoration-color: #00af00\">160,000</span> │\n",
       "├──────────────────────────────────────┼─────────────────────────────┼─────────────────┤\n",
       "│ dropout_31 (<span style=\"color: #0087ff; text-decoration-color: #0087ff\">Dropout</span>)                 │ (<span style=\"color: #00d7ff; text-decoration-color: #00d7ff\">None</span>, <span style=\"color: #00d7ff; text-decoration-color: #00d7ff\">None</span>, <span style=\"color: #00af00; text-decoration-color: #00af00\">16</span>)            │               <span style=\"color: #00af00; text-decoration-color: #00af00\">0</span> │\n",
       "├──────────────────────────────────────┼─────────────────────────────┼─────────────────┤\n",
       "│ global_average_pooling1d_15          │ (<span style=\"color: #00d7ff; text-decoration-color: #00d7ff\">None</span>, <span style=\"color: #00af00; text-decoration-color: #00af00\">16</span>)                  │               <span style=\"color: #00af00; text-decoration-color: #00af00\">0</span> │\n",
       "│ (<span style=\"color: #0087ff; text-decoration-color: #0087ff\">GlobalAveragePooling1D</span>)             │                             │                 │\n",
       "├──────────────────────────────────────┼─────────────────────────────┼─────────────────┤\n",
       "│ dropout_32 (<span style=\"color: #0087ff; text-decoration-color: #0087ff\">Dropout</span>)                 │ (<span style=\"color: #00d7ff; text-decoration-color: #00d7ff\">None</span>, <span style=\"color: #00af00; text-decoration-color: #00af00\">16</span>)                  │               <span style=\"color: #00af00; text-decoration-color: #00af00\">0</span> │\n",
       "├──────────────────────────────────────┼─────────────────────────────┼─────────────────┤\n",
       "│ dense_30 (<span style=\"color: #0087ff; text-decoration-color: #0087ff\">Dense</span>)                     │ (<span style=\"color: #00d7ff; text-decoration-color: #00d7ff\">None</span>, <span style=\"color: #00af00; text-decoration-color: #00af00\">16</span>)                  │             <span style=\"color: #00af00; text-decoration-color: #00af00\">272</span> │\n",
       "├──────────────────────────────────────┼─────────────────────────────┼─────────────────┤\n",
       "│ dense_31 (<span style=\"color: #0087ff; text-decoration-color: #0087ff\">Dense</span>)                     │ (<span style=\"color: #00d7ff; text-decoration-color: #00d7ff\">None</span>, <span style=\"color: #00af00; text-decoration-color: #00af00\">4</span>)                   │              <span style=\"color: #00af00; text-decoration-color: #00af00\">68</span> │\n",
       "└──────────────────────────────────────┴─────────────────────────────┴─────────────────┘\n",
       "</pre>\n"
      ],
      "text/plain": [
       "┏━━━━━━━━━━━━━━━━━━━━━━━━━━━━━━━━━━━━━━┳━━━━━━━━━━━━━━━━━━━━━━━━━━━━━┳━━━━━━━━━━━━━━━━━┓\n",
       "┃\u001b[1m \u001b[0m\u001b[1mLayer (type)                        \u001b[0m\u001b[1m \u001b[0m┃\u001b[1m \u001b[0m\u001b[1mOutput Shape               \u001b[0m\u001b[1m \u001b[0m┃\u001b[1m \u001b[0m\u001b[1m        Param #\u001b[0m\u001b[1m \u001b[0m┃\n",
       "┡━━━━━━━━━━━━━━━━━━━━━━━━━━━━━━━━━━━━━━╇━━━━━━━━━━━━━━━━━━━━━━━━━━━━━╇━━━━━━━━━━━━━━━━━┩\n",
       "│ embedding_15 (\u001b[38;5;33mEmbedding\u001b[0m)             │ (\u001b[38;5;45mNone\u001b[0m, \u001b[38;5;45mNone\u001b[0m, \u001b[38;5;34m16\u001b[0m)            │         \u001b[38;5;34m160,000\u001b[0m │\n",
       "├──────────────────────────────────────┼─────────────────────────────┼─────────────────┤\n",
       "│ dropout_31 (\u001b[38;5;33mDropout\u001b[0m)                 │ (\u001b[38;5;45mNone\u001b[0m, \u001b[38;5;45mNone\u001b[0m, \u001b[38;5;34m16\u001b[0m)            │               \u001b[38;5;34m0\u001b[0m │\n",
       "├──────────────────────────────────────┼─────────────────────────────┼─────────────────┤\n",
       "│ global_average_pooling1d_15          │ (\u001b[38;5;45mNone\u001b[0m, \u001b[38;5;34m16\u001b[0m)                  │               \u001b[38;5;34m0\u001b[0m │\n",
       "│ (\u001b[38;5;33mGlobalAveragePooling1D\u001b[0m)             │                             │                 │\n",
       "├──────────────────────────────────────┼─────────────────────────────┼─────────────────┤\n",
       "│ dropout_32 (\u001b[38;5;33mDropout\u001b[0m)                 │ (\u001b[38;5;45mNone\u001b[0m, \u001b[38;5;34m16\u001b[0m)                  │               \u001b[38;5;34m0\u001b[0m │\n",
       "├──────────────────────────────────────┼─────────────────────────────┼─────────────────┤\n",
       "│ dense_30 (\u001b[38;5;33mDense\u001b[0m)                     │ (\u001b[38;5;45mNone\u001b[0m, \u001b[38;5;34m16\u001b[0m)                  │             \u001b[38;5;34m272\u001b[0m │\n",
       "├──────────────────────────────────────┼─────────────────────────────┼─────────────────┤\n",
       "│ dense_31 (\u001b[38;5;33mDense\u001b[0m)                     │ (\u001b[38;5;45mNone\u001b[0m, \u001b[38;5;34m4\u001b[0m)                   │              \u001b[38;5;34m68\u001b[0m │\n",
       "└──────────────────────────────────────┴─────────────────────────────┴─────────────────┘\n"
      ]
     },
     "metadata": {},
     "output_type": "display_data"
    },
    {
     "data": {
      "text/html": [
       "<pre style=\"white-space:pre;overflow-x:auto;line-height:normal;font-family:Menlo,'DejaVu Sans Mono',consolas,'Courier New',monospace\"><span style=\"font-weight: bold\"> Total params: </span><span style=\"color: #00af00; text-decoration-color: #00af00\">481,022</span> (1.83 MB)\n",
       "</pre>\n"
      ],
      "text/plain": [
       "\u001b[1m Total params: \u001b[0m\u001b[38;5;34m481,022\u001b[0m (1.83 MB)\n"
      ]
     },
     "metadata": {},
     "output_type": "display_data"
    },
    {
     "data": {
      "text/html": [
       "<pre style=\"white-space:pre;overflow-x:auto;line-height:normal;font-family:Menlo,'DejaVu Sans Mono',consolas,'Courier New',monospace\"><span style=\"font-weight: bold\"> Trainable params: </span><span style=\"color: #00af00; text-decoration-color: #00af00\">160,340</span> (626.33 KB)\n",
       "</pre>\n"
      ],
      "text/plain": [
       "\u001b[1m Trainable params: \u001b[0m\u001b[38;5;34m160,340\u001b[0m (626.33 KB)\n"
      ]
     },
     "metadata": {},
     "output_type": "display_data"
    },
    {
     "data": {
      "text/html": [
       "<pre style=\"white-space:pre;overflow-x:auto;line-height:normal;font-family:Menlo,'DejaVu Sans Mono',consolas,'Courier New',monospace\"><span style=\"font-weight: bold\"> Non-trainable params: </span><span style=\"color: #00af00; text-decoration-color: #00af00\">0</span> (0.00 B)\n",
       "</pre>\n"
      ],
      "text/plain": [
       "\u001b[1m Non-trainable params: \u001b[0m\u001b[38;5;34m0\u001b[0m (0.00 B)\n"
      ]
     },
     "metadata": {},
     "output_type": "display_data"
    },
    {
     "data": {
      "text/html": [
       "<pre style=\"white-space:pre;overflow-x:auto;line-height:normal;font-family:Menlo,'DejaVu Sans Mono',consolas,'Courier New',monospace\"><span style=\"font-weight: bold\"> Optimizer params: </span><span style=\"color: #00af00; text-decoration-color: #00af00\">320,682</span> (1.22 MB)\n",
       "</pre>\n"
      ],
      "text/plain": [
       "\u001b[1m Optimizer params: \u001b[0m\u001b[38;5;34m320,682\u001b[0m (1.22 MB)\n"
      ]
     },
     "metadata": {},
     "output_type": "display_data"
    }
   ],
   "source": [
    "model.summary()"
   ]
  },
  {
   "cell_type": "code",
   "execution_count": 173,
   "metadata": {
    "id": "kgAoLzBMipDm"
   },
   "outputs": [],
   "source": [
    "model.compile(loss=losses.SparseCategoricalCrossentropy(from_logits=True),\n",
    "              optimizer='adam',\n",
    "              metrics=[tf.keras.metrics.SparseCategoricalAccuracy()])"
   ]
  },
  {
   "cell_type": "code",
   "execution_count": 174,
   "metadata": {
    "id": "dup8bP0glr4L"
   },
   "outputs": [],
   "source": [
    "early_stopping = EarlyStopping(\n",
    "    monitor='val_loss',\n",
    "    patience=15,\n",
    "    verbose=1,\n",
    "    restore_best_weights=True\n",
    ")\n",
    "\n",
    "reduce_lr = ReduceLROnPlateau(\n",
    "    monitor='val_loss',\n",
    "    factor=0.2,\n",
    "    patience=4,\n",
    "    verbose=1,\n",
    "    min_lr=1e-7\n",
    ")"
   ]
  },
  {
   "cell_type": "code",
   "execution_count": 175,
   "metadata": {
    "colab": {
     "base_uri": "https://localhost:8080/"
    },
    "id": "v7K842DFrmJN",
    "outputId": "16606f82-a933-4e91-8566-01f4e515de07"
   },
   "outputs": [
    {
     "name": "stdout",
     "output_type": "stream",
     "text": [
      "Epoch 1/60\n",
      "\u001b[1m200/200\u001b[0m \u001b[32m━━━━━━━━━━━━━━━━━━━━\u001b[0m\u001b[37m\u001b[0m \u001b[1m3s\u001b[0m 8ms/step - loss: 1.3793 - sparse_categorical_accuracy: 0.3009 - val_loss: 1.3426 - val_sparse_categorical_accuracy: 0.3781 - learning_rate: 0.0010\n",
      "Epoch 2/60\n",
      "\u001b[1m200/200\u001b[0m \u001b[32m━━━━━━━━━━━━━━━━━━━━\u001b[0m\u001b[37m\u001b[0m \u001b[1m2s\u001b[0m 8ms/step - loss: 1.3130 - sparse_categorical_accuracy: 0.3930 - val_loss: 1.1996 - val_sparse_categorical_accuracy: 0.4581 - learning_rate: 0.0010\n",
      "Epoch 3/60\n",
      "\u001b[1m200/200\u001b[0m \u001b[32m━━━━━━━━━━━━━━━━━━━━\u001b[0m\u001b[37m\u001b[0m \u001b[1m2s\u001b[0m 5ms/step - loss: 1.1646 - sparse_categorical_accuracy: 0.4871 - val_loss: 1.0264 - val_sparse_categorical_accuracy: 0.5969 - learning_rate: 0.0010\n",
      "Epoch 4/60\n",
      "\u001b[1m200/200\u001b[0m \u001b[32m━━━━━━━━━━━━━━━━━━━━\u001b[0m\u001b[37m\u001b[0m \u001b[1m1s\u001b[0m 5ms/step - loss: 0.9965 - sparse_categorical_accuracy: 0.6171 - val_loss: 0.8796 - val_sparse_categorical_accuracy: 0.6837 - learning_rate: 0.0010\n",
      "Epoch 5/60\n",
      "\u001b[1m200/200\u001b[0m \u001b[32m━━━━━━━━━━━━━━━━━━━━\u001b[0m\u001b[37m\u001b[0m \u001b[1m1s\u001b[0m 5ms/step - loss: 0.8543 - sparse_categorical_accuracy: 0.6826 - val_loss: 0.7675 - val_sparse_categorical_accuracy: 0.7194 - learning_rate: 0.0010\n",
      "Epoch 6/60\n",
      "\u001b[1m200/200\u001b[0m \u001b[32m━━━━━━━━━━━━━━━━━━━━\u001b[0m\u001b[37m\u001b[0m \u001b[1m1s\u001b[0m 5ms/step - loss: 0.7454 - sparse_categorical_accuracy: 0.7234 - val_loss: 0.6947 - val_sparse_categorical_accuracy: 0.7506 - learning_rate: 0.0010\n",
      "Epoch 7/60\n",
      "\u001b[1m200/200\u001b[0m \u001b[32m━━━━━━━━━━━━━━━━━━━━\u001b[0m\u001b[37m\u001b[0m \u001b[1m1s\u001b[0m 5ms/step - loss: 0.6645 - sparse_categorical_accuracy: 0.7539 - val_loss: 0.6445 - val_sparse_categorical_accuracy: 0.7600 - learning_rate: 0.0010\n",
      "Epoch 8/60\n",
      "\u001b[1m200/200\u001b[0m \u001b[32m━━━━━━━━━━━━━━━━━━━━\u001b[0m\u001b[37m\u001b[0m \u001b[1m1s\u001b[0m 5ms/step - loss: 0.6073 - sparse_categorical_accuracy: 0.7772 - val_loss: 0.6043 - val_sparse_categorical_accuracy: 0.7725 - learning_rate: 0.0010\n",
      "Epoch 9/60\n",
      "\u001b[1m200/200\u001b[0m \u001b[32m━━━━━━━━━━━━━━━━━━━━\u001b[0m\u001b[37m\u001b[0m \u001b[1m1s\u001b[0m 7ms/step - loss: 0.5587 - sparse_categorical_accuracy: 0.7967 - val_loss: 0.5752 - val_sparse_categorical_accuracy: 0.7781 - learning_rate: 0.0010\n",
      "Epoch 10/60\n",
      "\u001b[1m200/200\u001b[0m \u001b[32m━━━━━━━━━━━━━━━━━━━━\u001b[0m\u001b[37m\u001b[0m \u001b[1m3s\u001b[0m 9ms/step - loss: 0.5036 - sparse_categorical_accuracy: 0.8211 - val_loss: 0.5543 - val_sparse_categorical_accuracy: 0.7812 - learning_rate: 0.0010\n",
      "Epoch 11/60\n",
      "\u001b[1m200/200\u001b[0m \u001b[32m━━━━━━━━━━━━━━━━━━━━\u001b[0m\u001b[37m\u001b[0m \u001b[1m2s\u001b[0m 5ms/step - loss: 0.4657 - sparse_categorical_accuracy: 0.8348 - val_loss: 0.5415 - val_sparse_categorical_accuracy: 0.7862 - learning_rate: 0.0010\n",
      "Epoch 12/60\n",
      "\u001b[1m200/200\u001b[0m \u001b[32m━━━━━━━━━━━━━━━━━━━━\u001b[0m\u001b[37m\u001b[0m \u001b[1m1s\u001b[0m 5ms/step - loss: 0.4285 - sparse_categorical_accuracy: 0.8540 - val_loss: 0.5340 - val_sparse_categorical_accuracy: 0.7906 - learning_rate: 0.0010\n",
      "Epoch 13/60\n",
      "\u001b[1m200/200\u001b[0m \u001b[32m━━━━━━━━━━━━━━━━━━━━\u001b[0m\u001b[37m\u001b[0m \u001b[1m1s\u001b[0m 5ms/step - loss: 0.3984 - sparse_categorical_accuracy: 0.8666 - val_loss: 0.5215 - val_sparse_categorical_accuracy: 0.7944 - learning_rate: 0.0010\n",
      "Epoch 14/60\n",
      "\u001b[1m200/200\u001b[0m \u001b[32m━━━━━━━━━━━━━━━━━━━━\u001b[0m\u001b[37m\u001b[0m \u001b[1m1s\u001b[0m 6ms/step - loss: 0.3681 - sparse_categorical_accuracy: 0.8774 - val_loss: 0.5309 - val_sparse_categorical_accuracy: 0.7912 - learning_rate: 0.0010\n",
      "Epoch 15/60\n",
      "\u001b[1m200/200\u001b[0m \u001b[32m━━━━━━━━━━━━━━━━━━━━\u001b[0m\u001b[37m\u001b[0m \u001b[1m1s\u001b[0m 7ms/step - loss: 0.3305 - sparse_categorical_accuracy: 0.8922 - val_loss: 0.5122 - val_sparse_categorical_accuracy: 0.7925 - learning_rate: 0.0010\n",
      "Epoch 16/60\n",
      "\u001b[1m200/200\u001b[0m \u001b[32m━━━━━━━━━━━━━━━━━━━━\u001b[0m\u001b[37m\u001b[0m \u001b[1m2s\u001b[0m 5ms/step - loss: 0.3014 - sparse_categorical_accuracy: 0.9052 - val_loss: 0.5203 - val_sparse_categorical_accuracy: 0.7969 - learning_rate: 0.0010\n",
      "Epoch 17/60\n",
      "\u001b[1m200/200\u001b[0m \u001b[32m━━━━━━━━━━━━━━━━━━━━\u001b[0m\u001b[37m\u001b[0m \u001b[1m1s\u001b[0m 6ms/step - loss: 0.2854 - sparse_categorical_accuracy: 0.9072 - val_loss: 0.5175 - val_sparse_categorical_accuracy: 0.7975 - learning_rate: 0.0010\n",
      "Epoch 18/60\n",
      "\u001b[1m200/200\u001b[0m \u001b[32m━━━━━━━━━━━━━━━━━━━━\u001b[0m\u001b[37m\u001b[0m \u001b[1m2s\u001b[0m 9ms/step - loss: 0.2636 - sparse_categorical_accuracy: 0.9082 - val_loss: 0.5326 - val_sparse_categorical_accuracy: 0.7906 - learning_rate: 0.0010\n",
      "Epoch 19/60\n",
      "\u001b[1m198/200\u001b[0m \u001b[32m━━━━━━━━━━━━━━━━━━━\u001b[0m\u001b[37m━\u001b[0m \u001b[1m0s\u001b[0m 8ms/step - loss: 0.2471 - sparse_categorical_accuracy: 0.9179\n",
      "Epoch 19: ReduceLROnPlateau reducing learning rate to 0.00020000000949949026.\n",
      "\u001b[1m200/200\u001b[0m \u001b[32m━━━━━━━━━━━━━━━━━━━━\u001b[0m\u001b[37m\u001b[0m \u001b[1m2s\u001b[0m 8ms/step - loss: 0.2469 - sparse_categorical_accuracy: 0.9180 - val_loss: 0.5184 - val_sparse_categorical_accuracy: 0.7994 - learning_rate: 0.0010\n",
      "Epoch 20/60\n",
      "\u001b[1m200/200\u001b[0m \u001b[32m━━━━━━━━━━━━━━━━━━━━\u001b[0m\u001b[37m\u001b[0m \u001b[1m2s\u001b[0m 5ms/step - loss: 0.2111 - sparse_categorical_accuracy: 0.9415 - val_loss: 0.5106 - val_sparse_categorical_accuracy: 0.8062 - learning_rate: 2.0000e-04\n",
      "Epoch 21/60\n",
      "\u001b[1m200/200\u001b[0m \u001b[32m━━━━━━━━━━━━━━━━━━━━\u001b[0m\u001b[37m\u001b[0m \u001b[1m1s\u001b[0m 7ms/step - loss: 0.2063 - sparse_categorical_accuracy: 0.9420 - val_loss: 0.5145 - val_sparse_categorical_accuracy: 0.8019 - learning_rate: 2.0000e-04\n",
      "Epoch 22/60\n",
      "\u001b[1m200/200\u001b[0m \u001b[32m━━━━━━━━━━━━━━━━━━━━\u001b[0m\u001b[37m\u001b[0m \u001b[1m2s\u001b[0m 6ms/step - loss: 0.1985 - sparse_categorical_accuracy: 0.9485 - val_loss: 0.5127 - val_sparse_categorical_accuracy: 0.8044 - learning_rate: 2.0000e-04\n",
      "Epoch 23/60\n",
      "\u001b[1m200/200\u001b[0m \u001b[32m━━━━━━━━━━━━━━━━━━━━\u001b[0m\u001b[37m\u001b[0m \u001b[1m1s\u001b[0m 5ms/step - loss: 0.1978 - sparse_categorical_accuracy: 0.9493 - val_loss: 0.5135 - val_sparse_categorical_accuracy: 0.8044 - learning_rate: 2.0000e-04\n",
      "Epoch 24/60\n",
      "\u001b[1m198/200\u001b[0m \u001b[32m━━━━━━━━━━━━━━━━━━━\u001b[0m\u001b[37m━\u001b[0m \u001b[1m0s\u001b[0m 5ms/step - loss: 0.1932 - sparse_categorical_accuracy: 0.9509\n",
      "Epoch 24: ReduceLROnPlateau reducing learning rate to 4.0000001899898055e-05.\n",
      "\u001b[1m200/200\u001b[0m \u001b[32m━━━━━━━━━━━━━━━━━━━━\u001b[0m\u001b[37m\u001b[0m \u001b[1m1s\u001b[0m 5ms/step - loss: 0.1930 - sparse_categorical_accuracy: 0.9510 - val_loss: 0.5138 - val_sparse_categorical_accuracy: 0.8025 - learning_rate: 2.0000e-04\n",
      "Epoch 25/60\n",
      "\u001b[1m200/200\u001b[0m \u001b[32m━━━━━━━━━━━━━━━━━━━━\u001b[0m\u001b[37m\u001b[0m \u001b[1m1s\u001b[0m 5ms/step - loss: 0.1870 - sparse_categorical_accuracy: 0.9515 - val_loss: 0.5098 - val_sparse_categorical_accuracy: 0.8050 - learning_rate: 4.0000e-05\n",
      "Epoch 26/60\n",
      "\u001b[1m200/200\u001b[0m \u001b[32m━━━━━━━━━━━━━━━━━━━━\u001b[0m\u001b[37m\u001b[0m \u001b[1m2s\u001b[0m 9ms/step - loss: 0.1809 - sparse_categorical_accuracy: 0.9551 - val_loss: 0.5094 - val_sparse_categorical_accuracy: 0.8025 - learning_rate: 4.0000e-05\n",
      "Epoch 27/60\n",
      "\u001b[1m200/200\u001b[0m \u001b[32m━━━━━━━━━━━━━━━━━━━━\u001b[0m\u001b[37m\u001b[0m \u001b[1m2s\u001b[0m 8ms/step - loss: 0.1802 - sparse_categorical_accuracy: 0.9583 - val_loss: 0.5104 - val_sparse_categorical_accuracy: 0.8031 - learning_rate: 4.0000e-05\n",
      "Epoch 28/60\n",
      "\u001b[1m200/200\u001b[0m \u001b[32m━━━━━━━━━━━━━━━━━━━━\u001b[0m\u001b[37m\u001b[0m \u001b[1m2s\u001b[0m 5ms/step - loss: 0.1810 - sparse_categorical_accuracy: 0.9560 - val_loss: 0.5112 - val_sparse_categorical_accuracy: 0.8056 - learning_rate: 4.0000e-05\n",
      "Epoch 29/60\n",
      "\u001b[1m200/200\u001b[0m \u001b[32m━━━━━━━━━━━━━━━━━━━━\u001b[0m\u001b[37m\u001b[0m \u001b[1m1s\u001b[0m 5ms/step - loss: 0.1798 - sparse_categorical_accuracy: 0.9550 - val_loss: 0.5104 - val_sparse_categorical_accuracy: 0.8044 - learning_rate: 4.0000e-05\n",
      "Epoch 30/60\n",
      "\u001b[1m200/200\u001b[0m \u001b[32m━━━━━━━━━━━━━━━━━━━━\u001b[0m\u001b[37m\u001b[0m \u001b[1m0s\u001b[0m 5ms/step - loss: 0.1763 - sparse_categorical_accuracy: 0.9585\n",
      "Epoch 30: ReduceLROnPlateau reducing learning rate to 8.000000525498762e-06.\n",
      "\u001b[1m200/200\u001b[0m \u001b[32m━━━━━━━━━━━━━━━━━━━━\u001b[0m\u001b[37m\u001b[0m \u001b[1m1s\u001b[0m 5ms/step - loss: 0.1763 - sparse_categorical_accuracy: 0.9585 - val_loss: 0.5111 - val_sparse_categorical_accuracy: 0.8037 - learning_rate: 4.0000e-05\n",
      "Epoch 31/60\n",
      "\u001b[1m200/200\u001b[0m \u001b[32m━━━━━━━━━━━━━━━━━━━━\u001b[0m\u001b[37m\u001b[0m \u001b[1m1s\u001b[0m 5ms/step - loss: 0.1735 - sparse_categorical_accuracy: 0.9611 - val_loss: 0.5118 - val_sparse_categorical_accuracy: 0.8056 - learning_rate: 8.0000e-06\n",
      "Epoch 32/60\n",
      "\u001b[1m200/200\u001b[0m \u001b[32m━━━━━━━━━━━━━━━━━━━━\u001b[0m\u001b[37m\u001b[0m \u001b[1m1s\u001b[0m 5ms/step - loss: 0.1752 - sparse_categorical_accuracy: 0.9590 - val_loss: 0.5115 - val_sparse_categorical_accuracy: 0.8044 - learning_rate: 8.0000e-06\n",
      "Epoch 33/60\n",
      "\u001b[1m200/200\u001b[0m \u001b[32m━━━━━━━━━━━━━━━━━━━━\u001b[0m\u001b[37m\u001b[0m \u001b[1m1s\u001b[0m 5ms/step - loss: 0.1793 - sparse_categorical_accuracy: 0.9561 - val_loss: 0.5118 - val_sparse_categorical_accuracy: 0.8050 - learning_rate: 8.0000e-06\n",
      "Epoch 34/60\n",
      "\u001b[1m196/200\u001b[0m \u001b[32m━━━━━━━━━━━━━━━━━━━\u001b[0m\u001b[37m━\u001b[0m \u001b[1m0s\u001b[0m 7ms/step - loss: 0.1763 - sparse_categorical_accuracy: 0.9620\n",
      "Epoch 34: ReduceLROnPlateau reducing learning rate to 1.6000001778593287e-06.\n",
      "\u001b[1m200/200\u001b[0m \u001b[32m━━━━━━━━━━━━━━━━━━━━\u001b[0m\u001b[37m\u001b[0m \u001b[1m2s\u001b[0m 7ms/step - loss: 0.1760 - sparse_categorical_accuracy: 0.9621 - val_loss: 0.5117 - val_sparse_categorical_accuracy: 0.8031 - learning_rate: 8.0000e-06\n",
      "Epoch 35/60\n",
      "\u001b[1m200/200\u001b[0m \u001b[32m━━━━━━━━━━━━━━━━━━━━\u001b[0m\u001b[37m\u001b[0m \u001b[1m3s\u001b[0m 8ms/step - loss: 0.1771 - sparse_categorical_accuracy: 0.9607 - val_loss: 0.5118 - val_sparse_categorical_accuracy: 0.8037 - learning_rate: 1.6000e-06\n",
      "Epoch 36/60\n",
      "\u001b[1m200/200\u001b[0m \u001b[32m━━━━━━━━━━━━━━━━━━━━\u001b[0m\u001b[37m\u001b[0m \u001b[1m2s\u001b[0m 5ms/step - loss: 0.1740 - sparse_categorical_accuracy: 0.9605 - val_loss: 0.5117 - val_sparse_categorical_accuracy: 0.8044 - learning_rate: 1.6000e-06\n",
      "Epoch 37/60\n",
      "\u001b[1m200/200\u001b[0m \u001b[32m━━━━━━━━━━━━━━━━━━━━\u001b[0m\u001b[37m\u001b[0m \u001b[1m1s\u001b[0m 6ms/step - loss: 0.1735 - sparse_categorical_accuracy: 0.9576 - val_loss: 0.5118 - val_sparse_categorical_accuracy: 0.8044 - learning_rate: 1.6000e-06\n",
      "Epoch 38/60\n",
      "\u001b[1m192/200\u001b[0m \u001b[32m━━━━━━━━━━━━━━━━━━━\u001b[0m\u001b[37m━\u001b[0m \u001b[1m0s\u001b[0m 5ms/step - loss: 0.1748 - sparse_categorical_accuracy: 0.9602\n",
      "Epoch 38: ReduceLROnPlateau reducing learning rate to 3.200000264769187e-07.\n",
      "\u001b[1m200/200\u001b[0m \u001b[32m━━━━━━━━━━━━━━━━━━━━\u001b[0m\u001b[37m\u001b[0m \u001b[1m1s\u001b[0m 5ms/step - loss: 0.1745 - sparse_categorical_accuracy: 0.9604 - val_loss: 0.5118 - val_sparse_categorical_accuracy: 0.8044 - learning_rate: 1.6000e-06\n",
      "Epoch 39/60\n",
      "\u001b[1m200/200\u001b[0m \u001b[32m━━━━━━━━━━━━━━━━━━━━\u001b[0m\u001b[37m\u001b[0m \u001b[1m1s\u001b[0m 5ms/step - loss: 0.1731 - sparse_categorical_accuracy: 0.9608 - val_loss: 0.5118 - val_sparse_categorical_accuracy: 0.8044 - learning_rate: 3.2000e-07\n",
      "Epoch 40/60\n",
      "\u001b[1m200/200\u001b[0m \u001b[32m━━━━━━━━━━━━━━━━━━━━\u001b[0m\u001b[37m\u001b[0m \u001b[1m1s\u001b[0m 5ms/step - loss: 0.1730 - sparse_categorical_accuracy: 0.9566 - val_loss: 0.5118 - val_sparse_categorical_accuracy: 0.8044 - learning_rate: 3.2000e-07\n",
      "Epoch 41/60\n",
      "\u001b[1m200/200\u001b[0m \u001b[32m━━━━━━━━━━━━━━━━━━━━\u001b[0m\u001b[37m\u001b[0m \u001b[1m1s\u001b[0m 7ms/step - loss: 0.1742 - sparse_categorical_accuracy: 0.9601 - val_loss: 0.5118 - val_sparse_categorical_accuracy: 0.8044 - learning_rate: 3.2000e-07\n",
      "Epoch 41: early stopping\n",
      "Restoring model weights from the end of the best epoch: 26.\n"
     ]
    }
   ],
   "source": [
    "history = model.fit(\n",
    "    train_ds,\n",
    "    validation_data=val_ds,\n",
    "    epochs=60,\n",
    "    callbacks=[early_stopping, reduce_lr])"
   ]
  },
  {
   "cell_type": "code",
   "execution_count": 176,
   "metadata": {
    "colab": {
     "base_uri": "https://localhost:8080/"
    },
    "id": "fgrUkht6m6s-",
    "outputId": "a2a0d75a-4f6c-4c70-c7cf-4cbdb9bf37bd"
   },
   "outputs": [
    {
     "name": "stdout",
     "output_type": "stream",
     "text": [
      "\u001b[1m250/250\u001b[0m \u001b[32m━━━━━━━━━━━━━━━━━━━━\u001b[0m\u001b[37m\u001b[0m \u001b[1m0s\u001b[0m 1ms/step - loss: 0.5681 - sparse_categorical_accuracy: 0.7849\n",
      "Loss:  0.5553783774375916\n",
      "Accuracy:  0.7901250123977661\n"
     ]
    }
   ],
   "source": [
    "loss, accuracy = model.evaluate(test_ds)\n",
    "\n",
    "print(\"Loss: \", loss)\n",
    "print(\"Accuracy: \", accuracy)"
   ]
  },
  {
   "cell_type": "markdown",
   "metadata": {
    "id": "FJe5y0_gwH9t"
   },
   "source": [
    "### Plotting the loss and accuracy"
   ]
  },
  {
   "cell_type": "code",
   "execution_count": 177,
   "metadata": {
    "colab": {
     "base_uri": "https://localhost:8080/"
    },
    "id": "_3Q8vJ5fpZcc",
    "outputId": "615b28c0-9f75-48a6-a5fc-a9d51cbbe7d0"
   },
   "outputs": [
    {
     "data": {
      "text/plain": [
       "dict_keys(['loss', 'sparse_categorical_accuracy', 'val_loss', 'val_sparse_categorical_accuracy', 'learning_rate'])"
      ]
     },
     "execution_count": 177,
     "metadata": {},
     "output_type": "execute_result"
    }
   ],
   "source": [
    "history_dict = history.history\n",
    "history_dict.keys()"
   ]
  },
  {
   "cell_type": "code",
   "execution_count": 178,
   "metadata": {
    "colab": {
     "base_uri": "https://localhost:8080/",
     "height": 472
    },
    "id": "gqDUWpIrpdWE",
    "outputId": "bfe8f98f-fe84-4b6c-dd13-ca39cdf8611a"
   },
   "outputs": [
    {
     "data": {
      "image/png": "[encoded data removed]",
      "text/plain": [
       "<Figure size 640x480 with 1 Axes>"
      ]
     },
     "metadata": {},
     "output_type": "display_data"
    }
   ],
   "source": [
    "acc = history_dict['sparse_categorical_accuracy']\n",
    "val_acc = history_dict['val_sparse_categorical_accuracy']\n",
    "loss = history_dict['loss']\n",
    "val_loss = history_dict['val_loss']\n",
    "\n",
    "epochs = range(1, len(acc) + 1)\n",
    "\n",
    "# \"bo\" is for \"blue dot\"\n",
    "plt.plot(epochs, loss, 'bo', label='Training loss')\n",
    "# b is for \"solid blue line\"\n",
    "plt.plot(epochs, val_loss, 'b', label='Validation loss')\n",
    "plt.title('Training and validation loss')\n",
    "plt.xlabel('Epochs')\n",
    "plt.ylabel('Loss')\n",
    "plt.legend()\n",
    "\n",
    "plt.show()"
   ]
  },
  {
   "cell_type": "code",
   "execution_count": 179,
   "metadata": {
    "colab": {
     "base_uri": "https://localhost:8080/",
     "height": 472
    },
    "id": "4ewfbo-spfG6",
    "outputId": "fe7d9900-a144-4076-9147-9a9e83331e49"
   },
   "outputs": [
    {
     "data": {
      "image/png": "[encoded data removed]",
      "text/plain": [
       "<Figure size 640x480 with 1 Axes>"
      ]
     },
     "metadata": {},
     "output_type": "display_data"
    }
   ],
   "source": [
    "plt.plot(epochs, acc, 'bo', label='Training acc')\n",
    "plt.plot(epochs, val_acc, 'b', label='Validation acc')\n",
    "plt.title('Training and validation accuracy')\n",
    "plt.xlabel('Epochs')\n",
    "plt.ylabel('Accuracy')\n",
    "plt.legend(loc='lower right')\n",
    "\n",
    "plt.show()"
   ]
  },
  {
   "cell_type": "markdown",
   "metadata": {
    "id": "rhCJm3Hvvobu"
   },
   "source": [
    "### Create export model"
   ]
  },
  {
   "cell_type": "code",
   "execution_count": 180,
   "metadata": {
    "id": "uDG1zBFCpkgY"
   },
   "outputs": [],
   "source": [
    "export_model = tf.keras.Sequential([\n",
    "  vectorize_layer,\n",
    "  model,\n",
    "  layers.Activation('softmax')\n",
    "])\n",
    "\n",
    "export_model.compile(loss=losses.SparseCategoricalCrossentropy(from_logits=True),\n",
    "              optimizer='adam',\n",
    "              metrics=[tf.keras.metrics.SparseCategoricalAccuracy()])"
   ]
  },
  {
   "cell_type": "code",
   "execution_count": 187,
   "metadata": {
    "colab": {
     "base_uri": "https://localhost:8080/"
    },
    "id": "A9Hayhf9prZs",
    "outputId": "13ac2561-436b-415c-83dd-c30512af4f04"
   },
   "outputs": [
    {
     "name": "stdout",
     "output_type": "stream",
     "text": [
      "\u001b[1m250/250\u001b[0m \u001b[32m━━━━━━━━━━━━━━━━━━━━\u001b[0m\u001b[37m\u001b[0m \u001b[1m1s\u001b[0m 4ms/step - loss: 0.0000e+00 - sparse_categorical_accuracy: 0.7863\n"
     ]
    },
    {
     "data": {
      "text/plain": [
       "[0.0, 0.0, 0.7901250123977661, 0.7901250123977661]"
      ]
     },
     "execution_count": 187,
     "metadata": {},
     "output_type": "execute_result"
    }
   ],
   "source": [
    "export_model.evaluate(raw_test_ds)"
   ]
  },
  {
   "cell_type": "code",
   "execution_count": null,
   "metadata": {
    "id": "Yv0JfUpXp7a6"
   },
   "outputs": [],
   "source": []
  },
  {
   "cell_type": "code",
   "execution_count": 211,
   "metadata": {
    "colab": {
     "base_uri": "https://localhost:8080/"
    },
    "id": "0D5vXFJ_1d4K",
    "outputId": "4a49fbd2-ab54-4c45-809a-c88ee141bede"
   },
   "outputs": [
    {
     "data": {
      "text/plain": [
       "['csharp', 'java', 'javascript', 'python']"
      ]
     },
     "execution_count": 211,
     "metadata": {},
     "output_type": "execute_result"
    }
   ],
   "source": [
    "classes = raw_test_ds.class_names\n",
    "classes"
   ]
  },
  {
   "cell_type": "code",
   "execution_count": 226,
   "metadata": {
    "colab": {
     "base_uri": "https://localhost:8080/",
     "height": 52
    },
    "id": "0J1Bz21gp7eC",
    "outputId": "66b4ad72-cccd-44f3-e1db-20085521366c"
   },
   "outputs": [
    {
     "name": "stdout",
     "output_type": "stream",
     "text": [
      "\u001b[1m1/1\u001b[0m \u001b[32m━━━━━━━━━━━━━━━━━━━━\u001b[0m\u001b[37m\u001b[0m \u001b[1m0s\u001b[0m 9ms/step\n"
     ]
    },
    {
     "data": {
      "application/vnd.google.colaboratory.intrinsic+json": {
       "type": "string"
      },
      "text/plain": [
       "'python'"
      ]
     },
     "execution_count": 226,
     "metadata": {},
     "output_type": "execute_result"
    }
   ],
   "source": [
    "examples = [\n",
    "  ['this is my funtion in python: def func(c): print(c)'],\n",
    "]\n",
    "\n",
    "classes[np.argmax(export_model.predict(tf.data.Dataset.from_tensor_slices(examples)))]"
   ]
  },
  {
   "cell_type": "code",
   "execution_count": 229,
   "metadata": {
    "colab": {
     "base_uri": "https://localhost:8080/",
     "height": 52
    },
    "id": "0yyJ3ZxUyl8Z",
    "outputId": "78792894-80d3-434c-ccf3-a6d993ca7f28"
   },
   "outputs": [
    {
     "name": "stdout",
     "output_type": "stream",
     "text": [
      "\u001b[1m1/1\u001b[0m \u001b[32m━━━━━━━━━━━━━━━━━━━━\u001b[0m\u001b[37m\u001b[0m \u001b[1m0s\u001b[0m 7ms/step\n"
     ]
    },
    {
     "data": {
      "application/vnd.google.colaboratory.intrinsic+json": {
       "type": "string"
      },
      "text/plain": [
       "'java'"
      ]
     },
     "execution_count": 229,
     "metadata": {},
     "output_type": "execute_result"
    }
   ],
   "source": [
    "examples = [\n",
    "  ['what is the problem with this code?  class A(b){ system.out.pritln(b)}'],\n",
    "]\n",
    "\n",
    "classes[np.argmax(export_model.predict(tf.data.Dataset.from_tensor_slices(examples)))]"
   ]
  }
 ],
 "metadata": {
  "colab": {
   "provenance": []
  },
  "kernelspec": {
   "display_name": "Python 3 (ipykernel)",
   "language": "python",
   "name": "python3"
  },
  "language_info": {
   "codemirror_mode": {
    "name": "ipython",
    "version": 3
   },
   "file_extension": ".py",
   "mimetype": "text/x-python",
   "name": "python",
   "nbconvert_exporter": "python",
   "pygments_lexer": "ipython3",
   "version": "3.10.8"
  }
 },
 "nbformat": 4,
 "nbformat_minor": 1
}
