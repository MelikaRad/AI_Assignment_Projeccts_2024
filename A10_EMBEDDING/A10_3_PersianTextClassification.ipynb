{
 "cells": [
  {
   "cell_type": "markdown",
   "metadata": {},
   "source": [
    "<div style=\"background-color: #c3e8fb; padding: 10px; color: #144d84;\">\n",
    "<b>Exercise 3) Persian Text Classification</b><br>\n",
    "The main problem with the Persian dataset in the exercise is the presence of empty or low-content files (e.g., fewer than a few words). Please try to improve accuracy by cleaning the dataset. Finally, compare the validation accuracy before and after this process using the sklearn library. Has the F-score for each class increased?\n",
    "</div>"
   ]
  },
  {
   "cell_type": "code",
   "execution_count": 1,
   "metadata": {
    "id": "8RZOuS9LWQvv"
   },
   "outputs": [],
   "source": [
    "import matplotlib.pyplot as plt\n",
    "import os\n",
    "import re\n",
    "import shutil\n",
    "import string\n",
    "import tensorflow as tf\n",
    "\n",
    "from tensorflow.keras import layers\n",
    "from tensorflow.keras import losses"
   ]
  },
  {
   "cell_type": "code",
   "execution_count": 2,
   "metadata": {
    "colab": {
     "base_uri": "https://localhost:8080/"
    },
    "id": "6-tTFS04dChr",
    "outputId": "d6871cf3-1b6c-4cf8-9ef0-16b538a7d15d"
   },
   "outputs": [
    {
     "name": "stdout",
     "output_type": "stream",
     "text": [
      "2.17.1\n"
     ]
    }
   ],
   "source": [
    "print(tf.__version__)"
   ]
  },
  {
   "cell_type": "code",
   "execution_count": 3,
   "metadata": {
    "colab": {
     "base_uri": "https://localhost:8080/"
    },
    "id": "k7ZYnuajVlFN",
    "outputId": "2681399b-861c-45bf-82cc-f780f353e656"
   },
   "outputs": [
    {
     "name": "stdout",
     "output_type": "stream",
     "text": [
      "Downloading data from https://github.com/Alireza-Akhavan/text-classification/raw/main/6-persian-topics.zip\n",
      "\u001b[1m16473431/16473431\u001b[0m \u001b[32m━━━━━━━━━━━━━━━━━━━━\u001b[0m\u001b[37m\u001b[0m \u001b[1m0s\u001b[0m 0us/step\n"
     ]
    }
   ],
   "source": [
    "url = \"https://github.com/Alireza-Akhavan/text-classification/raw/main/6-persian-topics.zip\"\n",
    "\n",
    "dataset = tf.keras.utils.get_file(\"6-persian-topics.zip\", url,\n",
    "                                    extract=True, cache_dir='.',\n",
    "                                    cache_subdir='')\n",
    "\n",
    "dataset_dir = os.path.join(os.path.dirname(dataset), '6-persian-topics')"
   ]
  },
  {
   "cell_type": "code",
   "execution_count": 4,
   "metadata": {
    "colab": {
     "base_uri": "https://localhost:8080/"
    },
    "id": "355CfOvsV1pl",
    "outputId": "90a131ab-10bd-4803-81a4-9938c35b83a0"
   },
   "outputs": [
    {
     "data": {
      "text/plain": [
       "['ریاضیات',\n",
       " 'بهداشت و سلامت',\n",
       " 'ورزش',\n",
       " 'فناوری و علوم کاربردی و تکنولوژی',\n",
       " 'جغرافیا و مکانها',\n",
       " 'دین و اعتقاد']"
      ]
     },
     "execution_count": 4,
     "metadata": {},
     "output_type": "execute_result"
    }
   ],
   "source": [
    "os.listdir(dataset_dir)"
   ]
  },
  {
   "cell_type": "markdown",
   "metadata": {
    "id": "TRlJr4pDnWsk"
   },
   "source": [
    "### Detecting and removing short txt files"
   ]
  },
  {
   "cell_type": "code",
   "execution_count": 5,
   "metadata": {
    "colab": {
     "base_uri": "https://localhost:8080/"
    },
    "id": "pYZJSiVeqmat",
    "outputId": "3b5c8f72-76c4-4c98-cf71-e6ca82e09a69"
   },
   "outputs": [
    {
     "name": "stdout",
     "output_type": "stream",
     "text": [
      "379 txt files exist for the class \"ریاضیات\" \n",
      "18 files have fewer than 15 words.\n",
      "\n",
      "1916 txt files exist for the class \"بهداشت و سلامت\" \n",
      "91 files have fewer than 15 words.\n",
      "\n",
      "6276 txt files exist for the class \"ورزش\" \n",
      "344 files have fewer than 15 words.\n",
      "\n",
      "6486 txt files exist for the class \"فناوری و علوم کاربردی و تکنولوژی\" \n",
      "296 files have fewer than 15 words.\n",
      "\n",
      "21991 txt files exist for the class \"جغرافیا و مکانها\" \n",
      "2123 files have fewer than 15 words.\n",
      "\n",
      "525 txt files exist for the class \"دین و اعتقاد\" \n",
      "30 files have fewer than 15 words.\n",
      "\n"
     ]
    }
   ],
   "source": [
    "def count_files(directory, max_word_count):\n",
    "    # Create a dictionary to hold counts for each class\n",
    "    file_counts = {}\n",
    "\n",
    "    # Iterate through all folders and files\n",
    "    for class_folder in os.listdir(directory):\n",
    "        class_path = os.path.join(directory, class_folder)\n",
    "\n",
    "        # Check if this is a directory\n",
    "        if os.path.isdir(class_path):\n",
    "            small_file_count = 0\n",
    "            total_file_count = 0\n",
    "\n",
    "            for filename in os.listdir(class_path):\n",
    "                file_path = os.path.join(class_path, filename)\n",
    "\n",
    "                # Check if this is a text file\n",
    "                if filename.endswith('.txt') and os.path.isfile(file_path):\n",
    "                    total_file_count += 1\n",
    "\n",
    "                    with open(file_path, 'r', encoding='utf-8') as file:\n",
    "                        content = file.read()\n",
    "                        word_count = len(content.split())\n",
    "\n",
    "                        # Increment count if word count is less than the threshold\n",
    "                        if word_count < max_word_count:\n",
    "                            small_file_count += 1\n",
    "\n",
    "            # Store the counts in the dictionary\n",
    "            file_counts[class_folder] = {\n",
    "                'small_file_count': small_file_count,\n",
    "                'total_file_count': total_file_count\n",
    "            }\n",
    "\n",
    "    return file_counts\n",
    "\n",
    "directory_path = '6-persian-topics'\n",
    "max_word_count = 15 # این عدد را تغییر میدهیم تا تعداد فایل های حذف شده، نسبت زیادی از کل فایل های یک کلاس نباشد.\n",
    "\n",
    "file_counts = count_files(directory_path, max_word_count)\n",
    "\n",
    "for class_name, counts in file_counts.items():\n",
    "    print(f'{counts[\"total_file_count\"]} txt files exist for the class \"{class_name}\" ')\n",
    "    print(f'{counts[\"small_file_count\"]} files have fewer than {max_word_count} words.')\n",
    "    print('')"
   ]
  },
  {
   "cell_type": "code",
   "execution_count": 6,
   "metadata": {
    "id": "Aj_pDAd3leg3"
   },
   "outputs": [],
   "source": [
    "def remove_small_files(directory, min_word_count):\n",
    "\n",
    "    for class_folder in os.listdir(directory):\n",
    "        class_path = os.path.join(directory, class_folder)\n",
    "\n",
    "        if os.path.isdir(class_path):\n",
    "            for filename in os.listdir(class_path):\n",
    "                file_path = os.path.join(class_path, filename)\n",
    "\n",
    "                if filename.endswith('.txt') and os.path.isfile(file_path):\n",
    "                    with open(file_path, 'r', encoding='utf-8') as file:\n",
    "                        content = file.read()\n",
    "                        word_count = len(content.split())\n",
    "\n",
    "                        if word_count < min_word_count:\n",
    "                            os.remove(file_path)\n",
    "                            # print(f'{file_path} removed with number of words: {word_count})')\n",
    "\n",
    "directory_path = '6-persian-topics'\n",
    "min_word_count = 15\n",
    "\n",
    "remove_small_files(directory_path, min_word_count)"
   ]
  },
  {
   "cell_type": "markdown",
   "metadata": {
    "id": "oHEQ2OvhtSsu"
   },
   "source": [
    "### Creating the dataset"
   ]
  },
  {
   "cell_type": "code",
   "execution_count": 7,
   "metadata": {
    "colab": {
     "base_uri": "https://localhost:8080/"
    },
    "id": "s2dBwidAtEdx",
    "outputId": "89e6457e-15f3-491f-ff6a-8c46c0137cfc"
   },
   "outputs": [
    {
     "name": "stdout",
     "output_type": "stream",
     "text": [
      "Found 34671 files belonging to 6 classes.\n",
      "Using 27737 files for training.\n",
      "Found 34671 files belonging to 6 classes.\n",
      "Using 6934 files for validation.\n"
     ]
    }
   ],
   "source": [
    "batch_size = 32\n",
    "seed = 42\n",
    "\n",
    "raw_train_ds = tf.keras.utils.text_dataset_from_directory(\n",
    "    dataset_dir,\n",
    "    batch_size=batch_size,\n",
    "    validation_split=0.2,\n",
    "    subset='training',\n",
    "    seed=seed)\n",
    "\n",
    "raw_val_ds = tf.keras.utils.text_dataset_from_directory(\n",
    "    dataset_dir,\n",
    "    batch_size=batch_size,\n",
    "    validation_split=0.2,\n",
    "    subset='validation',\n",
    "    seed=seed)"
   ]
  },
  {
   "cell_type": "code",
   "execution_count": 8,
   "metadata": {
    "colab": {
     "base_uri": "https://localhost:8080/"
    },
    "id": "FHb-aAL4tH9f",
    "outputId": "68f44595-b1d5-4194-d01d-c0abda13ce82"
   },
   "outputs": [
    {
     "name": "stdout",
     "output_type": "stream",
     "text": [
      "Review آس جی ام (به انگلیسی: 1 SGM) یک منطقهٔ مسکونی در هند است که در Sri Ganganagar district واقع شده‌است. آس جی ام ۲٬۴۹۳ نفر جمعیت دارد.\n",
      "Label 1\n",
      "Review ایستگاه راه‌آهن مرکزی نورنبرگ (انگلیسی: Nuremberg Central Station) ایستگاه اصلی راه‌آهن در شهر نورنبرگ، آلمان است.\n",
      "Label 1\n",
      "Review شهر ویوپنت، سن-سن-دنی (به فرانسوی: ویوپنت، سن-سن-دنی) در شهرستان سن-سن-دنی در ناحیه ایل-دو-فرانس با جمعیت ۳۵٬۵۹۲ در کشور فرانسه واقع شده‌است\n",
      "Label 1\n",
      "Review کشتی در بازی‌های المپیک تابستانی ۱۹۲۸ نام رویداد ورزش کشتی در بازی‌های المپیک تابستانی بود که در سال ۱۹۲۸ برگزار شد.\n",
      "Label 5\n",
      "Review در ریاضیات و به خصوص در منطق ریاضی، جبر بولی (به انگلیسی: Boolean algebra) زیر مجموعه‌ای از جبر است که در آن مقدار متغیرها، درست یا غلط می‌باشد که معمولاً به همین ترتیب با ۱ و ۰ نشان داده می‌شوند. به جای جبر مقدماتی که در آن مقدار متغیرها اعداد هستند و عملگرهای اصلی جمع و ضرب می‌باشند، عملگرهای اصلی جبر بولی عطف منطقی و که با ∧ نشان داده می‌شود، فصل منطقی یا که با ∨ نشان داده می‌شود و نقیض که با ¬ نشان داده می‌شود، می‌باشند.\n",
      "Label 3\n",
      "Review هامیلتون (به انگلیسی: Hamilton) یک شهر در ایالات متحده آمریکا است که در شهرستان وایت‌پاین، نوادا واقع شده‌است. هامیلتون ۰ نفر جمعیت دارد و ۲٬۴۵۳٫۶۷ متر بالاتر از سطح دریا واقع شده‌است.\n",
      "Label 1\n",
      "Review لا باتای (به فرانسوی: La Bataille) یک کمون در فرانسه است که در Canton of Chef-Boutonne واقع شده‌است.\n",
      "Label 1\n",
      "Review آمبوهیدراتریمو (به لاتین: Ambohidratrimo) یک بخش‌های ماداگاسکار در ماداگاسکار است که در آنالامانگا واقع شده‌است.\n",
      "Label 1\n",
      "Review تحصیل زیارت (به انگلیسی: Ziarat Tehsil) یک تحصیل در پاکستان است که در ایالت بلوچستان واقع شده‌است.\n",
      "Label 1\n",
      "Review تدیه، مالی (به لاتین: Tédié) یک سکونتگاه مسکونی در مالی است که در استان موپتی واقع شده‌است.\n",
      "Label 1\n"
     ]
    }
   ],
   "source": [
    "for text_batch, label_batch in raw_train_ds.take(1):\n",
    "  for i in range(10):\n",
    "    print(\"Review\", text_batch.numpy()[i].decode()) #use decode for persian text\n",
    "    print(\"Label\", label_batch.numpy()[i])"
   ]
  },
  {
   "cell_type": "code",
   "execution_count": 9,
   "metadata": {
    "colab": {
     "base_uri": "https://localhost:8080/"
    },
    "id": "7FI6eV82tRIn",
    "outputId": "f0670744-044e-4858-a060-5871042891f1"
   },
   "outputs": [
    {
     "name": "stdout",
     "output_type": "stream",
     "text": [
      "Label 0 corresponds to بهداشت و سلامت\n",
      "Label 1 corresponds to جغرافیا و مکانها\n",
      "Label 2 corresponds to دین و اعتقاد\n",
      "Label 3 corresponds to ریاضیات\n",
      "Label 4 corresponds to فناوری و علوم کاربردی و تکنولوژی\n",
      "Label 5 corresponds to ورزش\n"
     ]
    }
   ],
   "source": [
    "for i in range(6):\n",
    "  print(\"Label {} corresponds to {}\".format(i, raw_train_ds.class_names[i]))"
   ]
  },
  {
   "cell_type": "markdown",
   "metadata": {
    "id": "kJajURlvjtal"
   },
   "source": [
    "### Preprocess data"
   ]
  },
  {
   "cell_type": "code",
   "execution_count": 10,
   "metadata": {
    "id": "SDRI_s_tX1Hk"
   },
   "outputs": [],
   "source": [
    "def custom_standardization(input_data):\n",
    "  lowercase = tf.strings.lower(input_data)\n",
    "  stripped_html = tf.strings.regex_replace(lowercase, '<br />', ' ')\n",
    "  stripped_ye = tf.strings.regex_replace(stripped_html, 'ي', 'ی')\n",
    "  return tf.strings.regex_replace(stripped_ye,\n",
    "                                  '[%s]' % re.escape(string.punctuation),\n",
    "                                  '')"
   ]
  },
  {
   "cell_type": "code",
   "execution_count": 11,
   "metadata": {
    "id": "-c76RvSzsMnX"
   },
   "outputs": [],
   "source": [
    "max_features = 10000\n",
    "sequence_length = 250\n",
    "\n",
    "vectorize_layer = layers.TextVectorization(\n",
    "    standardize=custom_standardization,\n",
    "    max_tokens=max_features,\n",
    "    output_mode='int',\n",
    "    output_sequence_length=sequence_length)"
   ]
  },
  {
   "cell_type": "code",
   "execution_count": 12,
   "metadata": {
    "id": "GH4_2ZGJsa_X"
   },
   "outputs": [],
   "source": [
    "# Make a text-only dataset (without labels), then call adapt\n",
    "train_text = raw_train_ds.map(lambda x, y: x)\n",
    "vectorize_layer.adapt(train_text)"
   ]
  },
  {
   "cell_type": "markdown",
   "metadata": {
    "id": "SHQVEFzNt-K_"
   },
   "source": [
    "Let's create a function to see the result of using this layer to preprocess some data."
   ]
  },
  {
   "cell_type": "code",
   "execution_count": 13,
   "metadata": {
    "id": "SCIg_T50wOCU"
   },
   "outputs": [],
   "source": [
    "def vectorize_text(text, label):\n",
    "  text = tf.expand_dims(text, -1)\n",
    "  return vectorize_layer(text), label"
   ]
  },
  {
   "cell_type": "code",
   "execution_count": 14,
   "metadata": {
    "colab": {
     "base_uri": "https://localhost:8080/"
    },
    "id": "XULcm6B3xQIO",
    "outputId": "3e0fe4d0-66e5-4efd-8a71-86a76532438d"
   },
   "outputs": [
    {
     "name": "stdout",
     "output_type": "stream",
     "text": [
      "Review ایالت ایمو (به لاتین: Imo (state)) یک ایالت در نیجریه است که ۵٬۵۳۰ کیلومترمربع مساحت و ۳٬۹۳۴٬۸۹۹ نفر جمعیت دارد.\n",
      "Label جغرافیا و مکانها\n",
      "Vectorized review (<tf.Tensor: shape=(1, 250), dtype=int64, numpy=\n",
      "array([[  67,    1,    3,   36,    1, 1535,    9,   67,    2, 1319,    5,\n",
      "           6,    1,  326,   53,    4,    1,   18,   19,   20,    0,    0,\n",
      "           0,    0,    0,    0,    0,    0,    0,    0,    0,    0,    0,\n",
      "           0,    0,    0,    0,    0,    0,    0,    0,    0,    0,    0,\n",
      "           0,    0,    0,    0,    0,    0,    0,    0,    0,    0,    0,\n",
      "           0,    0,    0,    0,    0,    0,    0,    0,    0,    0,    0,\n",
      "           0,    0,    0,    0,    0,    0,    0,    0,    0,    0,    0,\n",
      "           0,    0,    0,    0,    0,    0,    0,    0,    0,    0,    0,\n",
      "           0,    0,    0,    0,    0,    0,    0,    0,    0,    0,    0,\n",
      "           0,    0,    0,    0,    0,    0,    0,    0,    0,    0,    0,\n",
      "           0,    0,    0,    0,    0,    0,    0,    0,    0,    0,    0,\n",
      "           0,    0,    0,    0,    0,    0,    0,    0,    0,    0,    0,\n",
      "           0,    0,    0,    0,    0,    0,    0,    0,    0,    0,    0,\n",
      "           0,    0,    0,    0,    0,    0,    0,    0,    0,    0,    0,\n",
      "           0,    0,    0,    0,    0,    0,    0,    0,    0,    0,    0,\n",
      "           0,    0,    0,    0,    0,    0,    0,    0,    0,    0,    0,\n",
      "           0,    0,    0,    0,    0,    0,    0,    0,    0,    0,    0,\n",
      "           0,    0,    0,    0,    0,    0,    0,    0,    0,    0,    0,\n",
      "           0,    0,    0,    0,    0,    0,    0,    0,    0,    0,    0,\n",
      "           0,    0,    0,    0,    0,    0,    0,    0,    0,    0,    0,\n",
      "           0,    0,    0,    0,    0,    0,    0,    0,    0,    0,    0,\n",
      "           0,    0,    0,    0,    0,    0,    0,    0,    0,    0,    0,\n",
      "           0,    0,    0,    0,    0,    0,    0,    0]])>, <tf.Tensor: shape=(), dtype=int32, numpy=1>)\n"
     ]
    }
   ],
   "source": [
    "# retrieve a batch (of 32 reviews and labels) from the dataset\n",
    "text_batch, label_batch = next(iter(raw_train_ds))\n",
    "first_review, first_label = text_batch[0], label_batch[0]\n",
    "print(\"Review\", first_review.numpy().decode())\n",
    "print(\"Label\", raw_train_ds.class_names[first_label])\n",
    "print(\"Vectorized review\", vectorize_text(first_review, first_label))"
   ]
  },
  {
   "cell_type": "code",
   "execution_count": 15,
   "metadata": {
    "colab": {
     "base_uri": "https://localhost:8080/"
    },
    "id": "ZrMpFD9Q_XSU",
    "outputId": "dda6902d-7dba-4c76-d7d0-6c7ea563083d"
   },
   "outputs": [
    {
     "name": "stdout",
     "output_type": "stream",
     "text": [
      "(32,) (32,)\n"
     ]
    }
   ],
   "source": [
    "a, b = next(iter(raw_train_ds))\n",
    "print(a.shape, b.shape)"
   ]
  },
  {
   "cell_type": "code",
   "execution_count": 16,
   "metadata": {
    "id": "2zhmpeViI1iG"
   },
   "outputs": [],
   "source": [
    "train_ds = raw_train_ds.map(vectorize_text)\n",
    "val_ds = raw_val_ds.map(vectorize_text)"
   ]
  },
  {
   "cell_type": "code",
   "execution_count": 17,
   "metadata": {
    "colab": {
     "base_uri": "https://localhost:8080/"
    },
    "id": "7amzeMTS_s20",
    "outputId": "35f79980-118c-45a4-fa8d-5d4830252ecc"
   },
   "outputs": [
    {
     "data": {
      "text/plain": [
       "<tf.Tensor: shape=(250,), dtype=int64, numpy=\n",
       "array([   1, 4077, 6403,   25,    1, 4077, 6403,   12,    1,    1,    1,\n",
       "          2, 4485,  480, 2069,    1,  572,    3,  293,  606,    1,    2,\n",
       "       5647,  259,   10,   11,    6,  128,    1,    4, 8953,   52,   32,\n",
       "         45, 4191,  345, 2274,    1,   33,    1,    1, 2713,    9, 1254,\n",
       "        121,    2,  962,    6,    1,   61,    1,    2,   78,  107, 1997,\n",
       "          9,    1,   25,    1,   39,   20,    6, 3676,    1, 1993,   22,\n",
       "          2,    9,    1, 1137,  209,    1,    2,  695,   13,    1,  769,\n",
       "          4, 3572, 6723,   32, 2291,    6, 1146,  700,  328, 2408,    7,\n",
       "         15, 1381, 4987,    0,    0,    0,    0,    0,    0,    0,    0,\n",
       "          0,    0,    0,    0,    0,    0,    0,    0,    0,    0,    0,\n",
       "          0,    0,    0,    0,    0,    0,    0,    0,    0,    0,    0,\n",
       "          0,    0,    0,    0,    0,    0,    0,    0,    0,    0,    0,\n",
       "          0,    0,    0,    0,    0,    0,    0,    0,    0,    0,    0,\n",
       "          0,    0,    0,    0,    0,    0,    0,    0,    0,    0,    0,\n",
       "          0,    0,    0,    0,    0,    0,    0,    0,    0,    0,    0,\n",
       "          0,    0,    0,    0,    0,    0,    0,    0,    0,    0,    0,\n",
       "          0,    0,    0,    0,    0,    0,    0,    0,    0,    0,    0,\n",
       "          0,    0,    0,    0,    0,    0,    0,    0,    0,    0,    0,\n",
       "          0,    0,    0,    0,    0,    0,    0,    0,    0,    0,    0,\n",
       "          0,    0,    0,    0,    0,    0,    0,    0,    0,    0,    0,\n",
       "          0,    0,    0,    0,    0,    0,    0,    0,    0,    0,    0,\n",
       "          0,    0,    0,    0,    0,    0,    0,    0,    0,    0,    0,\n",
       "          0,    0,    0,    0,    0,    0,    0,    0])>"
      ]
     },
     "execution_count": 17,
     "metadata": {},
     "output_type": "execute_result"
    }
   ],
   "source": [
    "a, b = next(iter(train_ds))\n",
    "a[0]"
   ]
  },
  {
   "cell_type": "markdown",
   "metadata": {
    "id": "YsVQyPMizjuO"
   },
   "source": [
    "### Configure the dataset for performance"
   ]
  },
  {
   "cell_type": "code",
   "execution_count": 18,
   "metadata": {
    "id": "wMcs_H7izm5m"
   },
   "outputs": [],
   "source": [
    "AUTOTUNE = tf.data.AUTOTUNE\n",
    "\n",
    "train_ds = train_ds.cache().prefetch(buffer_size=AUTOTUNE)\n",
    "val_ds = val_ds.cache().prefetch(buffer_size=AUTOTUNE)\n"
   ]
  },
  {
   "cell_type": "code",
   "execution_count": 19,
   "metadata": {
    "id": "dkQP6in8yUBR"
   },
   "outputs": [],
   "source": [
    "embedding_dim = 16"
   ]
  },
  {
   "cell_type": "code",
   "execution_count": 20,
   "metadata": {
    "colab": {
     "base_uri": "https://localhost:8080/",
     "height": 305
    },
    "id": "xpKOoWgu-llD",
    "outputId": "979a662c-6f13-410b-f896-7a438cb09078"
   },
   "outputs": [
    {
     "data": {
      "text/html": [
       "<pre style=\"white-space:pre;overflow-x:auto;line-height:normal;font-family:Menlo,'DejaVu Sans Mono',consolas,'Courier New',monospace\"><span style=\"font-weight: bold\">Model: \"sequential\"</span>\n",
       "</pre>\n"
      ],
      "text/plain": [
       "\u001b[1mModel: \"sequential\"\u001b[0m\n"
      ]
     },
     "metadata": {},
     "output_type": "display_data"
    },
    {
     "data": {
      "text/html": [
       "<pre style=\"white-space:pre;overflow-x:auto;line-height:normal;font-family:Menlo,'DejaVu Sans Mono',consolas,'Courier New',monospace\">┏━━━━━━━━━━━━━━━━━━━━━━━━━━━━━━━━━━━━━━┳━━━━━━━━━━━━━━━━━━━━━━━━━━━━━┳━━━━━━━━━━━━━━━━━┓\n",
       "┃<span style=\"font-weight: bold\"> Layer (type)                         </span>┃<span style=\"font-weight: bold\"> Output Shape                </span>┃<span style=\"font-weight: bold\">         Param # </span>┃\n",
       "┡━━━━━━━━━━━━━━━━━━━━━━━━━━━━━━━━━━━━━━╇━━━━━━━━━━━━━━━━━━━━━━━━━━━━━╇━━━━━━━━━━━━━━━━━┩\n",
       "│ embedding (<span style=\"color: #0087ff; text-decoration-color: #0087ff\">Embedding</span>)                │ ?                           │     <span style=\"color: #00af00; text-decoration-color: #00af00\">0</span> (unbuilt) │\n",
       "├──────────────────────────────────────┼─────────────────────────────┼─────────────────┤\n",
       "│ global_average_pooling1d             │ ?                           │     <span style=\"color: #00af00; text-decoration-color: #00af00\">0</span> (unbuilt) │\n",
       "│ (<span style=\"color: #0087ff; text-decoration-color: #0087ff\">GlobalAveragePooling1D</span>)             │                             │                 │\n",
       "├──────────────────────────────────────┼─────────────────────────────┼─────────────────┤\n",
       "│ dense (<span style=\"color: #0087ff; text-decoration-color: #0087ff\">Dense</span>)                        │ ?                           │     <span style=\"color: #00af00; text-decoration-color: #00af00\">0</span> (unbuilt) │\n",
       "├──────────────────────────────────────┼─────────────────────────────┼─────────────────┤\n",
       "│ dropout (<span style=\"color: #0087ff; text-decoration-color: #0087ff\">Dropout</span>)                    │ ?                           │     <span style=\"color: #00af00; text-decoration-color: #00af00\">0</span> (unbuilt) │\n",
       "├──────────────────────────────────────┼─────────────────────────────┼─────────────────┤\n",
       "│ dense_1 (<span style=\"color: #0087ff; text-decoration-color: #0087ff\">Dense</span>)                      │ ?                           │     <span style=\"color: #00af00; text-decoration-color: #00af00\">0</span> (unbuilt) │\n",
       "└──────────────────────────────────────┴─────────────────────────────┴─────────────────┘\n",
       "</pre>\n"
      ],
      "text/plain": [
       "┏━━━━━━━━━━━━━━━━━━━━━━━━━━━━━━━━━━━━━━┳━━━━━━━━━━━━━━━━━━━━━━━━━━━━━┳━━━━━━━━━━━━━━━━━┓\n",
       "┃\u001b[1m \u001b[0m\u001b[1mLayer (type)                        \u001b[0m\u001b[1m \u001b[0m┃\u001b[1m \u001b[0m\u001b[1mOutput Shape               \u001b[0m\u001b[1m \u001b[0m┃\u001b[1m \u001b[0m\u001b[1m        Param #\u001b[0m\u001b[1m \u001b[0m┃\n",
       "┡━━━━━━━━━━━━━━━━━━━━━━━━━━━━━━━━━━━━━━╇━━━━━━━━━━━━━━━━━━━━━━━━━━━━━╇━━━━━━━━━━━━━━━━━┩\n",
       "│ embedding (\u001b[38;5;33mEmbedding\u001b[0m)                │ ?                           │     \u001b[38;5;34m0\u001b[0m (unbuilt) │\n",
       "├──────────────────────────────────────┼─────────────────────────────┼─────────────────┤\n",
       "│ global_average_pooling1d             │ ?                           │     \u001b[38;5;34m0\u001b[0m (unbuilt) │\n",
       "│ (\u001b[38;5;33mGlobalAveragePooling1D\u001b[0m)             │                             │                 │\n",
       "├──────────────────────────────────────┼─────────────────────────────┼─────────────────┤\n",
       "│ dense (\u001b[38;5;33mDense\u001b[0m)                        │ ?                           │     \u001b[38;5;34m0\u001b[0m (unbuilt) │\n",
       "├──────────────────────────────────────┼─────────────────────────────┼─────────────────┤\n",
       "│ dropout (\u001b[38;5;33mDropout\u001b[0m)                    │ ?                           │     \u001b[38;5;34m0\u001b[0m (unbuilt) │\n",
       "├──────────────────────────────────────┼─────────────────────────────┼─────────────────┤\n",
       "│ dense_1 (\u001b[38;5;33mDense\u001b[0m)                      │ ?                           │     \u001b[38;5;34m0\u001b[0m (unbuilt) │\n",
       "└──────────────────────────────────────┴─────────────────────────────┴─────────────────┘\n"
      ]
     },
     "metadata": {},
     "output_type": "display_data"
    },
    {
     "data": {
      "text/html": [
       "<pre style=\"white-space:pre;overflow-x:auto;line-height:normal;font-family:Menlo,'DejaVu Sans Mono',consolas,'Courier New',monospace\"><span style=\"font-weight: bold\"> Total params: </span><span style=\"color: #00af00; text-decoration-color: #00af00\">0</span> (0.00 B)\n",
       "</pre>\n"
      ],
      "text/plain": [
       "\u001b[1m Total params: \u001b[0m\u001b[38;5;34m0\u001b[0m (0.00 B)\n"
      ]
     },
     "metadata": {},
     "output_type": "display_data"
    },
    {
     "data": {
      "text/html": [
       "<pre style=\"white-space:pre;overflow-x:auto;line-height:normal;font-family:Menlo,'DejaVu Sans Mono',consolas,'Courier New',monospace\"><span style=\"font-weight: bold\"> Trainable params: </span><span style=\"color: #00af00; text-decoration-color: #00af00\">0</span> (0.00 B)\n",
       "</pre>\n"
      ],
      "text/plain": [
       "\u001b[1m Trainable params: \u001b[0m\u001b[38;5;34m0\u001b[0m (0.00 B)\n"
      ]
     },
     "metadata": {},
     "output_type": "display_data"
    },
    {
     "data": {
      "text/html": [
       "<pre style=\"white-space:pre;overflow-x:auto;line-height:normal;font-family:Menlo,'DejaVu Sans Mono',consolas,'Courier New',monospace\"><span style=\"font-weight: bold\"> Non-trainable params: </span><span style=\"color: #00af00; text-decoration-color: #00af00\">0</span> (0.00 B)\n",
       "</pre>\n"
      ],
      "text/plain": [
       "\u001b[1m Non-trainable params: \u001b[0m\u001b[38;5;34m0\u001b[0m (0.00 B)\n"
      ]
     },
     "metadata": {},
     "output_type": "display_data"
    }
   ],
   "source": [
    "model = tf.keras.Sequential([\n",
    "  layers.Embedding(max_features, embedding_dim),\n",
    "  layers.GlobalAveragePooling1D(),\n",
    "  layers.Dense(100),\n",
    "  layers.Dropout(0.5),\n",
    "  layers.Dense(6)])\n",
    "\n",
    "model.summary()"
   ]
  },
  {
   "cell_type": "code",
   "execution_count": 21,
   "metadata": {
    "id": "Mr0GP-cQ-llN"
   },
   "outputs": [],
   "source": [
    "model.compile(loss=losses.SparseCategoricalCrossentropy(from_logits=True),\n",
    "              optimizer='adam',\n",
    "              metrics=['accuracy'])"
   ]
  },
  {
   "cell_type": "markdown",
   "metadata": {
    "id": "xw4TkixRD0s6"
   },
   "source": [
    "## calculate class weight"
   ]
  },
  {
   "cell_type": "code",
   "execution_count": 22,
   "metadata": {
    "colab": {
     "base_uri": "https://localhost:8080/"
    },
    "id": "ga8pJ4L9Dzo-",
    "outputId": "4e5c13a4-6f4d-4bda-e038-988586e03f84"
   },
   "outputs": [
    {
     "name": "stdout",
     "output_type": "stream",
     "text": [
      "Class 1: 15901 samples\n",
      "Class 4: 4922 samples\n",
      "Class 0: 1454 samples\n",
      "Class 5: 4764 samples\n",
      "Class 2: 409 samples\n",
      "Class 3: 287 samples\n",
      "Class 1 weight: 1.7443557008993145\n",
      "Class 4 weight: 5.635310849248273\n",
      "Class 0 weight: 19.076341127922973\n",
      "Class 5 weight: 5.822208228379513\n",
      "Class 2 weight: 67.81662591687042\n",
      "Class 3 weight: 96.64459930313589\n"
     ]
    }
   ],
   "source": [
    "# Convert the tf.data.Dataset to a NumPy iterator\n",
    "train_iterator = train_ds.as_numpy_iterator()\n",
    "\n",
    "# Create a dictionary to store the counts for each class\n",
    "class_counts = {}\n",
    "\n",
    "# Iterate over the dataset and count the samples for each class\n",
    "for data, labels in train_iterator:\n",
    "    for label in labels:\n",
    "        class_counts[label] = class_counts.get(label, 0) + 1\n",
    "\n",
    "# Calculate the class weights\n",
    "total_samples = sum(class_counts.values())\n",
    "class_weights = {\n",
    "    label: total_samples / count\n",
    "    for label, count in class_counts.items()\n",
    "}\n",
    "\n",
    "# Print the class counts\n",
    "for label, count in class_counts.items():\n",
    "    print(f\"Class {label}: {count} samples\")\n",
    "\n",
    "# Print the class weights\n",
    "for label, weight in class_weights.items():\n",
    "    print(f\"Class {label} weight: {weight}\")\n"
   ]
  },
  {
   "cell_type": "markdown",
   "metadata": {
    "id": "35jv_fzP-llU"
   },
   "source": [
    "### Train the model\n",
    "\n",
    "You will train the model by passing the `dataset` object to the fit method."
   ]
  },
  {
   "cell_type": "code",
   "execution_count": 27,
   "metadata": {
    "colab": {
     "base_uri": "https://localhost:8080/"
    },
    "id": "tXSGrjWZ-llW",
    "outputId": "19804def-be8b-4cb2-c42d-510d02f5cb32"
   },
   "outputs": [
    {
     "name": "stdout",
     "output_type": "stream",
     "text": [
      "Epoch 1/30\n",
      "\u001b[1m867/867\u001b[0m \u001b[32m━━━━━━━━━━━━━━━━━━━━\u001b[0m\u001b[37m\u001b[0m \u001b[1m8s\u001b[0m 4ms/step - accuracy: 0.2842 - loss: 10.5066 - val_accuracy: 0.8037 - val_loss: 0.8185 - learning_rate: 0.0010\n",
      "Epoch 2/30\n",
      "\u001b[1m867/867\u001b[0m \u001b[32m━━━━━━━━━━━━━━━━━━━━\u001b[0m\u001b[37m\u001b[0m \u001b[1m7s\u001b[0m 3ms/step - accuracy: 0.8372 - loss: 5.9951 - val_accuracy: 0.8879 - val_loss: 0.3564 - learning_rate: 0.0010\n",
      "Epoch 3/30\n",
      "\u001b[1m867/867\u001b[0m \u001b[32m━━━━━━━━━━━━━━━━━━━━\u001b[0m\u001b[37m\u001b[0m \u001b[1m2s\u001b[0m 2ms/step - accuracy: 0.9059 - loss: 3.6299 - val_accuracy: 0.9361 - val_loss: 0.2005 - learning_rate: 0.0010\n",
      "Epoch 4/30\n",
      "\u001b[1m867/867\u001b[0m \u001b[32m━━━━━━━━━━━━━━━━━━━━\u001b[0m\u001b[37m\u001b[0m \u001b[1m2s\u001b[0m 2ms/step - accuracy: 0.9287 - loss: 2.3265 - val_accuracy: 0.9602 - val_loss: 0.1193 - learning_rate: 0.0010\n",
      "Epoch 5/30\n",
      "\u001b[1m867/867\u001b[0m \u001b[32m━━━━━━━━━━━━━━━━━━━━\u001b[0m\u001b[37m\u001b[0m \u001b[1m3s\u001b[0m 2ms/step - accuracy: 0.9438 - loss: 1.7605 - val_accuracy: 0.9652 - val_loss: 0.1080 - learning_rate: 0.0010\n",
      "Epoch 6/30\n",
      "\u001b[1m867/867\u001b[0m \u001b[32m━━━━━━━━━━━━━━━━━━━━\u001b[0m\u001b[37m\u001b[0m \u001b[1m2s\u001b[0m 2ms/step - accuracy: 0.9516 - loss: 1.4258 - val_accuracy: 0.9647 - val_loss: 0.1165 - learning_rate: 0.0010\n",
      "Epoch 7/30\n",
      "\u001b[1m867/867\u001b[0m \u001b[32m━━━━━━━━━━━━━━━━━━━━\u001b[0m\u001b[37m\u001b[0m \u001b[1m2s\u001b[0m 2ms/step - accuracy: 0.9630 - loss: 0.9953 - val_accuracy: 0.9717 - val_loss: 0.0982 - learning_rate: 0.0010\n",
      "Epoch 8/30\n",
      "\u001b[1m867/867\u001b[0m \u001b[32m━━━━━━━━━━━━━━━━━━━━\u001b[0m\u001b[37m\u001b[0m \u001b[1m2s\u001b[0m 3ms/step - accuracy: 0.9677 - loss: 0.8221 - val_accuracy: 0.9707 - val_loss: 0.0996 - learning_rate: 0.0010\n",
      "Epoch 9/30\n",
      "\u001b[1m867/867\u001b[0m \u001b[32m━━━━━━━━━━━━━━━━━━━━\u001b[0m\u001b[37m\u001b[0m \u001b[1m2s\u001b[0m 2ms/step - accuracy: 0.9715 - loss: 0.7083 - val_accuracy: 0.9725 - val_loss: 0.0974 - learning_rate: 0.0010\n",
      "Epoch 10/30\n",
      "\u001b[1m867/867\u001b[0m \u001b[32m━━━━━━━━━━━━━━━━━━━━\u001b[0m\u001b[37m\u001b[0m \u001b[1m2s\u001b[0m 2ms/step - accuracy: 0.9702 - loss: 0.7766 - val_accuracy: 0.9738 - val_loss: 0.0954 - learning_rate: 0.0010\n",
      "Epoch 11/30\n",
      "\u001b[1m867/867\u001b[0m \u001b[32m━━━━━━━━━━━━━━━━━━━━\u001b[0m\u001b[37m\u001b[0m \u001b[1m2s\u001b[0m 2ms/step - accuracy: 0.9783 - loss: 0.5586 - val_accuracy: 0.9719 - val_loss: 0.1015 - learning_rate: 0.0010\n",
      "Epoch 12/30\n",
      "\u001b[1m867/867\u001b[0m \u001b[32m━━━━━━━━━━━━━━━━━━━━\u001b[0m\u001b[37m\u001b[0m \u001b[1m2s\u001b[0m 2ms/step - accuracy: 0.9698 - loss: 0.8685 - val_accuracy: 0.9755 - val_loss: 0.0928 - learning_rate: 0.0010\n",
      "Epoch 13/30\n",
      "\u001b[1m867/867\u001b[0m \u001b[32m━━━━━━━━━━━━━━━━━━━━\u001b[0m\u001b[37m\u001b[0m \u001b[1m3s\u001b[0m 2ms/step - accuracy: 0.9837 - loss: 0.4050 - val_accuracy: 0.9782 - val_loss: 0.0880 - learning_rate: 0.0010\n",
      "Epoch 14/30\n",
      "\u001b[1m867/867\u001b[0m \u001b[32m━━━━━━━━━━━━━━━━━━━━\u001b[0m\u001b[37m\u001b[0m \u001b[1m2s\u001b[0m 3ms/step - accuracy: 0.9824 - loss: 0.4105 - val_accuracy: 0.9712 - val_loss: 0.1117 - learning_rate: 0.0010\n",
      "Epoch 15/30\n",
      "\u001b[1m867/867\u001b[0m \u001b[32m━━━━━━━━━━━━━━━━━━━━\u001b[0m\u001b[37m\u001b[0m \u001b[1m2s\u001b[0m 2ms/step - accuracy: 0.9852 - loss: 0.4069 - val_accuracy: 0.9706 - val_loss: 0.1156 - learning_rate: 0.0010\n",
      "Epoch 16/30\n",
      "\u001b[1m867/867\u001b[0m \u001b[32m━━━━━━━━━━━━━━━━━━━━\u001b[0m\u001b[37m\u001b[0m \u001b[1m2s\u001b[0m 2ms/step - accuracy: 0.9878 - loss: 0.2871 - val_accuracy: 0.9791 - val_loss: 0.0893 - learning_rate: 0.0010\n",
      "Epoch 17/30\n",
      "\u001b[1m847/867\u001b[0m \u001b[32m━━━━━━━━━━━━━━━━━━━\u001b[0m\u001b[37m━\u001b[0m \u001b[1m0s\u001b[0m 2ms/step - accuracy: 0.9876 - loss: 0.3145\n",
      "Epoch 17: ReduceLROnPlateau reducing learning rate to 0.0005000000237487257.\n",
      "\u001b[1m867/867\u001b[0m \u001b[32m━━━━━━━━━━━━━━━━━━━━\u001b[0m\u001b[37m\u001b[0m \u001b[1m2s\u001b[0m 2ms/step - accuracy: 0.9876 - loss: 0.3151 - val_accuracy: 0.9781 - val_loss: 0.0932 - learning_rate: 0.0010\n",
      "Epoch 18/30\n",
      "\u001b[1m867/867\u001b[0m \u001b[32m━━━━━━━━━━━━━━━━━━━━\u001b[0m\u001b[37m\u001b[0m \u001b[1m2s\u001b[0m 2ms/step - accuracy: 0.9934 - loss: 0.1518 - val_accuracy: 0.9805 - val_loss: 0.0880 - learning_rate: 5.0000e-04\n",
      "Epoch 19/30\n",
      "\u001b[1m867/867\u001b[0m \u001b[32m━━━━━━━━━━━━━━━━━━━━\u001b[0m\u001b[37m\u001b[0m \u001b[1m2s\u001b[0m 2ms/step - accuracy: 0.9932 - loss: 0.1608 - val_accuracy: 0.9813 - val_loss: 0.0887 - learning_rate: 5.0000e-04\n",
      "Epoch 20/30\n",
      "\u001b[1m867/867\u001b[0m \u001b[32m━━━━━━━━━━━━━━━━━━━━\u001b[0m\u001b[37m\u001b[0m \u001b[1m2s\u001b[0m 2ms/step - accuracy: 0.9932 - loss: 0.1343 - val_accuracy: 0.9804 - val_loss: 0.0927 - learning_rate: 5.0000e-04\n",
      "Epoch 21/30\n",
      "\u001b[1m843/867\u001b[0m \u001b[32m━━━━━━━━━━━━━━━━━━━\u001b[0m\u001b[37m━\u001b[0m \u001b[1m0s\u001b[0m 2ms/step - accuracy: 0.9923 - loss: 0.1710\n",
      "Epoch 21: ReduceLROnPlateau reducing learning rate to 0.0002500000118743628.\n",
      "\u001b[1m867/867\u001b[0m \u001b[32m━━━━━━━━━━━━━━━━━━━━\u001b[0m\u001b[37m\u001b[0m \u001b[1m3s\u001b[0m 2ms/step - accuracy: 0.9923 - loss: 0.1718 - val_accuracy: 0.9815 - val_loss: 0.0921 - learning_rate: 5.0000e-04\n",
      "Epoch 22/30\n",
      "\u001b[1m867/867\u001b[0m \u001b[32m━━━━━━━━━━━━━━━━━━━━\u001b[0m\u001b[37m\u001b[0m \u001b[1m2s\u001b[0m 2ms/step - accuracy: 0.9957 - loss: 0.0920 - val_accuracy: 0.9834 - val_loss: 0.0867 - learning_rate: 2.5000e-04\n",
      "Epoch 23/30\n",
      "\u001b[1m867/867\u001b[0m \u001b[32m━━━━━━━━━━━━━━━━━━━━\u001b[0m\u001b[37m\u001b[0m \u001b[1m3s\u001b[0m 2ms/step - accuracy: 0.9959 - loss: 0.0922 - val_accuracy: 0.9824 - val_loss: 0.0903 - learning_rate: 2.5000e-04\n",
      "Epoch 24/30\n",
      "\u001b[1m867/867\u001b[0m \u001b[32m━━━━━━━━━━━━━━━━━━━━\u001b[0m\u001b[37m\u001b[0m \u001b[1m2s\u001b[0m 2ms/step - accuracy: 0.9952 - loss: 0.0910 - val_accuracy: 0.9820 - val_loss: 0.0907 - learning_rate: 2.5000e-04\n",
      "Epoch 25/30\n",
      "\u001b[1m867/867\u001b[0m \u001b[32m━━━━━━━━━━━━━━━━━━━━\u001b[0m\u001b[37m\u001b[0m \u001b[1m2s\u001b[0m 2ms/step - accuracy: 0.9927 - loss: 0.1175 - val_accuracy: 0.9820 - val_loss: 0.0921 - learning_rate: 2.5000e-04\n",
      "Epoch 26/30\n",
      "\u001b[1m849/867\u001b[0m \u001b[32m━━━━━━━━━━━━━━━━━━━\u001b[0m\u001b[37m━\u001b[0m \u001b[1m0s\u001b[0m 3ms/step - accuracy: 0.9952 - loss: 0.0923\n",
      "Epoch 26: ReduceLROnPlateau reducing learning rate to 0.0001250000059371814.\n",
      "\u001b[1m867/867\u001b[0m \u001b[32m━━━━━━━━━━━━━━━━━━━━\u001b[0m\u001b[37m\u001b[0m \u001b[1m4s\u001b[0m 3ms/step - accuracy: 0.9952 - loss: 0.0921 - val_accuracy: 0.9810 - val_loss: 0.0948 - learning_rate: 2.5000e-04\n",
      "Epoch 27/30\n",
      "\u001b[1m867/867\u001b[0m \u001b[32m━━━━━━━━━━━━━━━━━━━━\u001b[0m\u001b[37m\u001b[0m \u001b[1m4s\u001b[0m 2ms/step - accuracy: 0.9962 - loss: 0.0810 - val_accuracy: 0.9831 - val_loss: 0.0916 - learning_rate: 1.2500e-04\n",
      "Epoch 28/30\n",
      "\u001b[1m867/867\u001b[0m \u001b[32m━━━━━━━━━━━━━━━━━━━━\u001b[0m\u001b[37m\u001b[0m \u001b[1m2s\u001b[0m 2ms/step - accuracy: 0.9965 - loss: 0.0688 - val_accuracy: 0.9827 - val_loss: 0.0914 - learning_rate: 1.2500e-04\n",
      "Epoch 29/30\n",
      "\u001b[1m867/867\u001b[0m \u001b[32m━━━━━━━━━━━━━━━━━━━━\u001b[0m\u001b[37m\u001b[0m \u001b[1m2s\u001b[0m 2ms/step - accuracy: 0.9963 - loss: 0.0694 - val_accuracy: 0.9837 - val_loss: 0.0905 - learning_rate: 1.2500e-04\n",
      "Epoch 29: early stopping\n",
      "Restoring model weights from the end of the best epoch: 22.\n"
     ]
    }
   ],
   "source": [
    "from tensorflow.keras.callbacks import EarlyStopping, ReduceLROnPlateau\n",
    "\n",
    "early_stopping = EarlyStopping(\n",
    "      monitor='val_loss',\n",
    "      patience=7,\n",
    "      verbose=1,\n",
    "      restore_best_weights=True\n",
    "      )\n",
    "\n",
    "reduce_lr = ReduceLROnPlateau(\n",
    "      monitor='val_loss',\n",
    "      factor=0.5,\n",
    "      patience=4,\n",
    "      verbose=1,\n",
    "      min_lr=1e-7\n",
    "      )\n",
    "\n",
    "epochs = 30\n",
    "history = model.fit(\n",
    "    train_ds,\n",
    "    validation_data=val_ds,\n",
    "    epochs=epochs, class_weight=class_weights,\n",
    "    callbacks=[early_stopping, reduce_lr])"
   ]
  },
  {
   "cell_type": "code",
   "execution_count": 28,
   "metadata": {
    "colab": {
     "base_uri": "https://localhost:8080/"
    },
    "id": "lQCQf-oJwku7",
    "outputId": "a9e6e449-3e0c-4799-ddef-a7f6de09d1ea"
   },
   "outputs": [
    {
     "name": "stdout",
     "output_type": "stream",
     "text": [
      "\u001b[1m217/217\u001b[0m \u001b[32m━━━━━━━━━━━━━━━━━━━━\u001b[0m\u001b[37m\u001b[0m \u001b[1m1s\u001b[0m 2ms/step - accuracy: 0.9855 - loss: 0.0851\n",
      "Validation Loss: 0.08669081330299377, Validation Accuracy: 0.9834150671958923\n"
     ]
    }
   ],
   "source": [
    "val_loss, val_accuracy = model.evaluate(val_ds)\n",
    "print(f'Validation Loss: {val_loss}, Validation Accuracy: {val_accuracy}')"
   ]
  },
  {
   "cell_type": "markdown",
   "metadata": {
    "id": "pb-l5Xg1w8NP"
   },
   "source": [
    "#### we reached the accuracy of 98 on the validation data"
   ]
  },
  {
   "cell_type": "markdown",
   "metadata": {
    "id": "ldbQqCw2Xc1W"
   },
   "source": [
    "### Create a plot of accuracy and loss over time\n",
    "\n",
    "`model.fit()` returns a `History` object that contains a dictionary with everything that happened during training:"
   ]
  },
  {
   "cell_type": "code",
   "execution_count": 31,
   "metadata": {
    "colab": {
     "base_uri": "https://localhost:8080/"
    },
    "id": "-YcvZsdvWfDf",
    "outputId": "23264505-55a2-4954-b0b9-26e8463af8fd"
   },
   "outputs": [
    {
     "data": {
      "text/plain": [
       "dict_keys(['accuracy', 'loss', 'val_accuracy', 'val_loss', 'learning_rate'])"
      ]
     },
     "execution_count": 31,
     "metadata": {},
     "output_type": "execute_result"
    }
   ],
   "source": [
    "history_dict = history.history\n",
    "history_dict.keys()"
   ]
  },
  {
   "cell_type": "code",
   "execution_count": 32,
   "metadata": {
    "colab": {
     "base_uri": "https://localhost:8080/",
     "height": 472
    },
    "id": "2SEMeQ5YXs8z",
    "outputId": "172cd9ec-c809-476f-b67a-64a3659d91a1"
   },
   "outputs": [
    {
     "data": {
      "image/png": "[encoded data removed]",
      "text/plain": [
       "<Figure size 640x480 with 1 Axes>"
      ]
     },
     "metadata": {},
     "output_type": "display_data"
    }
   ],
   "source": [
    "acc = history_dict['accuracy']\n",
    "val_acc = history_dict['val_accuracy']\n",
    "loss = history_dict['loss']\n",
    "val_loss = history_dict['val_loss']\n",
    "\n",
    "epochs = range(1, len(acc) + 1)\n",
    "\n",
    "# \"bo\" is for \"blue dot\"\n",
    "plt.plot(epochs, loss, 'bo', label='Training loss')\n",
    "# b is for \"solid blue line\"\n",
    "plt.plot(epochs, val_loss, 'b', label='Validation loss')\n",
    "plt.title('Training and validation loss')\n",
    "plt.xlabel('Epochs')\n",
    "plt.ylabel('Loss')\n",
    "plt.legend()\n",
    "\n",
    "plt.show()"
   ]
  },
  {
   "cell_type": "code",
   "execution_count": 33,
   "metadata": {
    "colab": {
     "base_uri": "https://localhost:8080/",
     "height": 472
    },
    "id": "Z3PJemLPXwz_",
    "outputId": "1b062f56-b4c3-4f4c-99e0-5e878f6d51b7"
   },
   "outputs": [
    {
     "data": {
      "image/png": "[encoded data removed]",
      "text/plain": [
       "<Figure size 640x480 with 1 Axes>"
      ]
     },
     "metadata": {},
     "output_type": "display_data"
    }
   ],
   "source": [
    "plt.plot(epochs, acc, 'bo', label='Training acc')\n",
    "plt.plot(epochs, val_acc, 'b', label='Validation acc')\n",
    "plt.title('Training and validation accuracy')\n",
    "plt.xlabel('Epochs')\n",
    "plt.ylabel('Accuracy')\n",
    "plt.legend(loc='lower right')\n",
    "\n",
    "plt.show()"
   ]
  },
  {
   "cell_type": "markdown",
   "metadata": {
    "id": "-to23J3Vy5d3"
   },
   "source": [
    "## Export the model\n"
   ]
  },
  {
   "cell_type": "code",
   "execution_count": 37,
   "metadata": {
    "colab": {
     "base_uri": "https://localhost:8080/"
    },
    "id": "FWXsMvryuZuq",
    "outputId": "d6f067df-4ec1-44f1-c90b-a6ee0237f711"
   },
   "outputs": [
    {
     "name": "stdout",
     "output_type": "stream",
     "text": [
      "\u001b[1m217/217\u001b[0m \u001b[32m━━━━━━━━━━━━━━━━━━━━\u001b[0m\u001b[37m\u001b[0m \u001b[1m2s\u001b[0m 6ms/step - accuracy: 0.9853 - loss: 0.0000e+00\n",
      "[0.0, 0.0, 0.9834150671958923, 0.9834150671958923]\n"
     ]
    }
   ],
   "source": [
    "export_model = tf.keras.Sequential([\n",
    "  vectorize_layer,\n",
    "  model,\n",
    "  layers.Activation('softmax')\n",
    "])\n",
    "\n",
    "export_model.compile(\n",
    "    loss=losses.SparseCategoricalCrossentropy(from_logits=False), optimizer=\"adam\", metrics=['accuracy']\n",
    ")\n",
    "\n",
    "# Test it with `raw_test_ds`, which yields raw strings\n",
    "a = export_model.evaluate(raw_val_ds)\n",
    "print(a)"
   ]
  },
  {
   "cell_type": "markdown",
   "metadata": {
    "id": "TwQgoN88LoEF"
   },
   "source": [
    "### Inference on new data\n"
   ]
  },
  {
   "cell_type": "code",
   "execution_count": 38,
   "metadata": {
    "id": "Phe8a8sQef1k"
   },
   "outputs": [],
   "source": [
    "import numpy as np"
   ]
  },
  {
   "cell_type": "code",
   "execution_count": 48,
   "metadata": {
    "colab": {
     "base_uri": "https://localhost:8080/"
    },
    "id": "QW355HH5L49K",
    "outputId": "49b69a63-bc38-4452-9e41-59a8889389be"
   },
   "outputs": [
    {
     "name": "stdout",
     "output_type": "stream",
     "text": [
      "\u001b[1m1/1\u001b[0m \u001b[32m━━━━━━━━━━━━━━━━━━━━\u001b[0m\u001b[37m\u001b[0m \u001b[1m0s\u001b[0m 51ms/step\n",
      "بهداشت و سلامت\n",
      "فناوری و علوم کاربردی و تکنولوژی\n",
      "جغرافیا و مکانها\n"
     ]
    }
   ],
   "source": [
    "examples = tf.convert_to_tensor([\n",
    "  \"استفاده از الکل صنعتی برای ضدعفونی کردن توصیه نمیشود.\",\n",
    "  \"علوم کامپیوتر رشته ای مجزا از مهندسی کامپیوتر است و بر ریاضیات تمرکز دارد.\",\n",
    "  \"دهلی یکی از مهم ترین شهر های هند محسوب میشود.\"\n",
    "])\n",
    "\n",
    "p = export_model.predict(examples)\n",
    "results = np.argmax(p, axis=1)\n",
    "\n",
    "for r in results:\n",
    "  print(raw_train_ds.class_names[r])"
   ]
  },
  {
   "cell_type": "markdown",
   "metadata": {
    "id": "1uIT-BjRzboE"
   },
   "source": [
    "## Confusion matrix"
   ]
  },
  {
   "cell_type": "code",
   "execution_count": 49,
   "metadata": {
    "id": "EDAZrUkizlE5"
   },
   "outputs": [],
   "source": [
    "features = raw_val_ds.map(lambda x, y: x)\n",
    "labels = raw_val_ds.map(lambda x, y: y)"
   ]
  },
  {
   "cell_type": "code",
   "execution_count": 50,
   "metadata": {
    "colab": {
     "base_uri": "https://localhost:8080/"
    },
    "id": "bFDceDRP0Fln",
    "outputId": "77322258-d08d-4b9b-be48-09b938e70500"
   },
   "outputs": [
    {
     "name": "stdout",
     "output_type": "stream",
     "text": [
      "\u001b[1m217/217\u001b[0m \u001b[32m━━━━━━━━━━━━━━━━━━━━\u001b[0m\u001b[37m\u001b[0m \u001b[1m1s\u001b[0m 3ms/step\n"
     ]
    }
   ],
   "source": [
    "predictions = export_model.predict(features)\n",
    "predicted_classes = tf.math.argmax(predictions, axis=-1)"
   ]
  },
  {
   "cell_type": "code",
   "execution_count": 51,
   "metadata": {
    "id": "dgA7adbq2RDW"
   },
   "outputs": [],
   "source": [
    "# Get the actual data from the MapDataset object\n",
    "labels_list = list(labels.as_numpy_iterator())\n",
    "\n",
    "# Flatten the batched labels\n",
    "labels = np.concatenate(labels_list, axis=0)"
   ]
  },
  {
   "cell_type": "code",
   "execution_count": 52,
   "metadata": {
    "colab": {
     "base_uri": "https://localhost:8080/"
    },
    "id": "jFOQiPbW0ka0",
    "outputId": "e9a94f48-9428-4183-eefd-47c65851eff4"
   },
   "outputs": [
    {
     "data": {
      "text/plain": [
       "<tf.Tensor: shape=(6, 6), dtype=int32, numpy=\n",
       "array([[  22,  206,    4,    3,   70,   66],\n",
       "       [ 206, 2269,   46,   28,  731,  687],\n",
       "       [   4,   49,    2,    1,   14,   16],\n",
       "       [   3,   45,    0,    1,   14,   11],\n",
       "       [  82,  715,   12,   13,  244,  202],\n",
       "       [  61,  674,   15,   10,  218,  190]], dtype=int32)>"
      ]
     },
     "execution_count": 52,
     "metadata": {},
     "output_type": "execute_result"
    }
   ],
   "source": [
    "confusion_mtx = tf.math.confusion_matrix(labels, predicted_classes)\n",
    "confusion_mtx"
   ]
  },
  {
   "cell_type": "code",
   "execution_count": 53,
   "metadata": {
    "colab": {
     "base_uri": "https://localhost:8080/"
    },
    "id": "zstOpPdB7Ml9",
    "outputId": "acbc1653-2326-4790-9e16-4fddbd157d47"
   },
   "outputs": [
    {
     "name": "stdout",
     "output_type": "stream",
     "text": [
      "Collecting arabic_reshaper\n",
      "  Downloading arabic_reshaper-3.0.0-py3-none-any.whl.metadata (12 kB)\n",
      "Downloading arabic_reshaper-3.0.0-py3-none-any.whl (20 kB)\n",
      "Installing collected packages: arabic_reshaper\n",
      "Successfully installed arabic_reshaper-3.0.0\n",
      "Collecting python-bidi\n",
      "  Downloading python_bidi-0.6.3-cp310-cp310-manylinux_2_17_x86_64.manylinux2014_x86_64.whl.metadata (4.9 kB)\n",
      "Downloading python_bidi-0.6.3-cp310-cp310-manylinux_2_17_x86_64.manylinux2014_x86_64.whl (286 kB)\n",
      "\u001b[2K   \u001b[90m━━━━━━━━━━━━━━━━━━━━━━━━━━━━━━━━━━━━━━━━\u001b[0m \u001b[32m286.8/286.8 kB\u001b[0m \u001b[31m6.9 MB/s\u001b[0m eta \u001b[36m0:00:00\u001b[0m\n",
      "\u001b[?25hInstalling collected packages: python-bidi\n",
      "Successfully installed python-bidi-0.6.3\n"
     ]
    }
   ],
   "source": [
    "!pip install arabic_reshaper\n",
    "!pip install python-bidi"
   ]
  },
  {
   "cell_type": "code",
   "execution_count": 55,
   "metadata": {
    "colab": {
     "base_uri": "https://localhost:8080/",
     "height": 589
    },
    "id": "Kd-rKMFP9HWk",
    "outputId": "1e734f74-4cd0-488e-953d-7a6cc6e43da8"
   },
   "outputs": [
    {
     "data": {
      "image/png": "[encoded data removed]",
      "text/plain": [
       "<Figure size 640x480 with 2 Axes>"
      ]
     },
     "metadata": {},
     "output_type": "display_data"
    }
   ],
   "source": [
    "import seaborn as sns\n",
    "import arabic_reshaper\n",
    "from bidi.algorithm import get_display\n",
    "\n",
    "def convert_text(t):\n",
    "    reshaped_text = arabic_reshaper.reshape(t) # seperated chars problem\n",
    "    bidi_text = get_display(reshaped_text) #direction problem\n",
    "    text = bidi_text.encode().decode('utf-8') #encoding problem (rectangular boxes!)\n",
    "    return text\n",
    "\n",
    "class_names = [convert_text(t) for t in raw_train_ds.class_names]\n",
    "\n",
    "sns.heatmap(confusion_mtx, annot=True, fmt='d', cmap='Blues')\n",
    "plt.xlabel('Predicted')\n",
    "plt.ylabel('Actual')\n",
    "plt.xticks(np.arange(len(class_names))+0.5, class_names, rotation=45)\n",
    "plt.yticks(np.arange(len(class_names))+0.5, class_names, rotation=0)\n",
    "\n",
    "plt.show()"
   ]
  },
  {
   "cell_type": "code",
   "execution_count": 56,
   "metadata": {
    "colab": {
     "base_uri": "https://localhost:8080/"
    },
    "id": "f4j_EJrQ0Qz7",
    "outputId": "86aac9d4-7e10-4aee-927a-07bd3783d567"
   },
   "outputs": [
    {
     "name": "stdout",
     "output_type": "stream",
     "text": [
      "Label 0 corresponds to بهداشت و سلامت\n",
      "Label 1 corresponds to جغرافیا و مکانها\n",
      "Label 2 corresponds to دین و اعتقاد\n",
      "Label 3 corresponds to ریاضیات\n",
      "Label 4 corresponds to فناوری و علوم کاربردی و تکنولوژی\n",
      "Label 5 corresponds to ورزش\n",
      "              precision    recall  f1-score   support\n",
      "\n",
      "           0       0.06      0.06      0.06       371\n",
      "           1       0.57      0.57      0.57      3967\n",
      "           2       0.03      0.02      0.02        86\n",
      "           3       0.02      0.01      0.02        74\n",
      "           4       0.19      0.19      0.19      1268\n",
      "           5       0.16      0.16      0.16      1168\n",
      "\n",
      "    accuracy                           0.39      6934\n",
      "   macro avg       0.17      0.17      0.17      6934\n",
      "weighted avg       0.39      0.39      0.39      6934\n",
      "\n"
     ]
    }
   ],
   "source": [
    "from sklearn.metrics import classification_report\n",
    "report = classification_report(labels, predicted_classes)\n",
    "\n",
    "for i in range(6):\n",
    "  print(\"Label {} corresponds to {}\".format(i, raw_train_ds.class_names[i]))\n",
    "print(report)"
   ]
  }
 ],
 "metadata": {
  "accelerator": "GPU",
  "colab": {
   "gpuType": "T4",
   "provenance": []
  },
  "kernelspec": {
   "display_name": "Python 3 (ipykernel)",
   "language": "python",
   "name": "python3"
  },
  "language_info": {
   "codemirror_mode": {
    "name": "ipython",
    "version": 3
   },
   "file_extension": ".py",
   "mimetype": "text/x-python",
   "name": "python",
   "nbconvert_exporter": "python",
   "pygments_lexer": "ipython3",
   "version": "3.10.8"
  }
 },
 "nbformat": 4,
 "nbformat_minor": 1
}
